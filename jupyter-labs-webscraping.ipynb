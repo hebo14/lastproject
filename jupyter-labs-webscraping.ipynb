{
    "cells": [
        {
            "metadata": {
                "cell_id": "078f48e3cd5f48eab5f294a720e679b6",
                "deepnote_cell_height": 251.61666870117188,
                "deepnote_cell_type": "markdown"
            },
            "cell_type": "markdown",
            "source": "<p style=\"text-align:center\">\n    <a href=\"https://skills.network/?utm_medium=Exinfluencer&utm_source=Exinfluencer&utm_content=000026UJ&utm_term=10006555&utm_id=NA-SkillsNetwork-Channel-SkillsNetworkCoursesIBMDS0321ENSkillsNetwork26802033-2022-01-01\" target=\"_blank\">\n    <img src=\"https://cf-courses-data.s3.us.cloud-object-storage.appdomain.cloud/assets/logos/SN_web_lightmode.png\" width=\"200\" alt=\"Skills Network Logo\"  />\n    </a>\n</p>\n"
        },
        {
            "metadata": {
                "cell_id": "c2f79cc7449f4dfbbf1cd4998b94bc58",
                "deepnote_cell_height": 133.8333282470703,
                "deepnote_cell_type": "markdown"
            },
            "cell_type": "markdown",
            "source": "# **Space X  Falcon 9 First Stage Landing Prediction**\n"
        },
        {
            "metadata": {
                "cell_id": "c937bcd5425240a0b23a5f97bdc1147b",
                "deepnote_cell_height": 109.83332824707031,
                "deepnote_cell_type": "markdown"
            },
            "cell_type": "markdown",
            "source": "## Web scraping Falcon 9 and Falcon Heavy Launches Records from Wikipedia\n"
        },
        {
            "metadata": {
                "cell_id": "637ebbced6ff43a0b83f7e3a5342f2fc",
                "deepnote_cell_height": 52.23333740234375,
                "deepnote_cell_type": "markdown"
            },
            "cell_type": "markdown",
            "source": "Estimated time needed: **40** minutes\n"
        },
        {
            "metadata": {
                "cell_id": "daf14b9ce5b749d9858ca18c0058d7fc",
                "deepnote_cell_height": 111.03334045410156,
                "deepnote_cell_type": "markdown"
            },
            "cell_type": "markdown",
            "source": "In this lab, you will be performing web scraping to collect Falcon 9 historical launch records from a Wikipedia page titled `List of Falcon 9 and Falcon Heavy launches`\n\n[https://en.wikipedia.org/wiki/List_of_Falcon\\_9\\_and_Falcon_Heavy_launches](https://en.wikipedia.org/wiki/List_of_Falcon\\_9\\_and_Falcon_Heavy_launches?utm_medium=Exinfluencer&utm_source=Exinfluencer&utm_content=000026UJ&utm_term=10006555&utm_id=NA-SkillsNetwork-Channel-SkillsNetworkCoursesIBMDS0321ENSkillsNetwork26802033-2022-01-01)\n"
        },
        {
            "metadata": {
                "cell_id": "344b40cf354b41a086a5ed92ee3cbb2d",
                "deepnote_cell_height": 458.73333740234375,
                "deepnote_cell_type": "markdown"
            },
            "cell_type": "markdown",
            "source": "![](https://cf-courses-data.s3.us.cloud-object-storage.appdomain.cloud/IBM-DS0321EN-SkillsNetwork/labs/module\\_1\\_L2/images/Falcon9\\_rocket_family.svg)\n"
        },
        {
            "metadata": {
                "cell_id": "b0c6367fd6ab42fe9be4e738af2f14e1",
                "deepnote_cell_height": 52.23333740234375,
                "deepnote_cell_type": "markdown"
            },
            "cell_type": "markdown",
            "source": "Falcon 9 first stage will land successfully\n"
        },
        {
            "metadata": {
                "cell_id": "ebf3d7a6fe404822863d453d3a27aa78",
                "deepnote_cell_height": 333.83331298828125,
                "deepnote_cell_type": "markdown"
            },
            "cell_type": "markdown",
            "source": "![](https://cf-courses-data.s3.us.cloud-object-storage.appdomain.cloud/IBMDeveloperSkillsNetwork-DS0701EN-SkillsNetwork/api/Images/landing\\_1.gif)\n"
        },
        {
            "metadata": {
                "cell_id": "75772730536b4f7fb719f1e7a9b08aba",
                "deepnote_cell_height": 52.23333740234375,
                "deepnote_cell_type": "markdown"
            },
            "cell_type": "markdown",
            "source": "Several examples of an unsuccessful landing are shown here:\n"
        },
        {
            "metadata": {
                "cell_id": "1c1e5b220e724a2580e58d0d14467447",
                "deepnote_cell_height": 302.83331298828125,
                "deepnote_cell_type": "markdown"
            },
            "cell_type": "markdown",
            "source": "![](https://cf-courses-data.s3.us.cloud-object-storage.appdomain.cloud/IBMDeveloperSkillsNetwork-DS0701EN-SkillsNetwork/api/Images/crash.gif)\n"
        },
        {
            "metadata": {
                "cell_id": "abcc68f45e4148529710dd4a52de317f",
                "deepnote_cell_height": 52.23333740234375,
                "deepnote_cell_type": "markdown"
            },
            "cell_type": "markdown",
            "source": "More specifically, the launch records are stored in a HTML table shown below:\n"
        },
        {
            "metadata": {
                "cell_id": "cbc664ef02e547edb250b0949180c575",
                "deepnote_cell_height": 419.1166687011719,
                "deepnote_cell_type": "markdown"
            },
            "cell_type": "markdown",
            "source": "![](https://cf-courses-data.s3.us.cloud-object-storage.appdomain.cloud/IBM-DS0321EN-SkillsNetwork/labs/module\\_1\\_L2/images/falcon9-launches-wiki.png)\n"
        },
        {
            "metadata": {
                "cell_id": "2aefcd4aa29e4822a3d7dd9eb3aa4452",
                "deepnote_cell_height": 184.96665954589844,
                "deepnote_cell_type": "markdown"
            },
            "cell_type": "markdown",
            "source": "## Objectives\n\nWeb scrap Falcon 9 launch records with `BeautifulSoup`:\n\n*   Extract a Falcon 9 launch records HTML table from Wikipedia\n*   Parse the table and convert it into a Pandas data frame\n"
        },
        {
            "metadata": {
                "cell_id": "9a13f3f9352d4f69ab34cdb1b8be38a5",
                "deepnote_cell_height": 52.23333740234375,
                "deepnote_cell_type": "markdown"
            },
            "cell_type": "markdown",
            "source": "First let's import required packages for this lab\n"
        },
        {
            "metadata": {
                "cell_id": "af8a7f0d086c49198a2ff9fd38366a23",
                "source_hash": "dd601b9a",
                "execution_start": 1661441235172,
                "execution_millis": 10500,
                "deepnote_to_be_reexecuted": false,
                "deepnote_cell_type": "code"
            },
            "cell_type": "code",
            "source": "!pip3 install beautifulsoup4\n!pip3 install requests",
            "execution_count": 1,
            "outputs": [
                {
                    "output_type": "stream",
                    "text": "Requirement already satisfied: beautifulsoup4 in /opt/conda/envs/Python-3.9/lib/python3.9/site-packages (4.10.0)\nRequirement already satisfied: soupsieve>1.2 in /opt/conda/envs/Python-3.9/lib/python3.9/site-packages (from beautifulsoup4) (2.3.1)\nRequirement already satisfied: requests in /opt/conda/envs/Python-3.9/lib/python3.9/site-packages (2.26.0)\nRequirement already satisfied: certifi>=2017.4.17 in /opt/conda/envs/Python-3.9/lib/python3.9/site-packages (from requests) (2022.6.15)\nRequirement already satisfied: urllib3<1.27,>=1.21.1 in /opt/conda/envs/Python-3.9/lib/python3.9/site-packages (from requests) (1.26.7)\nRequirement already satisfied: idna<4,>=2.5 in /opt/conda/envs/Python-3.9/lib/python3.9/site-packages (from requests) (3.3)\nRequirement already satisfied: charset-normalizer~=2.0.0 in /opt/conda/envs/Python-3.9/lib/python3.9/site-packages (from requests) (2.0.4)\n",
                    "name": "stdout"
                }
            ]
        },
        {
            "metadata": {
                "cell_id": "41a4c7f3a7684b8284f2a6b5d554b9b5",
                "source_hash": "5e619931",
                "execution_start": 1661441245053,
                "execution_millis": 139,
                "deepnote_to_be_reexecuted": false,
                "deepnote_cell_type": "code"
            },
            "cell_type": "code",
            "source": "import sys\n\nimport requests\nfrom bs4 import BeautifulSoup\nimport re\nimport unicodedata\nimport pandas as pd",
            "execution_count": 2,
            "outputs": []
        },
        {
            "metadata": {
                "cell_id": "f9c1265aa82e47f9a03d1fef0fe3ad97",
                "deepnote_cell_height": 52.23333740234375,
                "deepnote_cell_type": "markdown"
            },
            "cell_type": "markdown",
            "source": "and we will provide some helper functions for you to process web scraped HTML table\n"
        },
        {
            "metadata": {
                "cell_id": "46d80eda52fe470db526cb298ffa2b77",
                "source_hash": "98fb4310",
                "execution_start": 1661441245237,
                "execution_millis": 0,
                "deepnote_to_be_reexecuted": false,
                "deepnote_cell_type": "code"
            },
            "cell_type": "code",
            "source": "def date_time(table_cells):\n    \"\"\"\n    This function returns the data and time from the HTML  table cell\n    Input: the  element of a table data cell extracts extra row\n    \"\"\"\n    return [data_time.strip() for data_time in list(table_cells.strings)][0:2]\n\ndef booster_version(table_cells):\n    \"\"\"\n    This function returns the booster version from the HTML  table cell \n    Input: the  element of a table data cell extracts extra row\n    \"\"\"\n    out=''.join([booster_version for i,booster_version in enumerate( table_cells.strings) if i%2==0][0:-1])\n    return out\n\ndef landing_status(table_cells):\n    \"\"\"\n    This function returns the landing status from the HTML table cell \n    Input: the  element of a table data cell extracts extra row\n    \"\"\"\n    out=[i for i in table_cells.strings][0]\n    return out\n\n\ndef get_mass(table_cells):\n    mass=unicodedata.normalize(\"NFKD\", table_cells.text).strip()\n    if mass:\n        mass.find(\"kg\")\n        new_mass=mass[0:mass.find(\"kg\")+2]\n    else:\n        new_mass=0\n    return new_mass\n\n\ndef extract_column_from_header(row):\n    \"\"\"\n    This function returns the landing status from the HTML table cell \n    Input: the  element of a table data cell extracts extra row\n    \"\"\"\n    if (row.br):\n        row.br.extract()\n    if row.a:\n        row.a.extract()\n    if row.sup:\n        row.sup.extract()\n        \n    colunm_name = ' '.join(row.contents)\n    \n    # Filter the digit and empty names\n    if not(colunm_name.strip().isdigit()):\n        colunm_name = colunm_name.strip()\n        return colunm_name    \n",
            "execution_count": 3,
            "outputs": []
        },
        {
            "metadata": {
                "cell_id": "0e3dd41d5be3485c9596fb79ab218669",
                "deepnote_cell_height": 97.03334045410156,
                "deepnote_cell_type": "markdown"
            },
            "cell_type": "markdown",
            "source": "To keep the lab tasks consistent, you will be asked to scrape the data from a snapshot of the  `List of Falcon 9 and Falcon Heavy launches` Wikipage updated on\n`9th June 2021`\n"
        },
        {
            "metadata": {
                "cell_id": "cb8c346fbaee41cdbc5d231384523256",
                "source_hash": "4593f296",
                "execution_start": 1661441245238,
                "execution_millis": 0,
                "deepnote_to_be_reexecuted": false,
                "deepnote_cell_type": "code"
            },
            "cell_type": "code",
            "source": "static_url = \"https://en.wikipedia.org/w/index.php?title=List_of_Falcon_9_and_Falcon_Heavy_launches&oldid=1027686922\"",
            "execution_count": 4,
            "outputs": []
        },
        {
            "metadata": {
                "cell_id": "bc489a2e61124dc08c5dfbfba895410d",
                "deepnote_cell_height": 52.23333740234375,
                "deepnote_cell_type": "markdown"
            },
            "cell_type": "markdown",
            "source": "Next, request the HTML page from the above URL and get a `response` object\n"
        },
        {
            "metadata": {
                "cell_id": "1b1950fff04749b59a8f0b8e24880440",
                "deepnote_cell_height": 61.83332824707031,
                "deepnote_cell_type": "markdown"
            },
            "cell_type": "markdown",
            "source": "### TASK 1: Request the Falcon9 Launch Wiki page from its URL\n"
        },
        {
            "metadata": {
                "cell_id": "069e81c1a17b4c5cb68e0673ac5303fd",
                "deepnote_cell_height": 74.63333129882812,
                "deepnote_cell_type": "markdown"
            },
            "cell_type": "markdown",
            "source": "First, let's perform an HTTP GET method to request the Falcon9 Launch HTML page, as an HTTP response.\n"
        },
        {
            "metadata": {
                "cell_id": "72bd38dad1de4c55b519f3538aa6291d",
                "source_hash": "c1eaee14",
                "execution_start": 1661441245239,
                "execution_millis": 582,
                "deepnote_to_be_reexecuted": false,
                "deepnote_cell_type": "code"
            },
            "cell_type": "code",
            "source": "# use requests.get() method with the provided static_url\ndata = requests.get(static_url).text\n# assign the response to a object\ndata",
            "execution_count": 5,
            "outputs": []
        },
        {
            "metadata": {
                "cell_id": "38b09d90ea16421cae203f5938deb351",
                "deepnote_cell_height": 52.23333740234375,
                "deepnote_cell_type": "markdown"
            },
            "cell_type": "markdown",
            "source": "Create a `BeautifulSoup` object from the HTML `response`\n"
        },
        {
            "metadata": {
                "cell_id": "b3301beb65bb4835a8ff0580b811f5c6",
                "source_hash": "2fb0de41",
                "execution_start": 1661441245631,
                "execution_millis": 1085,
                "deepnote_to_be_reexecuted": false,
                "deepnote_cell_type": "code"
            },
            "cell_type": "code",
            "source": "# Use BeautifulSoup() to create a BeautifulSoup object from a response text content\nsoup = BeautifulSoup(data, \"html.parser\")",
            "execution_count": null,
            "outputs": []
        },
        {
            "metadata": {
                "cell_id": "4673d89015ae4c5b9db6cc34378fa18e",
                "deepnote_cell_height": 52.23333740234375,
                "deepnote_cell_type": "markdown"
            },
            "cell_type": "markdown",
            "source": "Print the page title to verify if the `BeautifulSoup` object was created properly\n"
        },
        {
            "metadata": {
                "cell_id": "112c0e87146e448c928109ebdb8ca403",
                "source_hash": "acd64f88",
                "execution_start": 1661441246721,
                "execution_millis": 6,
                "deepnote_to_be_reexecuted": false,
                "deepnote_cell_type": "code"
            },
            "cell_type": "code",
            "source": "# Use soup.title attribute\nsoup.title",
            "execution_count": 7,
            "outputs": [
                {
                    "output_type": "execute_result",
                    "execution_count": 7,
                    "data": {
                        "text/plain": "<title>List of Falcon 9 and Falcon Heavy launches - Wikipedia</title>"
                    },
                    "metadata": {}
                }
            ]
        },
        {
            "metadata": {
                "cell_id": "83c04503f87644f1800a9f75fbee2b06",
                "deepnote_cell_height": 93.83332824707031,
                "deepnote_cell_type": "markdown"
            },
            "cell_type": "markdown",
            "source": "### TASK 2: Extract all column/variable names from the HTML table header\n"
        },
        {
            "metadata": {
                "cell_id": "0ed3ef61fa974c4ea11d8cf46a086064",
                "deepnote_cell_height": 52.23333740234375,
                "deepnote_cell_type": "markdown"
            },
            "cell_type": "markdown",
            "source": "Next, we want to collect all relevant column names from the HTML table header\n"
        },
        {
            "metadata": {
                "cell_id": "13e596aa1f614f7fbda32afaca0036d3",
                "deepnote_cell_height": 74.63333129882812,
                "deepnote_cell_type": "markdown"
            },
            "cell_type": "markdown",
            "source": "Let's try to find all tables on the wiki page first. If you need to refresh your memory about `BeautifulSoup`, please check the external reference link towards the end of this lab\n"
        },
        {
            "metadata": {
                "cell_id": "c7f0741a1ca84c2690930caed38b01ab",
                "source_hash": "ce3d0611",
                "execution_start": 1661441246727,
                "execution_millis": 38,
                "deepnote_to_be_reexecuted": false,
                "deepnote_cell_type": "code"
            },
            "cell_type": "code",
            "source": "# Use the find_all function in the BeautifulSoup object, with element type `table`\n# Assign the result to a list called `html_tables`\nhtml_tables = soup.find_all('table')",
            "execution_count": 8,
            "outputs": []
        },
        {
            "metadata": {
                "cell_id": "5504b4e8c27147a4b8da3c1db43f718d",
                "deepnote_cell_height": 52.23333740234375,
                "deepnote_cell_type": "markdown"
            },
            "cell_type": "markdown",
            "source": "Starting from the third table is our target table contains the actual launch records.\n"
        },
        {
            "metadata": {
                "cell_id": "0dd883db7f7e41798aad53a224116259",
                "source_hash": "8d77cf62",
                "execution_start": 1661441246778,
                "execution_millis": 9,
                "deepnote_to_be_reexecuted": false,
                "deepnote_cell_type": "code"
            },
            "cell_type": "code",
            "source": "# Let's print the third table and check its content\nfirst_launch_table = html_tables[2]\nprint(first_launch_table)",
            "execution_count": 9,
            "outputs": [
                {
                    "name": "stdout",
                    "text": "<table class=\"wikitable plainrowheaders collapsible\" style=\"width: 100%;\">\n<tbody><tr>\n<th scope=\"col\">Flight No.\n</th>\n<th scope=\"col\">Date and<br/>time (<a href=\"/wiki/Coordinated_Universal_Time\" title=\"Coordinated Universal Time\">UTC</a>)\n</th>\n<th scope=\"col\"><a href=\"/wiki/List_of_Falcon_9_first-stage_boosters\" title=\"List of Falcon 9 first-stage boosters\">Version,<br/>Booster</a> <sup class=\"reference\" id=\"cite_ref-booster_11-0\"><a href=\"#cite_note-booster-11\">[b]</a></sup>\n</th>\n<th scope=\"col\">Launch site\n</th>\n<th scope=\"col\">Payload<sup class=\"reference\" id=\"cite_ref-Dragon_12-0\"><a href=\"#cite_note-Dragon-12\">[c]</a></sup>\n</th>\n<th scope=\"col\">Payload mass\n</th>\n<th scope=\"col\">Orbit\n</th>\n<th scope=\"col\">Customer\n</th>\n<th scope=\"col\">Launch<br/>outcome\n</th>\n<th scope=\"col\"><a href=\"/wiki/Falcon_9_first-stage_landing_tests\" title=\"Falcon 9 first-stage landing tests\">Booster<br/>landing</a>\n</th></tr>\n<tr>\n<th rowspan=\"2\" scope=\"row\" style=\"text-align:center;\">1\n</th>\n<td>4 June 2010,<br/>18:45\n</td>\n<td><a href=\"/wiki/Falcon_9_v1.0\" title=\"Falcon 9 v1.0\">F9 v1.0</a><sup class=\"reference\" id=\"cite_ref-MuskMay2012_13-0\"><a href=\"#cite_note-MuskMay2012-13\">[7]</a></sup><br/>B0003.1<sup class=\"reference\" id=\"cite_ref-block_numbers_14-0\"><a href=\"#cite_note-block_numbers-14\">[8]</a></sup>\n</td>\n<td><a href=\"/wiki/Cape_Canaveral_Space_Force_Station\" title=\"Cape Canaveral Space Force Station\">CCAFS</a>,<br/><a href=\"/wiki/Cape_Canaveral_Space_Launch_Complex_40\" title=\"Cape Canaveral Space Launch Complex 40\">SLC-40</a>\n</td>\n<td><a href=\"/wiki/Dragon_Spacecraft_Qualification_Unit\" title=\"Dragon Spacecraft Qualification Unit\">Dragon Spacecraft Qualification Unit</a>\n</td>\n<td>\n</td>\n<td><a href=\"/wiki/Low_Earth_orbit\" title=\"Low Earth orbit\">LEO</a>\n</td>\n<td><a href=\"/wiki/SpaceX\" title=\"SpaceX\">SpaceX</a>\n</td>\n<td class=\"table-success\" style=\"background: #9EFF9E; vertical-align: middle; text-align: center;\">Success\n</td>\n<td class=\"table-failure\" style=\"background: #FFC7C7; vertical-align: middle; text-align: center;\">Failure<sup class=\"reference\" id=\"cite_ref-ns20110930_15-0\"><a href=\"#cite_note-ns20110930-15\">[9]</a></sup><sup class=\"reference\" id=\"cite_ref-16\"><a href=\"#cite_note-16\">[10]</a></sup><br/><small>(parachute)</small>\n</td></tr>\n<tr>\n<td colspan=\"9\">First flight of Falcon 9 v1.0.<sup class=\"reference\" id=\"cite_ref-sfn20100604_17-0\"><a href=\"#cite_note-sfn20100604-17\">[11]</a></sup> Used a boilerplate version of Dragon capsule which was not designed to separate from the second stage.<small>(<a href=\"#First_flight_of_Falcon_9\">more details below</a>)</small> Attempted to recover the first stage by parachuting it into the ocean, but it burned up on reentry, before the parachutes even deployed.<sup class=\"reference\" id=\"cite_ref-parachute_18-0\"><a href=\"#cite_note-parachute-18\">[12]</a></sup>\n</td></tr>\n<tr>\n<th rowspan=\"2\" scope=\"row\" style=\"text-align:center;\">2\n</th>\n<td>8 December 2010,<br/>15:43<sup class=\"reference\" id=\"cite_ref-spaceflightnow_Clark_Launch_Report_19-0\"><a href=\"#cite_note-spaceflightnow_Clark_Launch_Report-19\">[13]</a></sup>\n</td>\n<td><a href=\"/wiki/Falcon_9_v1.0\" title=\"Falcon 9 v1.0\">F9 v1.0</a><sup class=\"reference\" id=\"cite_ref-MuskMay2012_13-1\"><a href=\"#cite_note-MuskMay2012-13\">[7]</a></sup><br/>B0004.1<sup class=\"reference\" id=\"cite_ref-block_numbers_14-1\"><a href=\"#cite_note-block_numbers-14\">[8]</a></sup>\n</td>\n<td><a href=\"/wiki/Cape_Canaveral_Space_Force_Station\" title=\"Cape Canaveral Space Force Station\">CCAFS</a>,<br/><a href=\"/wiki/Cape_Canaveral_Space_Launch_Complex_40\" title=\"Cape Canaveral Space Launch Complex 40\">SLC-40</a>\n</td>\n<td><a href=\"/wiki/SpaceX_Dragon\" title=\"SpaceX Dragon\">Dragon</a> <a class=\"mw-redirect\" href=\"/wiki/COTS_Demo_Flight_1\" title=\"COTS Demo Flight 1\">demo flight C1</a><br/>(Dragon C101)\n</td>\n<td>\n</td>\n<td><a href=\"/wiki/Low_Earth_orbit\" title=\"Low Earth orbit\">LEO</a> (<a href=\"/wiki/International_Space_Station\" title=\"International Space Station\">ISS</a>)\n</td>\n<td><div class=\"plainlist\">\n<ul><li><a href=\"/wiki/NASA\" title=\"NASA\">NASA</a> (<a href=\"/wiki/Commercial_Orbital_Transportation_Services\" title=\"Commercial Orbital Transportation Services\">COTS</a>)</li>\n<li><a href=\"/wiki/National_Reconnaissance_Office\" title=\"National Reconnaissance Office\">NRO</a></li></ul>\n</div>\n</td>\n<td class=\"table-success\" style=\"background: #9EFF9E; vertical-align: middle; text-align: center;\">Success<sup class=\"reference\" id=\"cite_ref-ns20110930_15-1\"><a href=\"#cite_note-ns20110930-15\">[9]</a></sup>\n</td>\n<td class=\"table-failure\" style=\"background: #FFC7C7; vertical-align: middle; text-align: center;\">Failure<sup class=\"reference\" id=\"cite_ref-ns20110930_15-2\"><a href=\"#cite_note-ns20110930-15\">[9]</a></sup><sup class=\"reference\" id=\"cite_ref-20\"><a href=\"#cite_note-20\">[14]</a></sup><br/><small>(parachute)</small>\n</td></tr>\n<tr>\n<td colspan=\"9\">Maiden flight of <a class=\"mw-redirect\" href=\"/wiki/Dragon_capsule\" title=\"Dragon capsule\">Dragon capsule</a>, consisting of over 3 hours of testing thruster maneuvering and reentry.<sup class=\"reference\" id=\"cite_ref-spaceflightnow_Clark_unleashing_Dragon_21-0\"><a href=\"#cite_note-spaceflightnow_Clark_unleashing_Dragon-21\">[15]</a></sup> Attempted to recover the first stage by parachuting it into the ocean, but it disintegrated upon reentry, before the parachutes were deployed.<sup class=\"reference\" id=\"cite_ref-parachute_18-1\"><a href=\"#cite_note-parachute-18\">[12]</a></sup> <small>(<a href=\"#COTS_demo_missions\">more details below</a>)</small> It also included two <a href=\"/wiki/CubeSat\" title=\"CubeSat\">CubeSats</a>,<sup class=\"reference\" id=\"cite_ref-NRO_Taps_Boeing_for_Next_Batch_of_CubeSats_22-0\"><a href=\"#cite_note-NRO_Taps_Boeing_for_Next_Batch_of_CubeSats-22\">[16]</a></sup> and a wheel of <a href=\"/wiki/Brou%C3%A8re\" title=\"Brou\u00e8re\">Brou\u00e8re</a> cheese.\n</td></tr>\n<tr>\n<th rowspan=\"2\" scope=\"row\" style=\"text-align:center;\">3\n</th>\n<td>22 May 2012,<br/>07:44<sup class=\"reference\" id=\"cite_ref-BBC_new_era_23-0\"><a href=\"#cite_note-BBC_new_era-23\">[17]</a></sup>\n</td>\n<td><a href=\"/wiki/Falcon_9_v1.0\" title=\"Falcon 9 v1.0\">F9 v1.0</a><sup class=\"reference\" id=\"cite_ref-MuskMay2012_13-2\"><a href=\"#cite_note-MuskMay2012-13\">[7]</a></sup><br/>B0005.1<sup class=\"reference\" id=\"cite_ref-block_numbers_14-2\"><a href=\"#cite_note-block_numbers-14\">[8]</a></sup>\n</td>\n<td><a href=\"/wiki/Cape_Canaveral_Space_Force_Station\" title=\"Cape Canaveral Space Force Station\">CCAFS</a>,<br/><a href=\"/wiki/Cape_Canaveral_Space_Launch_Complex_40\" title=\"Cape Canaveral Space Launch Complex 40\">SLC-40</a>\n</td>\n<td><a href=\"/wiki/SpaceX_Dragon\" title=\"SpaceX Dragon\">Dragon</a> <a class=\"mw-redirect\" href=\"/wiki/Dragon_C2%2B\" title=\"Dragon C2+\">demo flight C2+</a><sup class=\"reference\" id=\"cite_ref-C2_24-0\"><a href=\"#cite_note-C2-24\">[18]</a></sup><br/>(Dragon C102)\n</td>\n<td>525\u00a0kg (1,157\u00a0lb)<sup class=\"reference\" id=\"cite_ref-25\"><a href=\"#cite_note-25\">[19]</a></sup>\n</td>\n<td><a href=\"/wiki/Low_Earth_orbit\" title=\"Low Earth orbit\">LEO</a> (<a href=\"/wiki/International_Space_Station\" title=\"International Space Station\">ISS</a>)\n</td>\n<td><a href=\"/wiki/NASA\" title=\"NASA\">NASA</a> (<a href=\"/wiki/Commercial_Orbital_Transportation_Services\" title=\"Commercial Orbital Transportation Services\">COTS</a>)\n</td>\n<td class=\"table-success\" style=\"background: #9EFF9E; vertical-align: middle; text-align: center;\">Success<sup class=\"reference\" id=\"cite_ref-26\"><a href=\"#cite_note-26\">[20]</a></sup>\n</td>\n<td class=\"table-noAttempt\" style=\"background: #EEE; vertical-align: middle; white-space: nowrap; text-align: center;\">No attempt\n</td></tr>\n<tr>\n<td colspan=\"9\">Dragon spacecraft demonstrated a series of tests before it was allowed to approach the <a href=\"/wiki/International_Space_Station\" title=\"International Space Station\">International Space Station</a>. Two days later, it became the first commercial spacecraft to board the ISS.<sup class=\"reference\" id=\"cite_ref-BBC_new_era_23-1\"><a href=\"#cite_note-BBC_new_era-23\">[17]</a></sup> <small>(<a href=\"#COTS_demo_missions\">more details below</a>)</small>\n</td></tr>\n<tr>\n<th rowspan=\"3\" scope=\"row\" style=\"text-align:center;\">4\n</th>\n<td rowspan=\"2\">8 October 2012,<br/>00:35<sup class=\"reference\" id=\"cite_ref-SFN_LLog_27-0\"><a href=\"#cite_note-SFN_LLog-27\">[21]</a></sup>\n</td>\n<td rowspan=\"2\"><a href=\"/wiki/Falcon_9_v1.0\" title=\"Falcon 9 v1.0\">F9 v1.0</a><sup class=\"reference\" id=\"cite_ref-MuskMay2012_13-3\"><a href=\"#cite_note-MuskMay2012-13\">[7]</a></sup><br/>B0006.1<sup class=\"reference\" id=\"cite_ref-block_numbers_14-3\"><a href=\"#cite_note-block_numbers-14\">[8]</a></sup>\n</td>\n<td rowspan=\"2\"><a href=\"/wiki/Cape_Canaveral_Space_Force_Station\" title=\"Cape Canaveral Space Force Station\">CCAFS</a>,<br/><a href=\"/wiki/Cape_Canaveral_Space_Launch_Complex_40\" title=\"Cape Canaveral Space Launch Complex 40\">SLC-40</a>\n</td>\n<td><a href=\"/wiki/SpaceX_CRS-1\" title=\"SpaceX CRS-1\">SpaceX CRS-1</a><sup class=\"reference\" id=\"cite_ref-sxManifest20120925_28-0\"><a href=\"#cite_note-sxManifest20120925-28\">[22]</a></sup><br/>(Dragon C103)\n</td>\n<td>4,700\u00a0kg (10,400\u00a0lb)\n</td>\n<td><a href=\"/wiki/Low_Earth_orbit\" title=\"Low Earth orbit\">LEO</a> (<a href=\"/wiki/International_Space_Station\" title=\"International Space Station\">ISS</a>)\n</td>\n<td><a href=\"/wiki/NASA\" title=\"NASA\">NASA</a> (<a href=\"/wiki/Commercial_Resupply_Services\" title=\"Commercial Resupply Services\">CRS</a>)\n</td>\n<td class=\"table-success\" style=\"background: #9EFF9E; vertical-align: middle; text-align: center;\">Success\n</td>\n<td rowspan=\"2\" style=\"background:#ececec; text-align:center;\"><span class=\"nowrap\">No attempt</span>\n</td></tr>\n<tr>\n<td><a href=\"/wiki/Orbcomm_(satellite)\" title=\"Orbcomm (satellite)\">Orbcomm-OG2</a><sup class=\"reference\" id=\"cite_ref-Orbcomm_29-0\"><a href=\"#cite_note-Orbcomm-29\">[23]</a></sup>\n</td>\n<td>172\u00a0kg (379\u00a0lb)<sup class=\"reference\" id=\"cite_ref-gunter-og2_30-0\"><a href=\"#cite_note-gunter-og2-30\">[24]</a></sup>\n</td>\n<td><a href=\"/wiki/Low_Earth_orbit\" title=\"Low Earth orbit\">LEO</a>\n</td>\n<td><a href=\"/wiki/Orbcomm\" title=\"Orbcomm\">Orbcomm</a>\n</td>\n<td class=\"table-partial\" style=\"background: #FE9; vertical-align: middle; text-align: center;\">Partial failure<sup class=\"reference\" id=\"cite_ref-nyt-20121030_31-0\"><a href=\"#cite_note-nyt-20121030-31\">[25]</a></sup>\n</td></tr>\n<tr>\n<td colspan=\"9\">CRS-1 was successful, but the <a href=\"/wiki/Secondary_payload\" title=\"Secondary payload\">secondary payload</a> was inserted into an abnormally low orbit and subsequently lost. This was due to one of the nine <a href=\"/wiki/SpaceX_Merlin\" title=\"SpaceX Merlin\">Merlin engines</a> shutting down during the launch, and NASA declining a second reignition, as per <a href=\"/wiki/International_Space_Station\" title=\"International Space Station\">ISS</a> visiting vehicle safety rules, the primary payload owner is contractually allowed to decline a second reignition. NASA stated that this was because SpaceX could not guarantee a high enough likelihood of the second stage completing the second burn successfully which was required to avoid any risk of secondary payload's collision with the ISS.<sup class=\"reference\" id=\"cite_ref-OrbcommTotalLoss_32-0\"><a href=\"#cite_note-OrbcommTotalLoss-32\">[26]</a></sup><sup class=\"reference\" id=\"cite_ref-sn20121011_33-0\"><a href=\"#cite_note-sn20121011-33\">[27]</a></sup><sup class=\"reference\" id=\"cite_ref-34\"><a href=\"#cite_note-34\">[28]</a></sup>\n</td></tr>\n<tr>\n<th rowspan=\"2\" scope=\"row\" style=\"text-align:center;\">5\n</th>\n<td>1 March 2013,<br/>15:10\n</td>\n<td><a href=\"/wiki/Falcon_9_v1.0\" title=\"Falcon 9 v1.0\">F9 v1.0</a><sup class=\"reference\" id=\"cite_ref-MuskMay2012_13-4\"><a href=\"#cite_note-MuskMay2012-13\">[7]</a></sup><br/>B0007.1<sup class=\"reference\" id=\"cite_ref-block_numbers_14-4\"><a href=\"#cite_note-block_numbers-14\">[8]</a></sup>\n</td>\n<td><a href=\"/wiki/Cape_Canaveral_Space_Force_Station\" title=\"Cape Canaveral Space Force Station\">CCAFS</a>,<br/><a href=\"/wiki/Cape_Canaveral_Space_Launch_Complex_40\" title=\"Cape Canaveral Space Launch Complex 40\">SLC-40</a>\n</td>\n<td><a href=\"/wiki/SpaceX_CRS-2\" title=\"SpaceX CRS-2\">SpaceX CRS-2</a><sup class=\"reference\" id=\"cite_ref-sxManifest20120925_28-1\"><a href=\"#cite_note-sxManifest20120925-28\">[22]</a></sup><br/>(Dragon C104)\n</td>\n<td>4,877\u00a0kg (10,752\u00a0lb)\n</td>\n<td><a href=\"/wiki/Low_Earth_orbit\" title=\"Low Earth orbit\">LEO</a> (<a class=\"mw-redirect\" href=\"/wiki/ISS\" title=\"ISS\">ISS</a>)\n</td>\n<td><a href=\"/wiki/NASA\" title=\"NASA\">NASA</a> (<a href=\"/wiki/Commercial_Resupply_Services\" title=\"Commercial Resupply Services\">CRS</a>)\n</td>\n<td class=\"table-success\" style=\"background: #9EFF9E; vertical-align: middle; text-align: center;\">Success\n</td>\n<td class=\"table-noAttempt\" style=\"background: #EEE; vertical-align: middle; white-space: nowrap; text-align: center;\">No attempt\n</td></tr>\n<tr>\n<td colspan=\"9\">Last launch of the original Falcon 9 v1.0 <a href=\"/wiki/Launch_vehicle\" title=\"Launch vehicle\">launch vehicle</a>, first use of the unpressurized trunk section of Dragon.<sup class=\"reference\" id=\"cite_ref-sxf9_20110321_35-0\"><a href=\"#cite_note-sxf9_20110321-35\">[29]</a></sup>\n</td></tr>\n<tr>\n<th rowspan=\"2\" scope=\"row\" style=\"text-align:center;\">6\n</th>\n<td>29 September 2013,<br/>16:00<sup class=\"reference\" id=\"cite_ref-pa20130930_36-0\"><a href=\"#cite_note-pa20130930-36\">[30]</a></sup>\n</td>\n<td><a href=\"/wiki/Falcon_9_v1.1\" title=\"Falcon 9 v1.1\">F9 v1.1</a><sup class=\"reference\" id=\"cite_ref-MuskMay2012_13-5\"><a href=\"#cite_note-MuskMay2012-13\">[7]</a></sup><br/>B1003<sup class=\"reference\" id=\"cite_ref-block_numbers_14-5\"><a href=\"#cite_note-block_numbers-14\">[8]</a></sup>\n</td>\n<td><a class=\"mw-redirect\" href=\"/wiki/Vandenberg_Air_Force_Base\" title=\"Vandenberg Air Force Base\">VAFB</a>,<br/><a href=\"/wiki/Vandenberg_Space_Launch_Complex_4\" title=\"Vandenberg Space Launch Complex 4\">SLC-4E</a>\n</td>\n<td><a href=\"/wiki/CASSIOPE\" title=\"CASSIOPE\">CASSIOPE</a><sup class=\"reference\" id=\"cite_ref-sxManifest20120925_28-2\"><a href=\"#cite_note-sxManifest20120925-28\">[22]</a></sup><sup class=\"reference\" id=\"cite_ref-CASSIOPE_MDA_37-0\"><a href=\"#cite_note-CASSIOPE_MDA-37\">[31]</a></sup>\n</td>\n<td>500\u00a0kg (1,100\u00a0lb)\n</td>\n<td><a href=\"/wiki/Polar_orbit\" title=\"Polar orbit\">Polar orbit</a> <a href=\"/wiki/Low_Earth_orbit\" title=\"Low Earth orbit\">LEO</a>\n</td>\n<td><a href=\"/wiki/Maxar_Technologies\" title=\"Maxar Technologies\">MDA</a>\n</td>\n<td class=\"table-success\" style=\"background: #9EFF9E; vertical-align: middle; text-align: center;\">Success<sup class=\"reference\" id=\"cite_ref-pa20130930_36-1\"><a href=\"#cite_note-pa20130930-36\">[30]</a></sup>\n</td>\n<td class=\"table-no2\" style=\"background: #FFE3E3; color: black; vertical-align: middle; text-align: center;\">Uncontrolled<br/><small>(ocean)</small><sup class=\"reference\" id=\"cite_ref-ocean_landing_38-0\"><a href=\"#cite_note-ocean_landing-38\">[d]</a></sup>\n</td></tr>\n<tr>\n<td colspan=\"9\">First commercial mission with a private customer, first launch from Vandenberg, and demonstration flight of Falcon 9 v1.1 with an improved 13-tonne to LEO capacity.<sup class=\"reference\" id=\"cite_ref-sxf9_20110321_35-1\"><a href=\"#cite_note-sxf9_20110321-35\">[29]</a></sup> After separation from the second stage carrying Canadian commercial and scientific satellites, the first stage booster performed a controlled reentry,<sup class=\"reference\" id=\"cite_ref-39\"><a href=\"#cite_note-39\">[32]</a></sup> and an <a href=\"/wiki/Falcon_9_first-stage_landing_tests\" title=\"Falcon 9 first-stage landing tests\">ocean touchdown test</a> for the first time. This provided good test data, even though the booster started rolling as it neared the ocean, leading to the shutdown of the central engine as the roll depleted it of fuel, resulting in a hard impact with the ocean.<sup class=\"reference\" id=\"cite_ref-pa20130930_36-2\"><a href=\"#cite_note-pa20130930-36\">[30]</a></sup> This was the first known attempt of a rocket engine being lit to perform a supersonic retro propulsion, and allowed SpaceX to enter a public-private partnership with <a href=\"/wiki/NASA\" title=\"NASA\">NASA</a> and its Mars entry, descent, and landing technologies research projects.<sup class=\"reference\" id=\"cite_ref-40\"><a href=\"#cite_note-40\">[33]</a></sup> <small>(<a href=\"#Maiden_flight_of_v1.1\">more details below</a>)</small>\n</td></tr>\n<tr>\n<th rowspan=\"2\" scope=\"row\" style=\"text-align:center;\">7\n</th>\n<td>3 December 2013,<br/>22:41<sup class=\"reference\" id=\"cite_ref-sfn_wwls20130624_41-0\"><a href=\"#cite_note-sfn_wwls20130624-41\">[34]</a></sup>\n</td>\n<td><a href=\"/wiki/Falcon_9_v1.1\" title=\"Falcon 9 v1.1\">F9 v1.1</a><br/>B1004\n</td>\n<td><a href=\"/wiki/Cape_Canaveral_Space_Force_Station\" title=\"Cape Canaveral Space Force Station\">CCAFS</a>,<br/><a href=\"/wiki/Cape_Canaveral_Space_Launch_Complex_40\" title=\"Cape Canaveral Space Launch Complex 40\">SLC-40</a>\n</td>\n<td><a href=\"/wiki/SES-8\" title=\"SES-8\">SES-8</a><sup class=\"reference\" id=\"cite_ref-sxManifest20120925_28-3\"><a href=\"#cite_note-sxManifest20120925-28\">[22]</a></sup><sup class=\"reference\" id=\"cite_ref-spx-pr_42-0\"><a href=\"#cite_note-spx-pr-42\">[35]</a></sup><sup class=\"reference\" id=\"cite_ref-aw20110323_43-0\"><a href=\"#cite_note-aw20110323-43\">[36]</a></sup>\n</td>\n<td>3,170\u00a0kg (6,990\u00a0lb)\n</td>\n<td><a href=\"/wiki/Geostationary_transfer_orbit\" title=\"Geostationary transfer orbit\">GTO</a>\n</td>\n<td><a href=\"/wiki/SES_S.A.\" title=\"SES S.A.\">SES</a>\n</td>\n<td class=\"table-success\" style=\"background: #9EFF9E; vertical-align: middle; text-align: center;\">Success<sup class=\"reference\" id=\"cite_ref-SNMissionStatus7_44-0\"><a href=\"#cite_note-SNMissionStatus7-44\">[37]</a></sup>\n</td>\n<td class=\"table-noAttempt\" style=\"background: #EEE; vertical-align: middle; white-space: nowrap; text-align: center;\">No attempt<br/><sup class=\"reference\" id=\"cite_ref-sf10120131203_45-0\"><a href=\"#cite_note-sf10120131203-45\">[38]</a></sup>\n</td></tr>\n<tr>\n<td colspan=\"9\">First <a href=\"/wiki/Geostationary_transfer_orbit\" title=\"Geostationary transfer orbit\">Geostationary transfer orbit</a> (GTO) launch for Falcon 9,<sup class=\"reference\" id=\"cite_ref-spx-pr_42-1\"><a href=\"#cite_note-spx-pr-42\">[35]</a></sup> and first successful reignition of the second stage.<sup class=\"reference\" id=\"cite_ref-46\"><a href=\"#cite_note-46\">[39]</a></sup> SES-8 was inserted into a <a href=\"/wiki/Geostationary_transfer_orbit\" title=\"Geostationary transfer orbit\">Super-Synchronous Transfer Orbit</a> of 79,341\u00a0km (49,300\u00a0mi) in apogee with an <a href=\"/wiki/Orbital_inclination\" title=\"Orbital inclination\">inclination</a> of 20.55\u00b0 to the <a href=\"/wiki/Equator\" title=\"Equator\">equator</a>.\n</td></tr></tbody></table>\n",
                    "output_type": "stream"
                }
            ]
        },
        {
            "metadata": {
                "cell_id": "e1f37fdc2ddf4ef0abd21088780ea3e6",
                "deepnote_cell_height": 52.23333740234375,
                "deepnote_cell_type": "markdown"
            },
            "cell_type": "markdown",
            "source": "You should able to see the columns names embedded in the table header elements `<th>` as follows:\n"
        },
        {
            "metadata": {
                "cell_id": "c5a88aa223fc47bb9db08eb7e78cf698",
                "deepnote_cell_height": 590.63330078125,
                "deepnote_cell_type": "markdown"
            },
            "cell_type": "markdown",
            "source": "```\n<tr>\n<th scope=\"col\">Flight No.\n</th>\n<th scope=\"col\">Date and<br/>time (<a href=\"/wiki/Coordinated_Universal_Time\" title=\"Coordinated Universal Time\">UTC</a>)\n</th>\n<th scope=\"col\"><a href=\"/wiki/List_of_Falcon_9_first-stage_boosters\" title=\"List of Falcon 9 first-stage boosters\">Version,<br/>Booster</a> <sup class=\"reference\" id=\"cite_ref-booster_11-0\"><a href=\"#cite_note-booster-11\">[b]</a></sup>\n</th>\n<th scope=\"col\">Launch site\n</th>\n<th scope=\"col\">Payload<sup class=\"reference\" id=\"cite_ref-Dragon_12-0\"><a href=\"#cite_note-Dragon-12\">[c]</a></sup>\n</th>\n<th scope=\"col\">Payload mass\n</th>\n<th scope=\"col\">Orbit\n</th>\n<th scope=\"col\">Customer\n</th>\n<th scope=\"col\">Launch<br/>outcome\n</th>\n<th scope=\"col\"><a href=\"/wiki/Falcon_9_first-stage_landing_tests\" title=\"Falcon 9 first-stage landing tests\">Booster<br/>landing</a>\n</th></tr>\n```\n"
        },
        {
            "metadata": {
                "cell_id": "358a1ab5c887495d91b04b9c90aeeedc",
                "deepnote_cell_height": 74.63333129882812,
                "deepnote_cell_type": "markdown"
            },
            "cell_type": "markdown",
            "source": "Next, we just need to iterate through the `<th>` elements and apply the provided `extract_column_from_header()` to extract column name one by one\n"
        },
        {
            "metadata": {
                "cell_id": "084af7c2aaa14c069fc4805f4e56d305",
                "source_hash": "5ff38d59",
                "execution_start": 1661441246787,
                "execution_millis": 3,
                "deepnote_to_be_reexecuted": false,
                "deepnote_cell_type": "code"
            },
            "cell_type": "code",
            "source": "column_names = []\n\nfor row in first_launch_table.find_all('th'):\n    name = extract_column_from_header(row)\n    if name != None and len(name) > 0:\n        column_names.append(name)\n\n# Apply find_all() function with `th` element on first_launch_table\n# Iterate each th element and apply the provided extract_column_from_header() to get a column name\n# Append the Non-empty column name (`if name is not None and len(name) > 0`) into a list called column_names\n",
            "execution_count": 10,
            "outputs": []
        },
        {
            "metadata": {
                "cell_id": "cfc7ba7277b54e459fe86e37edd93c7b",
                "deepnote_cell_height": 52.23333740234375,
                "deepnote_cell_type": "markdown"
            },
            "cell_type": "markdown",
            "source": "Check the extracted column names\n"
        },
        {
            "metadata": {
                "cell_id": "1469a2102fb64f6ebbd6f0ff2128076f",
                "source_hash": "c880ed08",
                "execution_start": 1661441246793,
                "execution_millis": 16,
                "deepnote_to_be_reexecuted": false,
                "deepnote_cell_type": "code"
            },
            "cell_type": "code",
            "source": "print(column_names)",
            "execution_count": 11,
            "outputs": [
                {
                    "name": "stdout",
                    "text": "['Flight No.', 'Date and time ( )', 'Launch site', 'Payload', 'Payload mass', 'Orbit', 'Customer', 'Launch outcome']\n",
                    "output_type": "stream"
                }
            ]
        },
        {
            "metadata": {
                "cell_id": "36f147664df34db4926fc085fb21dbcb",
                "deepnote_cell_height": 109.83332824707031,
                "deepnote_cell_type": "markdown"
            },
            "cell_type": "markdown",
            "source": "## TASK 3: Create a data frame by parsing the launch HTML tables\n"
        },
        {
            "metadata": {
                "cell_id": "060ada2aa06e488485c413e717ed92a8",
                "deepnote_cell_height": 74.63333129882812,
                "deepnote_cell_type": "markdown"
            },
            "cell_type": "markdown",
            "source": "We will create an empty dictionary with keys from the extracted column names in the previous task. Later, this dictionary will be converted into a Pandas dataframe\n"
        },
        {
            "metadata": {
                "cell_id": "3a125c2ebf744750b95e474683b7c00b",
                "source_hash": "8cac380d",
                "execution_start": 1661441246815,
                "execution_millis": 0,
                "deepnote_to_be_reexecuted": false,
                "deepnote_cell_type": "code"
            },
            "cell_type": "code",
            "source": "launch_dict= dict.fromkeys(column_names)\n\n# Remove an irrelvant column\ndel launch_dict['Date and time ( )']\n\n# Let's initial the launch_dict with each value to be an empty list\nlaunch_dict['Flight No.'] = []\nlaunch_dict['Launch site'] = []\nlaunch_dict['Payload'] = []\nlaunch_dict['Payload mass'] = []\nlaunch_dict['Orbit'] = []\nlaunch_dict['Customer'] = []\nlaunch_dict['Launch outcome'] = []\n# Added some new columns\nlaunch_dict['Version Booster']=[]\nlaunch_dict['Booster landing']=[]\nlaunch_dict['Date']=[]\nlaunch_dict['Time']=[]",
            "execution_count": 12,
            "outputs": []
        },
        {
            "metadata": {
                "cell_id": "c341078721e94b63aa6eb337c999b358",
                "deepnote_cell_height": 52.23333740234375,
                "deepnote_cell_type": "markdown"
            },
            "cell_type": "markdown",
            "source": "Next, we just need to fill up the `launch_dict` with launch records extracted from table rows.\n"
        },
        {
            "metadata": {
                "cell_id": "2206d82377464988bf6fe73de11d1ad2",
                "deepnote_cell_height": 74.63333129882812,
                "deepnote_cell_type": "markdown"
            },
            "cell_type": "markdown",
            "source": "Usually, HTML tables in Wiki pages are likely to contain unexpected annotations and other types of noises, such as reference links `B0004.1[8]`, missing values `N/A [e]`, inconsistent formatting, etc.\n"
        },
        {
            "metadata": {
                "cell_id": "09a5630ff9ce4e139205872b1d7e07e1",
                "deepnote_cell_height": 97.03334045410156,
                "deepnote_cell_type": "markdown"
            },
            "cell_type": "markdown",
            "source": "To simplify the parsing process, we have provided an incomplete code snippet below to help you to fill up the `launch_dict`. Please complete the following code snippet with TODOs or you can choose to write your own logic to parse all launch tables:\n"
        },
        {
            "metadata": {
                "cell_id": "d2350d8aed8d46a3b5c6b0ea3f6f1628",
                "source_hash": "29374d9",
                "execution_start": 1661441246868,
                "execution_millis": 88,
                "deepnote_to_be_reexecuted": false,
                "deepnote_cell_type": "code"
            },
            "cell_type": "code",
            "source": "#If you run this more than once you will continualy append data to the dictinoary.  Run the prior cell first to create a new dictionary prior to running this.\n\n\nextracted_row = 0\n#Extract each table \nfor table_number,table in enumerate(soup.find_all('table',\"wikitable plainrowheaders collapsible\")):\n   # get table row \n    for rows in table.find_all(\"tr\"):\n        #check to see if first table heading is as number corresponding to launch a number \n        if rows.th:\n            if rows.th.string:\n                flight_number=rows.th.string.strip()\n                flag=flight_number.isdigit()\n        else:\n            flag=False\n        #get table element \n        row=rows.find_all('td')\n        #if it is number save cells in a dictonary \n        if flag:\n            extracted_row += 1\n            # Flight Number value\n            # TODO: Append the flight_number into launch_dict with key `Flight No.`\n            launch_dict['Flight No.'].append(flight_number)\n            #print(flight_number)\n            datatimelist=date_time(row[0])\n            \n            # Date value\n            # TODO: Append the date into launch_dict with key `Date`\n            date = datatimelist[0].strip(',')\n            launch_dict['Date'].append(date)\n            #print(date)\n            \n            # Time value\n            # TODO: Append the time into launch_dict with key `Time`\n            time = datatimelist[1]\n            launch_dict['Time'].append(time)\n            #print(time)\n              \n            # Booster version\n            # TODO: Append the bv into launch_dict with key `Version Booster`\n            bv=booster_version(row[1])\n            if not(bv):\n                bv=row[1].a.string\n            launch_dict['Version Booster'].append(bv)    \n            #print(bv)\n            \n            # Launch Site\n            # TODO: Append the bv into launch_dict with key `Launch Site`\n            launch_site = row[2].a.string\n            launch_dict['Launch site'].append(launch_site)\n            #print(launch_site)\n            \n            # Payload\n            # TODO: Append the payload into launch_dict with key `Payload`\n            payload = row[3].a.string\n            launch_dict['Payload'].append(payload)\n            #print(payload)\n            \n            # Payload Mass\n            # TODO: Append the payload_mass into launch_dict with key `Payload mass`\n            payload_mass = get_mass(row[4])\n            launch_dict['Payload mass'].append(payload_mass)\n            #print(payload)\n            \n            # Orbit\n            # TODO: Append the orbit into launch_dict with key `Orbit`\n            orbit = row[5].a.string\n            launch_dict['Orbit'].append(orbit)\n            #print(orbit)\n            \n            # Customer\n            # TODO: Append the customer into launch_dict with key `Customer`\n            ##### Added Try Except to handle badly formed data from table in Customer column.\n            try:\n                customer = row[6].a.string\n            except(TypeError, AttributeError) as e:\n                customer = \"Various\"\n            \n            launch_dict['Customer'].append(customer)\n            #print(customer)\n            \n            # Launch outcome\n            # TODO: Append the launch_outcome into launch_dict with key `Launch outcome`\n            launch_outcome = list(row[7].strings)[0]\n            launch_dict['Launch outcome'].append(launch_outcome)\n            #print(launch_outcome)\n            \n            # Booster landing\n            # TODO: Append the launch_outcome into launch_dict with key `Booster landing`\n            booster_landing = landing_status(row[8])\n            launch_dict['Booster landing'].append(booster_landing)\n            #print(booster_landing)",
            "execution_count": 13,
            "outputs": []
        },
        {
            "metadata": {
                "cell_id": "10244bf8e034462790383508d29bc8bc",
                "deepnote_cell_height": 74.63333129882812,
                "deepnote_cell_type": "markdown"
            },
            "cell_type": "markdown",
            "source": "After you have fill in the parsed launch record values into `launch_dict`, you can create a dataframe from it.\n"
        },
        {
            "metadata": {
                "cell_id": "8470af426ed047ff949957bab169598f",
                "source_hash": "b772c63d",
                "execution_start": 1661441246956,
                "execution_millis": 1,
                "deepnote_to_be_reexecuted": false,
                "deepnote_cell_type": "code"
            },
            "cell_type": "code",
            "source": "df=pd.DataFrame(launch_dict)",
            "execution_count": 14,
            "outputs": []
        },
        {
            "metadata": {
                "tags": [],
                "cell_id": "60bad40a1e914f608bdef7386b075819",
                "source_hash": "3e83f32b",
                "execution_start": 1661441246957,
                "execution_millis": 50,
                "deepnote_to_be_reexecuted": false,
                "deepnote_cell_type": "code"
            },
            "cell_type": "code",
            "source": "df=pd.DataFrame.from_dict(launch_dict)\n\ndf",
            "execution_count": 15,
            "outputs": [
                {
                    "output_type": "execute_result",
                    "execution_count": 15,
                    "data": {
                        "application/vnd.deepnote.dataframe.v3+json": {
                            "column_count": 11,
                            "row_count": 121,
                            "columns": [
                                {
                                    "name": "Flight No.",
                                    "dtype": "object",
                                    "stats": {
                                        "unique_count": 121,
                                        "nan_count": 0,
                                        "categories": [
                                            {
                                                "name": "1",
                                                "count": 1
                                            },
                                            {
                                                "name": "2",
                                                "count": 1
                                            },
                                            {
                                                "name": "119 others",
                                                "count": 119
                                            }
                                        ]
                                    }
                                },
                                {
                                    "name": "Launch site",
                                    "dtype": "object",
                                    "stats": {
                                        "unique_count": 5,
                                        "nan_count": 0,
                                        "categories": [
                                            {
                                                "name": "CCAFS",
                                                "count": 40
                                            },
                                            {
                                                "name": "KSC",
                                                "count": 33
                                            },
                                            {
                                                "name": "3 others",
                                                "count": 48
                                            }
                                        ]
                                    }
                                },
                                {
                                    "name": "Payload",
                                    "dtype": "object",
                                    "stats": {
                                        "unique_count": 82,
                                        "nan_count": 0,
                                        "categories": [
                                            {
                                                "name": "Starlink",
                                                "count": 29
                                            },
                                            {
                                                "name": "Iridium NEXT",
                                                "count": 8
                                            },
                                            {
                                                "name": "80 others",
                                                "count": 84
                                            }
                                        ]
                                    }
                                },
                                {
                                    "name": "Payload mass",
                                    "dtype": "object",
                                    "stats": {
                                        "unique_count": 84,
                                        "nan_count": 0,
                                        "categories": [
                                            {
                                                "name": "15,600 kg",
                                                "count": 24
                                            },
                                            {
                                                "name": "9,600 kg",
                                                "count": 7
                                            },
                                            {
                                                "name": "82 others",
                                                "count": 90
                                            }
                                        ]
                                    }
                                },
                                {
                                    "name": "Orbit",
                                    "dtype": "object",
                                    "stats": {
                                        "unique_count": 8,
                                        "nan_count": 0,
                                        "categories": [
                                            {
                                                "name": "LEO",
                                                "count": 67
                                            },
                                            {
                                                "name": "GTO",
                                                "count": 33
                                            },
                                            {
                                                "name": "6 others",
                                                "count": 21
                                            }
                                        ]
                                    }
                                },
                                {
                                    "name": "Customer",
                                    "dtype": "object",
                                    "stats": {
                                        "unique_count": 38,
                                        "nan_count": 1,
                                        "categories": [
                                            {
                                                "name": "NASA",
                                                "count": 32
                                            },
                                            {
                                                "name": "37 others",
                                                "count": 88
                                            },
                                            {
                                                "name": "Missing",
                                                "count": 1
                                            }
                                        ]
                                    }
                                },
                                {
                                    "name": "Launch outcome",
                                    "dtype": "object",
                                    "stats": {
                                        "unique_count": 3,
                                        "nan_count": 0,
                                        "categories": [
                                            {
                                                "name": "Success\n",
                                                "count": 88
                                            },
                                            {
                                                "name": "Success",
                                                "count": 32
                                            },
                                            {
                                                "name": "Failure",
                                                "count": 1
                                            }
                                        ]
                                    }
                                },
                                {
                                    "name": "Version Booster",
                                    "dtype": "object",
                                    "stats": {
                                        "unique_count": 52,
                                        "nan_count": 0,
                                        "categories": [
                                            {
                                                "name": "F9 B5",
                                                "count": 26
                                            },
                                            {
                                                "name": "F9 FT",
                                                "count": 17
                                            },
                                            {
                                                "name": "50 others",
                                                "count": 78
                                            }
                                        ]
                                    }
                                },
                                {
                                    "name": "Booster landing",
                                    "dtype": "object",
                                    "stats": {
                                        "unique_count": 8,
                                        "nan_count": 0,
                                        "categories": [
                                            {
                                                "name": "Success",
                                                "count": 80
                                            },
                                            {
                                                "name": "No attempt",
                                                "count": 18
                                            },
                                            {
                                                "name": "6 others",
                                                "count": 23
                                            }
                                        ]
                                    }
                                },
                                {
                                    "name": "Date",
                                    "dtype": "object",
                                    "stats": {
                                        "unique_count": 121,
                                        "nan_count": 0,
                                        "categories": [
                                            {
                                                "name": "4 June 2010",
                                                "count": 1
                                            },
                                            {
                                                "name": "8 December 2010",
                                                "count": 1
                                            },
                                            {
                                                "name": "119 others",
                                                "count": 119
                                            }
                                        ]
                                    }
                                },
                                {
                                    "name": "Time",
                                    "dtype": "object",
                                    "stats": {
                                        "unique_count": 116,
                                        "nan_count": 0,
                                        "categories": [
                                            {
                                                "name": "04:45",
                                                "count": 3
                                            },
                                            {
                                                "name": "23:03",
                                                "count": 2
                                            },
                                            {
                                                "name": "114 others",
                                                "count": 116
                                            }
                                        ]
                                    }
                                },
                                {
                                    "name": "_deepnote_index_column",
                                    "dtype": "int64"
                                }
                            ],
                            "rows": [
                                {
                                    "Flight No.": "1",
                                    "Launch site": "CCAFS",
                                    "Payload": "Dragon Spacecraft Qualification Unit",
                                    "Payload mass": "0",
                                    "Orbit": "LEO",
                                    "Customer": "SpaceX",
                                    "Launch outcome": "Success\n",
                                    "Version Booster": "F9 v1.0B0003.1",
                                    "Booster landing": "Failure",
                                    "Date": "4 June 2010",
                                    "Time": "18:45",
                                    "_deepnote_index_column": 0
                                },
                                {
                                    "Flight No.": "2",
                                    "Launch site": "CCAFS",
                                    "Payload": "Dragon",
                                    "Payload mass": "0",
                                    "Orbit": "LEO",
                                    "Customer": "NASA",
                                    "Launch outcome": "Success",
                                    "Version Booster": "F9 v1.0B0004.1",
                                    "Booster landing": "Failure",
                                    "Date": "8 December 2010",
                                    "Time": "15:43",
                                    "_deepnote_index_column": 1
                                },
                                {
                                    "Flight No.": "3",
                                    "Launch site": "CCAFS",
                                    "Payload": "Dragon",
                                    "Payload mass": "525 kg",
                                    "Orbit": "LEO",
                                    "Customer": "NASA",
                                    "Launch outcome": "Success",
                                    "Version Booster": "F9 v1.0B0005.1",
                                    "Booster landing": "No attempt\n",
                                    "Date": "22 May 2012",
                                    "Time": "07:44",
                                    "_deepnote_index_column": 2
                                },
                                {
                                    "Flight No.": "4",
                                    "Launch site": "CCAFS",
                                    "Payload": "SpaceX CRS-1",
                                    "Payload mass": "4,700 kg",
                                    "Orbit": "LEO",
                                    "Customer": "NASA",
                                    "Launch outcome": "Success\n",
                                    "Version Booster": "F9 v1.0B0006.1",
                                    "Booster landing": "No attempt",
                                    "Date": "8 October 2012",
                                    "Time": "00:35",
                                    "_deepnote_index_column": 3
                                },
                                {
                                    "Flight No.": "5",
                                    "Launch site": "CCAFS",
                                    "Payload": "SpaceX CRS-2",
                                    "Payload mass": "4,877 kg",
                                    "Orbit": "LEO",
                                    "Customer": "NASA",
                                    "Launch outcome": "Success\n",
                                    "Version Booster": "F9 v1.0B0007.1",
                                    "Booster landing": "No attempt\n",
                                    "Date": "1 March 2013",
                                    "Time": "15:10",
                                    "_deepnote_index_column": 4
                                },
                                {
                                    "Flight No.": "6",
                                    "Launch site": "VAFB",
                                    "Payload": "CASSIOPE",
                                    "Payload mass": "500 kg",
                                    "Orbit": "Polar orbit",
                                    "Customer": "MDA",
                                    "Launch outcome": "Success",
                                    "Version Booster": "F9 v1.1B1003",
                                    "Booster landing": "Uncontrolled",
                                    "Date": "29 September 2013",
                                    "Time": "16:00",
                                    "_deepnote_index_column": 5
                                },
                                {
                                    "Flight No.": "7",
                                    "Launch site": "CCAFS",
                                    "Payload": "SES-8",
                                    "Payload mass": "3,170 kg",
                                    "Orbit": "GTO",
                                    "Customer": "SES",
                                    "Launch outcome": "Success",
                                    "Version Booster": "F9 v1.1",
                                    "Booster landing": "No attempt",
                                    "Date": "3 December 2013",
                                    "Time": "22:41",
                                    "_deepnote_index_column": 6
                                },
                                {
                                    "Flight No.": "8",
                                    "Launch site": "CCAFS",
                                    "Payload": "Thaicom 6",
                                    "Payload mass": "3,325 kg",
                                    "Orbit": "GTO",
                                    "Customer": "Thaicom",
                                    "Launch outcome": "Success",
                                    "Version Booster": "F9 v1.1",
                                    "Booster landing": "No attempt",
                                    "Date": "6 January 2014",
                                    "Time": "22:06",
                                    "_deepnote_index_column": 7
                                },
                                {
                                    "Flight No.": "9",
                                    "Launch site": "Cape Canaveral",
                                    "Payload": "SpaceX CRS-3",
                                    "Payload mass": "2,296 kg",
                                    "Orbit": "LEO",
                                    "Customer": "NASA",
                                    "Launch outcome": "Success\n",
                                    "Version Booster": "F9 v1.1",
                                    "Booster landing": "Controlled",
                                    "Date": "18 April 2014",
                                    "Time": "19:25",
                                    "_deepnote_index_column": 8
                                },
                                {
                                    "Flight No.": "10",
                                    "Launch site": "Cape Canaveral",
                                    "Payload": "Orbcomm-OG2",
                                    "Payload mass": "1,316 kg",
                                    "Orbit": "LEO",
                                    "Customer": "Orbcomm",
                                    "Launch outcome": "Success",
                                    "Version Booster": "F9 v1.1",
                                    "Booster landing": "Controlled",
                                    "Date": "14 July 2014",
                                    "Time": "15:15",
                                    "_deepnote_index_column": 9
                                }
                            ]
                        },
                        "text/plain": "    Flight No. Launch site                               Payload Payload mass  \\\n0            1       CCAFS  Dragon Spacecraft Qualification Unit            0   \n1            2       CCAFS                                Dragon            0   \n2            3       CCAFS                                Dragon       525 kg   \n3            4       CCAFS                          SpaceX CRS-1     4,700 kg   \n4            5       CCAFS                          SpaceX CRS-2     4,877 kg   \n..         ...         ...                                   ...          ...   \n116        117       CCSFS                              Starlink    15,600 kg   \n117        118         KSC                              Starlink   ~14,000 kg   \n118        119       CCSFS                              Starlink    15,600 kg   \n119        120         KSC                         SpaceX CRS-22     3,328 kg   \n120        121       CCSFS                                 SXM-8     7,000 kg   \n\n    Orbit   Customer Launch outcome Version Booster Booster landing  \\\n0     LEO     SpaceX      Success\\n  F9 v1.0B0003.1         Failure   \n1     LEO       NASA        Success  F9 v1.0B0004.1         Failure   \n2     LEO       NASA        Success  F9 v1.0B0005.1    No attempt\\n   \n3     LEO       NASA      Success\\n  F9 v1.0B0006.1      No attempt   \n4     LEO       NASA      Success\\n  F9 v1.0B0007.1    No attempt\\n   \n..    ...        ...            ...             ...             ...   \n116   LEO     SpaceX      Success\\n   F9 B5B1051.10         Success   \n117   LEO     SpaceX      Success\\n    F9 B5B1058.8         Success   \n118   LEO     SpaceX      Success\\n    F9 B5B1063.2         Success   \n119   LEO       NASA      Success\\n    F9 B5B1067.1         Success   \n120   GTO  Sirius XM      Success\\n           F9 B5         Success   \n\n                Date   Time  \n0        4 June 2010  18:45  \n1    8 December 2010  15:43  \n2        22 May 2012  07:44  \n3     8 October 2012  00:35  \n4       1 March 2013  15:10  \n..               ...    ...  \n116       9 May 2021  06:42  \n117      15 May 2021  22:56  \n118      26 May 2021  18:59  \n119      3 June 2021  17:29  \n120      6 June 2021  04:26  \n\n[121 rows x 11 columns]",
                        "text/html": "<div>\n<style scoped>\n    .dataframe tbody tr th:only-of-type {\n        vertical-align: middle;\n    }\n\n    .dataframe tbody tr th {\n        vertical-align: top;\n    }\n\n    .dataframe thead th {\n        text-align: right;\n    }\n</style>\n<table border=\"1\" class=\"dataframe\">\n  <thead>\n    <tr style=\"text-align: right;\">\n      <th></th>\n      <th>Flight No.</th>\n      <th>Launch site</th>\n      <th>Payload</th>\n      <th>Payload mass</th>\n      <th>Orbit</th>\n      <th>Customer</th>\n      <th>Launch outcome</th>\n      <th>Version Booster</th>\n      <th>Booster landing</th>\n      <th>Date</th>\n      <th>Time</th>\n    </tr>\n  </thead>\n  <tbody>\n    <tr>\n      <th>0</th>\n      <td>1</td>\n      <td>CCAFS</td>\n      <td>Dragon Spacecraft Qualification Unit</td>\n      <td>0</td>\n      <td>LEO</td>\n      <td>SpaceX</td>\n      <td>Success\\n</td>\n      <td>F9 v1.0B0003.1</td>\n      <td>Failure</td>\n      <td>4 June 2010</td>\n      <td>18:45</td>\n    </tr>\n    <tr>\n      <th>1</th>\n      <td>2</td>\n      <td>CCAFS</td>\n      <td>Dragon</td>\n      <td>0</td>\n      <td>LEO</td>\n      <td>NASA</td>\n      <td>Success</td>\n      <td>F9 v1.0B0004.1</td>\n      <td>Failure</td>\n      <td>8 December 2010</td>\n      <td>15:43</td>\n    </tr>\n    <tr>\n      <th>2</th>\n      <td>3</td>\n      <td>CCAFS</td>\n      <td>Dragon</td>\n      <td>525 kg</td>\n      <td>LEO</td>\n      <td>NASA</td>\n      <td>Success</td>\n      <td>F9 v1.0B0005.1</td>\n      <td>No attempt\\n</td>\n      <td>22 May 2012</td>\n      <td>07:44</td>\n    </tr>\n    <tr>\n      <th>3</th>\n      <td>4</td>\n      <td>CCAFS</td>\n      <td>SpaceX CRS-1</td>\n      <td>4,700 kg</td>\n      <td>LEO</td>\n      <td>NASA</td>\n      <td>Success\\n</td>\n      <td>F9 v1.0B0006.1</td>\n      <td>No attempt</td>\n      <td>8 October 2012</td>\n      <td>00:35</td>\n    </tr>\n    <tr>\n      <th>4</th>\n      <td>5</td>\n      <td>CCAFS</td>\n      <td>SpaceX CRS-2</td>\n      <td>4,877 kg</td>\n      <td>LEO</td>\n      <td>NASA</td>\n      <td>Success\\n</td>\n      <td>F9 v1.0B0007.1</td>\n      <td>No attempt\\n</td>\n      <td>1 March 2013</td>\n      <td>15:10</td>\n    </tr>\n    <tr>\n      <th>...</th>\n      <td>...</td>\n      <td>...</td>\n      <td>...</td>\n      <td>...</td>\n      <td>...</td>\n      <td>...</td>\n      <td>...</td>\n      <td>...</td>\n      <td>...</td>\n      <td>...</td>\n      <td>...</td>\n    </tr>\n    <tr>\n      <th>116</th>\n      <td>117</td>\n      <td>CCSFS</td>\n      <td>Starlink</td>\n      <td>15,600 kg</td>\n      <td>LEO</td>\n      <td>SpaceX</td>\n      <td>Success\\n</td>\n      <td>F9 B5B1051.10</td>\n      <td>Success</td>\n      <td>9 May 2021</td>\n      <td>06:42</td>\n    </tr>\n    <tr>\n      <th>117</th>\n      <td>118</td>\n      <td>KSC</td>\n      <td>Starlink</td>\n      <td>~14,000 kg</td>\n      <td>LEO</td>\n      <td>SpaceX</td>\n      <td>Success\\n</td>\n      <td>F9 B5B1058.8</td>\n      <td>Success</td>\n      <td>15 May 2021</td>\n      <td>22:56</td>\n    </tr>\n    <tr>\n      <th>118</th>\n      <td>119</td>\n      <td>CCSFS</td>\n      <td>Starlink</td>\n      <td>15,600 kg</td>\n      <td>LEO</td>\n      <td>SpaceX</td>\n      <td>Success\\n</td>\n      <td>F9 B5B1063.2</td>\n      <td>Success</td>\n      <td>26 May 2021</td>\n      <td>18:59</td>\n    </tr>\n    <tr>\n      <th>119</th>\n      <td>120</td>\n      <td>KSC</td>\n      <td>SpaceX CRS-22</td>\n      <td>3,328 kg</td>\n      <td>LEO</td>\n      <td>NASA</td>\n      <td>Success\\n</td>\n      <td>F9 B5B1067.1</td>\n      <td>Success</td>\n      <td>3 June 2021</td>\n      <td>17:29</td>\n    </tr>\n    <tr>\n      <th>120</th>\n      <td>121</td>\n      <td>CCSFS</td>\n      <td>SXM-8</td>\n      <td>7,000 kg</td>\n      <td>GTO</td>\n      <td>Sirius XM</td>\n      <td>Success\\n</td>\n      <td>F9 B5</td>\n      <td>Success</td>\n      <td>6 June 2021</td>\n      <td>04:26</td>\n    </tr>\n  </tbody>\n</table>\n<p>121 rows \u00d7 11 columns</p>\n</div>"
                    },
                    "metadata": {}
                }
            ]
        },
        {
            "metadata": {
                "cell_id": "3cd1d3cecd9e445b884070f8958a1a3c",
                "deepnote_cell_height": 111.03334045410156,
                "deepnote_cell_type": "markdown"
            },
            "cell_type": "markdown",
            "source": "We can now export it to a <b>CSV</b> for the next section, but to make the answers consistent and in case you have difficulties finishing this lab.\n\nFollowing labs will be using a provided dataset to make each lab independent.\n"
        },
        {
            "metadata": {
                "cell_id": "eb86a3b40c444893b9bdbc799251f805",
                "deepnote_cell_height": 52.23333740234375,
                "deepnote_cell_type": "markdown"
            },
            "cell_type": "markdown",
            "source": "<code>df.to_csv('spacex_web_scraped.csv', index=False)</code>\n"
        },
        {
            "metadata": {
                "tags": [],
                "cell_id": "4f5b5306cec34318804afb84d582b897",
                "source_hash": "9ce62f3a",
                "execution_start": 1661441247045,
                "execution_millis": 129,
                "deepnote_to_be_reexecuted": false,
                "deepnote_cell_type": "code"
            },
            "cell_type": "code",
            "source": "df.to_csv('spacex_web_scraped.csv', index=False)",
            "execution_count": 16,
            "outputs": []
        },
        {
            "metadata": {
                "cell_id": "2c494b2b0157406fac5224d286b5f0eb",
                "deepnote_cell_height": 69.83332824707031,
                "deepnote_cell_type": "markdown"
            },
            "cell_type": "markdown",
            "source": "## Authors\n"
        },
        {
            "metadata": {
                "cell_id": "762b77bbbb334c7e8dbe68ee000b8d8b",
                "deepnote_cell_height": 52.23333740234375,
                "deepnote_cell_type": "markdown"
            },
            "cell_type": "markdown",
            "source": "<a href=\"https://www.linkedin.com/in/yan-luo-96288783/?utm_medium=Exinfluencer&utm_source=Exinfluencer&utm_content=000026UJ&utm_term=10006555&utm_id=NA-SkillsNetwork-Channel-SkillsNetworkCoursesIBMDS0321ENSkillsNetwork26802033-2022-01-01\">Yan Luo</a>\n"
        },
        {
            "metadata": {
                "cell_id": "614a77f089114a5390a5c20cd242cbbd",
                "deepnote_cell_height": 52.23333740234375,
                "deepnote_cell_type": "markdown"
            },
            "cell_type": "markdown",
            "source": "<a href=\"https://www.linkedin.com/in/nayefaboutayoun/?utm_medium=Exinfluencer&utm_source=Exinfluencer&utm_content=000026UJ&utm_term=10006555&utm_id=NA-SkillsNetwork-Channel-SkillsNetworkCoursesIBMDS0321ENSkillsNetwork26802033-2022-01-01\">Nayef Abou Tayoun</a>\n"
        },
        {
            "metadata": {
                "cell_id": "c36eba0c155d44d49f41692562815c51",
                "deepnote_cell_height": 69.83332824707031,
                "deepnote_cell_type": "markdown"
            },
            "cell_type": "markdown",
            "source": "## Change Log\n"
        },
        {
            "metadata": {
                "cell_id": "541d9ef436e5455a95d445f57f10c066",
                "deepnote_cell_height": 103.03334045410156,
                "deepnote_cell_type": "markdown"
            },
            "cell_type": "markdown",
            "source": "| Date (YYYY-MM-DD) | Version | Changed By | Change Description          |\n| ----------------- | ------- | ---------- | --------------------------- |\n| 2021-06-09        | 1.0     | Yan Luo    | Tasks updates               |\n| 2020-11-10        | 1.0     | Nayef      | Created the initial version |\n"
        },
        {
            "metadata": {
                "cell_id": "3984ff9fefe345848e427037a9b3f6b2",
                "deepnote_cell_height": 52.23333740234375,
                "deepnote_cell_type": "markdown"
            },
            "cell_type": "markdown",
            "source": "Copyright \u00a9 2021 IBM Corporation. All rights reserved.\n"
        },
        {
            "metadata": {
                "tags": [],
                "created_in_deepnote_cell": true,
                "deepnote_cell_type": "markdown"
            },
            "cell_type": "markdown",
            "source": "<a style='text-decoration:none;line-height:16px;display:flex;color:#5B5B62;padding:10px;justify-content:end;' href='https://deepnote.com?utm_source=created-in-deepnote-cell&projectId=14ebf4f1-01dc-4c28-9028-0c09bfdc8087' target=\"_blank\">\n<img alt='Created in deepnote.com' style='display:inline;max-height:16px;margin:0px;margin-right:7.5px;' src='data:image/svg+xml;base64,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' > </img>\nCreated in <span style='font-weight:600;margin-left:4px;'>Deepnote</span></a>"
        }
    ],
    "metadata": {
        "deepnote": {},
        "kernelspec": {
            "name": "python3",
            "display_name": "Python 3.9",
            "language": "python"
        },
        "language_info": {
            "name": "python",
            "version": "3.9.12",
            "mimetype": "text/x-python",
            "codemirror_mode": {
                "name": "ipython",
                "version": 3
            },
            "pygments_lexer": "ipython3",
            "nbconvert_exporter": "python",
            "file_extension": ".py"
        },
        "deepnote_notebook_id": "a4b7e1c51a4c4a22a2dc100b33615ce7",
        "deepnote_execution_queue": []
    },
    "nbformat": 4,
    "nbformat_minor": 1
}