{
    "cells": [
        {
            "cell_type": "markdown",
            "source": "<p style=\"text-align:center\">\n    <a href=\"https://skills.network/?utm_medium=Exinfluencer&utm_source=Exinfluencer&utm_content=000026UJ&utm_term=10006555&utm_id=NA-SkillsNetwork-Channel-SkillsNetworkCoursesIBMDS0321ENSkillsNetwork26802033-2022-01-01\" target=\"_blank\">\n    <img src=\"https://cf-courses-data.s3.us.cloud-object-storage.appdomain.cloud/assets/logos/SN_web_lightmode.png\" width=\"200\" alt=\"Skills Network Logo\"  />\n    </a>\n</p>\n",
            "metadata": {
                "cell_id": "ba75426c381a49f695a980f87abcf3d4",
                "deepnote_cell_height": 251.78334045410156,
                "deepnote_cell_type": "markdown"
            }
        },
        {
            "cell_type": "markdown",
            "source": "# **SpaceX  Falcon 9 First Stage Landing Prediction**\n",
            "metadata": {
                "cell_id": "59b3a4e1deef44d1b6e40c6172701353",
                "deepnote_cell_height": 134,
                "deepnote_cell_type": "markdown"
            }
        },
        {
            "cell_type": "markdown",
            "source": "## Assignment: Exploring and Preparing\u00a0Data\n",
            "metadata": {
                "cell_id": "e3e2c460f34d4884a743bc9182be5370",
                "deepnote_cell_height": 70,
                "deepnote_cell_type": "markdown"
            }
        },
        {
            "cell_type": "markdown",
            "source": "Estimated time needed: **70** minutes\n",
            "metadata": {
                "cell_id": "22aa4f12169a4aafb923769c357bfaa2",
                "deepnote_cell_height": 52.399993896484375,
                "deepnote_cell_type": "markdown"
            }
        },
        {
            "cell_type": "markdown",
            "source": "In this assignment, we will predict if the Falcon 9 first stage will land successfully. SpaceX advertises Falcon 9 rocket launches on its website with a cost of 62 million dollars; other providers cost upward of 165 million dollars each, much of the savings is due to the fact that SpaceX can reuse the first stage.\n\nIn this lab, you will perform Exploratory Data Analysis and Feature Engineering.\n",
            "metadata": {
                "cell_id": "6de64000534a4b5cbf5b44a43816ad02",
                "deepnote_cell_height": 133.60000610351562,
                "deepnote_cell_type": "markdown"
            }
        },
        {
            "cell_type": "markdown",
            "source": "Falcon 9 first stage will land successfully\n",
            "metadata": {
                "cell_id": "5c631eda4c3d428b99b70e744c14c294",
                "deepnote_cell_height": 52.399993896484375,
                "deepnote_cell_type": "markdown"
            }
        },
        {
            "cell_type": "markdown",
            "source": "![](https://cf-courses-data.s3.us.cloud-object-storage.appdomain.cloud/IBMDeveloperSkillsNetwork-DS0701EN-SkillsNetwork/api/Images/landing\\_1.gif)\n",
            "metadata": {
                "cell_id": "ce1265b0f5e649baaad330a0dd062e5b",
                "deepnote_cell_height": 334,
                "deepnote_cell_type": "markdown"
            }
        },
        {
            "cell_type": "markdown",
            "source": "Several examples of an unsuccessful landing are shown here:\n",
            "metadata": {
                "cell_id": "492c3e76e7c949e09485b0ea9c382f63",
                "deepnote_cell_height": 52.399993896484375,
                "deepnote_cell_type": "markdown"
            }
        },
        {
            "cell_type": "markdown",
            "source": "![](https://cf-courses-data.s3.us.cloud-object-storage.appdomain.cloud/IBMDeveloperSkillsNetwork-DS0701EN-SkillsNetwork/api/Images/crash.gif)\n",
            "metadata": {
                "cell_id": "55afd5d47cef4734bd3a7ee22229aac7",
                "deepnote_cell_height": 303,
                "deepnote_cell_type": "markdown"
            }
        },
        {
            "cell_type": "markdown",
            "source": "Most unsuccessful landings are planned. Space X performs a controlled landing in the oceans.\n",
            "metadata": {
                "cell_id": "63c7b098f2f9466897c00767e70bf53e",
                "deepnote_cell_height": 52.399993896484375,
                "deepnote_cell_type": "markdown"
            }
        },
        {
            "cell_type": "markdown",
            "source": "## Objectives\n\nPerform exploratory Data Analysis and Feature Engineering using `Pandas` and `Matplotlib`\n\n*   Exploratory Data Analysis\n*   Preparing\u00a0Data  Feature Engineering\n",
            "metadata": {
                "cell_id": "7bb84bc2a80743b39856348a77eb4405",
                "deepnote_cell_height": 184.1999969482422,
                "deepnote_cell_type": "markdown"
            }
        },
        {
            "cell_type": "markdown",
            "source": "***\n",
            "metadata": {
                "cell_id": "7900d96240f643e2893f037ed954e5ee",
                "deepnote_cell_height": 46,
                "deepnote_cell_type": "markdown"
            }
        },
        {
            "cell_type": "markdown",
            "source": "### Import Libraries and Define Auxiliary Functions\n",
            "metadata": {
                "cell_id": "234753e0f49c4ac4978bca680d750031",
                "deepnote_cell_height": 62,
                "deepnote_cell_type": "markdown"
            }
        },
        {
            "cell_type": "markdown",
            "source": "We will import the following libraries the lab\n",
            "metadata": {
                "cell_id": "bd402ab1f7184b8b8ece30e25874a7d8",
                "deepnote_cell_height": 52.399993896484375,
                "deepnote_cell_type": "markdown"
            }
        },
        {
            "cell_type": "code",
            "source": "# andas is a software library written for the Python programming language for data manipulation and analysis.\nimport pandas as pd\n#NumPy is a library for the Python programming language, adding support for large, multi-dimensional arrays and matrices, along with a large collection of high-level mathematical functions to operate on these arrays\nimport numpy as np\n# Matplotlib is a plotting library for python and pyplot gives us a MatLab like plotting framework. We will use this in our plotter function to plot data.\nimport matplotlib.pyplot as plt\n#Seaborn is a Python data visualization library based on matplotlib. It provides a high-level interface for drawing attractive and informative statistical graphics\nimport seaborn as sns",
            "metadata": {
                "cell_id": "ccf3bdf54e1d48a08c4cdc0618b6df4d",
                "source_hash": "1b122d9d",
                "execution_start": 1661336923067,
                "execution_millis": 2841,
                "deepnote_to_be_reexecuted": false,
                "deepnote_cell_type": "code"
            },
            "outputs": [],
            "execution_count": 1
        },
        {
            "cell_type": "markdown",
            "source": "## Exploratory Data Analysis\n",
            "metadata": {
                "cell_id": "ceec132b63074e0793ad82f39945c838",
                "deepnote_cell_height": 70,
                "deepnote_cell_type": "markdown"
            }
        },
        {
            "cell_type": "markdown",
            "source": "First, let's read the SpaceX dataset into a Pandas dataframe and print its summary\n",
            "metadata": {
                "cell_id": "a9610afa2acf474a858651b8f5c26149",
                "deepnote_cell_height": 52.399993896484375,
                "deepnote_cell_type": "markdown"
            }
        },
        {
            "cell_type": "code",
            "source": "df=pd.read_csv(\"https://cf-courses-data.s3.us.cloud-object-storage.appdomain.cloud/IBM-DS0321EN-SkillsNetwork/datasets/dataset_part_2.csv\")\n\n# If you were unable to complete the previous lab correctly you can uncomment and load this csv\n\n# df = pd.read_csv('https://cf-courses-data.s3.us.cloud-object-storage.appdomain.cloud/IBMDeveloperSkillsNetwork-DS0701EN-SkillsNetwork/api/dataset_part_2.csv')\n\ndf.head(5)",
            "metadata": {
                "cell_id": "70bf020b5245476e8e40a7b51ffddebe",
                "source_hash": "787c7054",
                "execution_start": 1661336961662,
                "execution_millis": 368,
                "deepnote_to_be_reexecuted": false,
                "deepnote_cell_type": "code"
            },
            "outputs": [
                {
                    "output_type": "execute_result",
                    "execution_count": 16,
                    "data": {
                        "application/vnd.deepnote.dataframe.v3+json": {
                            "column_count": 18,
                            "row_count": 5,
                            "columns": [
                                {
                                    "name": "FlightNumber",
                                    "dtype": "int64",
                                    "stats": {
                                        "unique_count": 5,
                                        "nan_count": 0,
                                        "min": "1",
                                        "max": "5",
                                        "histogram": [
                                            {
                                                "bin_start": 1,
                                                "bin_end": 1.4,
                                                "count": 1
                                            },
                                            {
                                                "bin_start": 1.4,
                                                "bin_end": 1.8,
                                                "count": 0
                                            },
                                            {
                                                "bin_start": 1.8,
                                                "bin_end": 2.2,
                                                "count": 1
                                            },
                                            {
                                                "bin_start": 2.2,
                                                "bin_end": 2.6,
                                                "count": 0
                                            },
                                            {
                                                "bin_start": 2.6,
                                                "bin_end": 3,
                                                "count": 0
                                            },
                                            {
                                                "bin_start": 3,
                                                "bin_end": 3.4000000000000004,
                                                "count": 1
                                            },
                                            {
                                                "bin_start": 3.4000000000000004,
                                                "bin_end": 3.8000000000000003,
                                                "count": 0
                                            },
                                            {
                                                "bin_start": 3.8000000000000003,
                                                "bin_end": 4.2,
                                                "count": 1
                                            },
                                            {
                                                "bin_start": 4.2,
                                                "bin_end": 4.6,
                                                "count": 0
                                            },
                                            {
                                                "bin_start": 4.6,
                                                "bin_end": 5,
                                                "count": 1
                                            }
                                        ]
                                    }
                                },
                                {
                                    "name": "Date",
                                    "dtype": "object",
                                    "stats": {
                                        "unique_count": 5,
                                        "nan_count": 0,
                                        "categories": [
                                            {
                                                "name": "2010-06-04",
                                                "count": 1
                                            },
                                            {
                                                "name": "2012-05-22",
                                                "count": 1
                                            },
                                            {
                                                "name": "3 others",
                                                "count": 3
                                            }
                                        ]
                                    }
                                },
                                {
                                    "name": "BoosterVersion",
                                    "dtype": "object",
                                    "stats": {
                                        "unique_count": 1,
                                        "nan_count": 0,
                                        "categories": [
                                            {
                                                "name": "Falcon 9",
                                                "count": 5
                                            }
                                        ]
                                    }
                                },
                                {
                                    "name": "PayloadMass",
                                    "dtype": "float64",
                                    "stats": {
                                        "unique_count": 5,
                                        "nan_count": 0,
                                        "min": "500.0",
                                        "max": "6104.959411764706",
                                        "histogram": [
                                            {
                                                "bin_start": 500,
                                                "bin_end": 1060.4959411764705,
                                                "count": 3
                                            },
                                            {
                                                "bin_start": 1060.4959411764705,
                                                "bin_end": 1620.991882352941,
                                                "count": 0
                                            },
                                            {
                                                "bin_start": 1620.991882352941,
                                                "bin_end": 2181.487823529412,
                                                "count": 0
                                            },
                                            {
                                                "bin_start": 2181.487823529412,
                                                "bin_end": 2741.983764705882,
                                                "count": 0
                                            },
                                            {
                                                "bin_start": 2741.983764705882,
                                                "bin_end": 3302.4797058823524,
                                                "count": 1
                                            },
                                            {
                                                "bin_start": 3302.4797058823524,
                                                "bin_end": 3862.975647058823,
                                                "count": 0
                                            },
                                            {
                                                "bin_start": 3862.975647058823,
                                                "bin_end": 4423.471588235294,
                                                "count": 0
                                            },
                                            {
                                                "bin_start": 4423.471588235294,
                                                "bin_end": 4983.967529411764,
                                                "count": 0
                                            },
                                            {
                                                "bin_start": 4983.967529411764,
                                                "bin_end": 5544.4634705882345,
                                                "count": 0
                                            },
                                            {
                                                "bin_start": 5544.4634705882345,
                                                "bin_end": 6104.959411764706,
                                                "count": 1
                                            }
                                        ]
                                    }
                                },
                                {
                                    "name": "Orbit",
                                    "dtype": "object",
                                    "stats": {
                                        "unique_count": 4,
                                        "nan_count": 0,
                                        "categories": [
                                            {
                                                "name": "LEO",
                                                "count": 2
                                            },
                                            {
                                                "name": "ISS",
                                                "count": 1
                                            },
                                            {
                                                "name": "2 others",
                                                "count": 2
                                            }
                                        ]
                                    }
                                },
                                {
                                    "name": "LaunchSite",
                                    "dtype": "object",
                                    "stats": {
                                        "unique_count": 2,
                                        "nan_count": 0,
                                        "categories": [
                                            {
                                                "name": "CCAFS SLC 40",
                                                "count": 4
                                            },
                                            {
                                                "name": "VAFB SLC 4E",
                                                "count": 1
                                            }
                                        ]
                                    }
                                },
                                {
                                    "name": "Outcome",
                                    "dtype": "object",
                                    "stats": {
                                        "unique_count": 2,
                                        "nan_count": 0,
                                        "categories": [
                                            {
                                                "name": "None None",
                                                "count": 4
                                            },
                                            {
                                                "name": "False Ocean",
                                                "count": 1
                                            }
                                        ]
                                    }
                                },
                                {
                                    "name": "Flights",
                                    "dtype": "int64",
                                    "stats": {
                                        "unique_count": 1,
                                        "nan_count": 0,
                                        "min": "1",
                                        "max": "1",
                                        "histogram": [
                                            {
                                                "bin_start": 0.5,
                                                "bin_end": 0.6,
                                                "count": 0
                                            },
                                            {
                                                "bin_start": 0.6,
                                                "bin_end": 0.7,
                                                "count": 0
                                            },
                                            {
                                                "bin_start": 0.7,
                                                "bin_end": 0.8,
                                                "count": 0
                                            },
                                            {
                                                "bin_start": 0.8,
                                                "bin_end": 0.9,
                                                "count": 0
                                            },
                                            {
                                                "bin_start": 0.9,
                                                "bin_end": 1,
                                                "count": 0
                                            },
                                            {
                                                "bin_start": 1,
                                                "bin_end": 1.1,
                                                "count": 5
                                            },
                                            {
                                                "bin_start": 1.1,
                                                "bin_end": 1.2000000000000002,
                                                "count": 0
                                            },
                                            {
                                                "bin_start": 1.2000000000000002,
                                                "bin_end": 1.3,
                                                "count": 0
                                            },
                                            {
                                                "bin_start": 1.3,
                                                "bin_end": 1.4,
                                                "count": 0
                                            },
                                            {
                                                "bin_start": 1.4,
                                                "bin_end": 1.5,
                                                "count": 0
                                            }
                                        ]
                                    }
                                },
                                {
                                    "name": "GridFins",
                                    "dtype": "bool",
                                    "stats": {
                                        "unique_count": 1,
                                        "nan_count": 0,
                                        "categories": [
                                            {
                                                "name": "False",
                                                "count": 5
                                            }
                                        ]
                                    }
                                },
                                {
                                    "name": "Reused",
                                    "dtype": "bool",
                                    "stats": {
                                        "unique_count": 1,
                                        "nan_count": 0,
                                        "categories": [
                                            {
                                                "name": "False",
                                                "count": 5
                                            }
                                        ]
                                    }
                                },
                                {
                                    "name": "Legs",
                                    "dtype": "bool",
                                    "stats": {
                                        "unique_count": 1,
                                        "nan_count": 0,
                                        "categories": [
                                            {
                                                "name": "False",
                                                "count": 5
                                            }
                                        ]
                                    }
                                },
                                {
                                    "name": "LandingPad",
                                    "dtype": "object",
                                    "stats": {
                                        "unique_count": 0,
                                        "nan_count": 5,
                                        "categories": [
                                            {
                                                "name": "Missing",
                                                "count": 5
                                            }
                                        ]
                                    }
                                },
                                {
                                    "name": "Block",
                                    "dtype": "float64",
                                    "stats": {
                                        "unique_count": 1,
                                        "nan_count": 0,
                                        "min": "1.0",
                                        "max": "1.0",
                                        "histogram": [
                                            {
                                                "bin_start": 0.5,
                                                "bin_end": 0.6,
                                                "count": 0
                                            },
                                            {
                                                "bin_start": 0.6,
                                                "bin_end": 0.7,
                                                "count": 0
                                            },
                                            {
                                                "bin_start": 0.7,
                                                "bin_end": 0.8,
                                                "count": 0
                                            },
                                            {
                                                "bin_start": 0.8,
                                                "bin_end": 0.9,
                                                "count": 0
                                            },
                                            {
                                                "bin_start": 0.9,
                                                "bin_end": 1,
                                                "count": 0
                                            },
                                            {
                                                "bin_start": 1,
                                                "bin_end": 1.1,
                                                "count": 5
                                            },
                                            {
                                                "bin_start": 1.1,
                                                "bin_end": 1.2000000000000002,
                                                "count": 0
                                            },
                                            {
                                                "bin_start": 1.2000000000000002,
                                                "bin_end": 1.3,
                                                "count": 0
                                            },
                                            {
                                                "bin_start": 1.3,
                                                "bin_end": 1.4,
                                                "count": 0
                                            },
                                            {
                                                "bin_start": 1.4,
                                                "bin_end": 1.5,
                                                "count": 0
                                            }
                                        ]
                                    }
                                },
                                {
                                    "name": "ReusedCount",
                                    "dtype": "int64",
                                    "stats": {
                                        "unique_count": 1,
                                        "nan_count": 0,
                                        "min": "0",
                                        "max": "0",
                                        "histogram": [
                                            {
                                                "bin_start": -0.5,
                                                "bin_end": -0.4,
                                                "count": 0
                                            },
                                            {
                                                "bin_start": -0.4,
                                                "bin_end": -0.3,
                                                "count": 0
                                            },
                                            {
                                                "bin_start": -0.3,
                                                "bin_end": -0.19999999999999996,
                                                "count": 0
                                            },
                                            {
                                                "bin_start": -0.19999999999999996,
                                                "bin_end": -0.09999999999999998,
                                                "count": 0
                                            },
                                            {
                                                "bin_start": -0.09999999999999998,
                                                "bin_end": 0,
                                                "count": 0
                                            },
                                            {
                                                "bin_start": 0,
                                                "bin_end": 0.10000000000000009,
                                                "count": 5
                                            },
                                            {
                                                "bin_start": 0.10000000000000009,
                                                "bin_end": 0.20000000000000007,
                                                "count": 0
                                            },
                                            {
                                                "bin_start": 0.20000000000000007,
                                                "bin_end": 0.30000000000000004,
                                                "count": 0
                                            },
                                            {
                                                "bin_start": 0.30000000000000004,
                                                "bin_end": 0.4,
                                                "count": 0
                                            },
                                            {
                                                "bin_start": 0.4,
                                                "bin_end": 0.5,
                                                "count": 0
                                            }
                                        ]
                                    }
                                },
                                {
                                    "name": "Serial",
                                    "dtype": "object",
                                    "stats": {
                                        "unique_count": 5,
                                        "nan_count": 0,
                                        "categories": [
                                            {
                                                "name": "B0003",
                                                "count": 1
                                            },
                                            {
                                                "name": "B0005",
                                                "count": 1
                                            },
                                            {
                                                "name": "3 others",
                                                "count": 3
                                            }
                                        ]
                                    }
                                },
                                {
                                    "name": "Longitude",
                                    "dtype": "float64",
                                    "stats": {
                                        "unique_count": 2,
                                        "nan_count": 0,
                                        "min": "-120.610829",
                                        "max": "-80.577366",
                                        "histogram": [
                                            {
                                                "bin_start": -120.610829,
                                                "bin_end": -116.60748269999999,
                                                "count": 1
                                            },
                                            {
                                                "bin_start": -116.60748269999999,
                                                "bin_end": -112.6041364,
                                                "count": 0
                                            },
                                            {
                                                "bin_start": -112.6041364,
                                                "bin_end": -108.6007901,
                                                "count": 0
                                            },
                                            {
                                                "bin_start": -108.6007901,
                                                "bin_end": -104.5974438,
                                                "count": 0
                                            },
                                            {
                                                "bin_start": -104.5974438,
                                                "bin_end": -100.5940975,
                                                "count": 0
                                            },
                                            {
                                                "bin_start": -100.5940975,
                                                "bin_end": -96.5907512,
                                                "count": 0
                                            },
                                            {
                                                "bin_start": -96.5907512,
                                                "bin_end": -92.5874049,
                                                "count": 0
                                            },
                                            {
                                                "bin_start": -92.5874049,
                                                "bin_end": -88.58405859999999,
                                                "count": 0
                                            },
                                            {
                                                "bin_start": -88.58405859999999,
                                                "bin_end": -84.5807123,
                                                "count": 0
                                            },
                                            {
                                                "bin_start": -84.5807123,
                                                "bin_end": -80.577366,
                                                "count": 4
                                            }
                                        ]
                                    }
                                },
                                {
                                    "name": "Latitude",
                                    "dtype": "float64",
                                    "stats": {
                                        "unique_count": 2,
                                        "nan_count": 0,
                                        "min": "28.5618571",
                                        "max": "34.632093",
                                        "histogram": [
                                            {
                                                "bin_start": 28.5618571,
                                                "bin_end": 29.16888069,
                                                "count": 4
                                            },
                                            {
                                                "bin_start": 29.16888069,
                                                "bin_end": 29.77590428,
                                                "count": 0
                                            },
                                            {
                                                "bin_start": 29.77590428,
                                                "bin_end": 30.38292787,
                                                "count": 0
                                            },
                                            {
                                                "bin_start": 30.38292787,
                                                "bin_end": 30.98995146,
                                                "count": 0
                                            },
                                            {
                                                "bin_start": 30.98995146,
                                                "bin_end": 31.596975049999998,
                                                "count": 0
                                            },
                                            {
                                                "bin_start": 31.596975049999998,
                                                "bin_end": 32.20399864,
                                                "count": 0
                                            },
                                            {
                                                "bin_start": 32.20399864,
                                                "bin_end": 32.81102223,
                                                "count": 0
                                            },
                                            {
                                                "bin_start": 32.81102223,
                                                "bin_end": 33.418045819999996,
                                                "count": 0
                                            },
                                            {
                                                "bin_start": 33.418045819999996,
                                                "bin_end": 34.02506941,
                                                "count": 0
                                            },
                                            {
                                                "bin_start": 34.02506941,
                                                "bin_end": 34.632093,
                                                "count": 1
                                            }
                                        ]
                                    }
                                },
                                {
                                    "name": "Class",
                                    "dtype": "int64",
                                    "stats": {
                                        "unique_count": 1,
                                        "nan_count": 0,
                                        "min": "0",
                                        "max": "0",
                                        "histogram": [
                                            {
                                                "bin_start": -0.5,
                                                "bin_end": -0.4,
                                                "count": 0
                                            },
                                            {
                                                "bin_start": -0.4,
                                                "bin_end": -0.3,
                                                "count": 0
                                            },
                                            {
                                                "bin_start": -0.3,
                                                "bin_end": -0.19999999999999996,
                                                "count": 0
                                            },
                                            {
                                                "bin_start": -0.19999999999999996,
                                                "bin_end": -0.09999999999999998,
                                                "count": 0
                                            },
                                            {
                                                "bin_start": -0.09999999999999998,
                                                "bin_end": 0,
                                                "count": 0
                                            },
                                            {
                                                "bin_start": 0,
                                                "bin_end": 0.10000000000000009,
                                                "count": 5
                                            },
                                            {
                                                "bin_start": 0.10000000000000009,
                                                "bin_end": 0.20000000000000007,
                                                "count": 0
                                            },
                                            {
                                                "bin_start": 0.20000000000000007,
                                                "bin_end": 0.30000000000000004,
                                                "count": 0
                                            },
                                            {
                                                "bin_start": 0.30000000000000004,
                                                "bin_end": 0.4,
                                                "count": 0
                                            },
                                            {
                                                "bin_start": 0.4,
                                                "bin_end": 0.5,
                                                "count": 0
                                            }
                                        ]
                                    }
                                },
                                {
                                    "name": "_deepnote_index_column",
                                    "dtype": "int64"
                                }
                            ],
                            "rows": [
                                {
                                    "FlightNumber": 1,
                                    "Date": "2010-06-04",
                                    "BoosterVersion": "Falcon 9",
                                    "PayloadMass": 6104.959411764706,
                                    "Orbit": "LEO",
                                    "LaunchSite": "CCAFS SLC 40",
                                    "Outcome": "None None",
                                    "Flights": 1,
                                    "GridFins": false,
                                    "Reused": false,
                                    "Legs": false,
                                    "LandingPad": "nan",
                                    "Block": 1,
                                    "ReusedCount": 0,
                                    "Serial": "B0003",
                                    "Longitude": -80.577366,
                                    "Latitude": 28.5618571,
                                    "Class": 0,
                                    "_deepnote_index_column": 0
                                },
                                {
                                    "FlightNumber": 2,
                                    "Date": "2012-05-22",
                                    "BoosterVersion": "Falcon 9",
                                    "PayloadMass": 525,
                                    "Orbit": "LEO",
                                    "LaunchSite": "CCAFS SLC 40",
                                    "Outcome": "None None",
                                    "Flights": 1,
                                    "GridFins": false,
                                    "Reused": false,
                                    "Legs": false,
                                    "LandingPad": "nan",
                                    "Block": 1,
                                    "ReusedCount": 0,
                                    "Serial": "B0005",
                                    "Longitude": -80.577366,
                                    "Latitude": 28.5618571,
                                    "Class": 0,
                                    "_deepnote_index_column": 1
                                },
                                {
                                    "FlightNumber": 3,
                                    "Date": "2013-03-01",
                                    "BoosterVersion": "Falcon 9",
                                    "PayloadMass": 677,
                                    "Orbit": "ISS",
                                    "LaunchSite": "CCAFS SLC 40",
                                    "Outcome": "None None",
                                    "Flights": 1,
                                    "GridFins": false,
                                    "Reused": false,
                                    "Legs": false,
                                    "LandingPad": "nan",
                                    "Block": 1,
                                    "ReusedCount": 0,
                                    "Serial": "B0007",
                                    "Longitude": -80.577366,
                                    "Latitude": 28.5618571,
                                    "Class": 0,
                                    "_deepnote_index_column": 2
                                },
                                {
                                    "FlightNumber": 4,
                                    "Date": "2013-09-29",
                                    "BoosterVersion": "Falcon 9",
                                    "PayloadMass": 500,
                                    "Orbit": "PO",
                                    "LaunchSite": "VAFB SLC 4E",
                                    "Outcome": "False Ocean",
                                    "Flights": 1,
                                    "GridFins": false,
                                    "Reused": false,
                                    "Legs": false,
                                    "LandingPad": "nan",
                                    "Block": 1,
                                    "ReusedCount": 0,
                                    "Serial": "B1003",
                                    "Longitude": -120.610829,
                                    "Latitude": 34.632093,
                                    "Class": 0,
                                    "_deepnote_index_column": 3
                                },
                                {
                                    "FlightNumber": 5,
                                    "Date": "2013-12-03",
                                    "BoosterVersion": "Falcon 9",
                                    "PayloadMass": 3170,
                                    "Orbit": "GTO",
                                    "LaunchSite": "CCAFS SLC 40",
                                    "Outcome": "None None",
                                    "Flights": 1,
                                    "GridFins": false,
                                    "Reused": false,
                                    "Legs": false,
                                    "LandingPad": "nan",
                                    "Block": 1,
                                    "ReusedCount": 0,
                                    "Serial": "B1004",
                                    "Longitude": -80.577366,
                                    "Latitude": 28.5618571,
                                    "Class": 0,
                                    "_deepnote_index_column": 4
                                }
                            ]
                        },
                        "text/plain": "   FlightNumber        Date BoosterVersion  PayloadMass Orbit    LaunchSite  \\\n0             1  2010-06-04       Falcon 9  6104.959412   LEO  CCAFS SLC 40   \n1             2  2012-05-22       Falcon 9   525.000000   LEO  CCAFS SLC 40   \n2             3  2013-03-01       Falcon 9   677.000000   ISS  CCAFS SLC 40   \n3             4  2013-09-29       Falcon 9   500.000000    PO   VAFB SLC 4E   \n4             5  2013-12-03       Falcon 9  3170.000000   GTO  CCAFS SLC 40   \n\n       Outcome  Flights  GridFins  Reused   Legs LandingPad  Block  \\\n0    None None        1     False   False  False        NaN    1.0   \n1    None None        1     False   False  False        NaN    1.0   \n2    None None        1     False   False  False        NaN    1.0   \n3  False Ocean        1     False   False  False        NaN    1.0   \n4    None None        1     False   False  False        NaN    1.0   \n\n   ReusedCount Serial   Longitude   Latitude  Class  \n0            0  B0003  -80.577366  28.561857      0  \n1            0  B0005  -80.577366  28.561857      0  \n2            0  B0007  -80.577366  28.561857      0  \n3            0  B1003 -120.610829  34.632093      0  \n4            0  B1004  -80.577366  28.561857      0  ",
                        "text/html": "<div>\n<style scoped>\n    .dataframe tbody tr th:only-of-type {\n        vertical-align: middle;\n    }\n\n    .dataframe tbody tr th {\n        vertical-align: top;\n    }\n\n    .dataframe thead th {\n        text-align: right;\n    }\n</style>\n<table border=\"1\" class=\"dataframe\">\n  <thead>\n    <tr style=\"text-align: right;\">\n      <th></th>\n      <th>FlightNumber</th>\n      <th>Date</th>\n      <th>BoosterVersion</th>\n      <th>PayloadMass</th>\n      <th>Orbit</th>\n      <th>LaunchSite</th>\n      <th>Outcome</th>\n      <th>Flights</th>\n      <th>GridFins</th>\n      <th>Reused</th>\n      <th>Legs</th>\n      <th>LandingPad</th>\n      <th>Block</th>\n      <th>ReusedCount</th>\n      <th>Serial</th>\n      <th>Longitude</th>\n      <th>Latitude</th>\n      <th>Class</th>\n    </tr>\n  </thead>\n  <tbody>\n    <tr>\n      <th>0</th>\n      <td>1</td>\n      <td>2010-06-04</td>\n      <td>Falcon 9</td>\n      <td>6104.959412</td>\n      <td>LEO</td>\n      <td>CCAFS SLC 40</td>\n      <td>None None</td>\n      <td>1</td>\n      <td>False</td>\n      <td>False</td>\n      <td>False</td>\n      <td>NaN</td>\n      <td>1.0</td>\n      <td>0</td>\n      <td>B0003</td>\n      <td>-80.577366</td>\n      <td>28.561857</td>\n      <td>0</td>\n    </tr>\n    <tr>\n      <th>1</th>\n      <td>2</td>\n      <td>2012-05-22</td>\n      <td>Falcon 9</td>\n      <td>525.000000</td>\n      <td>LEO</td>\n      <td>CCAFS SLC 40</td>\n      <td>None None</td>\n      <td>1</td>\n      <td>False</td>\n      <td>False</td>\n      <td>False</td>\n      <td>NaN</td>\n      <td>1.0</td>\n      <td>0</td>\n      <td>B0005</td>\n      <td>-80.577366</td>\n      <td>28.561857</td>\n      <td>0</td>\n    </tr>\n    <tr>\n      <th>2</th>\n      <td>3</td>\n      <td>2013-03-01</td>\n      <td>Falcon 9</td>\n      <td>677.000000</td>\n      <td>ISS</td>\n      <td>CCAFS SLC 40</td>\n      <td>None None</td>\n      <td>1</td>\n      <td>False</td>\n      <td>False</td>\n      <td>False</td>\n      <td>NaN</td>\n      <td>1.0</td>\n      <td>0</td>\n      <td>B0007</td>\n      <td>-80.577366</td>\n      <td>28.561857</td>\n      <td>0</td>\n    </tr>\n    <tr>\n      <th>3</th>\n      <td>4</td>\n      <td>2013-09-29</td>\n      <td>Falcon 9</td>\n      <td>500.000000</td>\n      <td>PO</td>\n      <td>VAFB SLC 4E</td>\n      <td>False Ocean</td>\n      <td>1</td>\n      <td>False</td>\n      <td>False</td>\n      <td>False</td>\n      <td>NaN</td>\n      <td>1.0</td>\n      <td>0</td>\n      <td>B1003</td>\n      <td>-120.610829</td>\n      <td>34.632093</td>\n      <td>0</td>\n    </tr>\n    <tr>\n      <th>4</th>\n      <td>5</td>\n      <td>2013-12-03</td>\n      <td>Falcon 9</td>\n      <td>3170.000000</td>\n      <td>GTO</td>\n      <td>CCAFS SLC 40</td>\n      <td>None None</td>\n      <td>1</td>\n      <td>False</td>\n      <td>False</td>\n      <td>False</td>\n      <td>NaN</td>\n      <td>1.0</td>\n      <td>0</td>\n      <td>B1004</td>\n      <td>-80.577366</td>\n      <td>28.561857</td>\n      <td>0</td>\n    </tr>\n  </tbody>\n</table>\n</div>"
                    },
                    "metadata": {}
                }
            ],
            "execution_count": 16
        },
        {
            "cell_type": "markdown",
            "source": "First, let's try to see how the `FlightNumber` (indicating the continuous launch attempts.) and `Payload` variables would affect the launch outcome.\n\nWe can plot out the <code>FlightNumber</code> vs. <code>PayloadMass</code>and overlay the outcome of the launch. We see that as the flight number increases, the first stage is more likely to land successfully. The payload mass is also important; it seems the more massive the payload, the less likely the first stage will return.\n",
            "metadata": {
                "cell_id": "c82a28914bfb4560926fb41458f3f5b2",
                "deepnote_cell_height": 156,
                "deepnote_cell_type": "markdown"
            }
        },
        {
            "cell_type": "code",
            "source": "sns.catplot(y=\"PayloadMass\", x=\"FlightNumber\", hue=\"Class\", data=df, aspect = 5)\nplt.xlabel(\"Flight Number\",fontsize=20)\nplt.ylabel(\"Pay load Mass (kg)\",fontsize=20)\nplt.show()",
            "metadata": {
                "cell_id": "7c0de3e4f1204eb09d589dc41653582f",
                "source_hash": "734f86a2",
                "execution_start": 1661336926352,
                "execution_millis": 26683,
                "deepnote_to_be_reexecuted": false,
                "deepnote_cell_type": "code"
            },
            "outputs": [
                {
                    "data": {
                        "text/plain": "<Figure size 1842.38x360 with 1 Axes>",
                        "image/png": "[encoded data removed]"
                    },
                    "metadata": {
                        "needs_background": "light",
                        "image/png": {
                            "width": 1848,
                            "height": 361
                        }
                    },
                    "output_type": "display_data"
                }
            ],
            "execution_count": 3
        },
        {
            "cell_type": "markdown",
            "source": "We see that different launch sites have different success rates.  <code>CCAFS LC-40</code>, has a success rate of 60 %, while  <code>KSC LC-39A</code> and <code>VAFB SLC 4E</code> has a success rate of 77%.\n",
            "metadata": {
                "cell_id": "d56444ed473b414a82491b9853c6a8e1",
                "deepnote_cell_height": 74.80000305175781,
                "deepnote_cell_type": "markdown"
            }
        },
        {
            "cell_type": "markdown",
            "source": "Next, let's drill down to each site visualize its detailed launch records.\n",
            "metadata": {
                "cell_id": "f1032767383e4b85a16a71c1a06bd19d",
                "deepnote_cell_height": 52.399993896484375,
                "deepnote_cell_type": "markdown"
            }
        },
        {
            "cell_type": "markdown",
            "source": "### TASK 1: Visualize the relationship between Flight Number and Launch Site\n",
            "metadata": {
                "cell_id": "cb0e8cda16ff49ff82ebd60cb9f0a71b",
                "deepnote_cell_height": 94,
                "deepnote_cell_type": "markdown"
            }
        },
        {
            "cell_type": "markdown",
            "source": "Use the function <code>catplot</code> to plot <code>FlightNumber</code> vs <code>LaunchSite</code>, set the  parameter <code>x</code>  parameter to <code>FlightNumber</code>,set the  <code>y</code> to <code>Launch Site</code> and set the parameter <code>hue</code> to <code>'class'</code>\n",
            "metadata": {
                "cell_id": "e1883efb44e84ab1bf4fd1393cf73c4f",
                "deepnote_cell_height": 74.80000305175781,
                "deepnote_cell_type": "markdown"
            }
        },
        {
            "cell_type": "code",
            "source": "# Plot a scatter point chart with x axis to be Flight Number and y axis to be the launch site, and hue to be the class value\nsns.catplot(y=\"FlightNumber\",x=\"LaunchSite\",hue='Class',data=df, aspect=5)\nplt.xlabel(\"Flight Number\",fontsize=20)\nplt.ylabel(\"Pay load Mass (kg)\",fontsize=20)\nplt.show()",
            "metadata": {
                "cell_id": "481eb3d2c0e746ceb0fcf00365133920",
                "source_hash": "ed064b46",
                "execution_start": 1661336953078,
                "execution_millis": 980,
                "deepnote_to_be_reexecuted": false,
                "deepnote_cell_type": "code"
            },
            "outputs": [
                {
                    "data": {
                        "text/plain": "<Figure size 2558.88x500 with 1 Axes>",
                        "image/png": "[encoded data removed]"
                    },
                    "metadata": {
                        "image/png": {
                            "width": 2569,
                            "height": 503
                        }
                    },
                    "output_type": "display_data"
                }
            ],
            "execution_count": 4
        },
        {
            "cell_type": "markdown",
            "source": "Now try to explain the patterns you found in the Flight Number vs. Launch Site scatter point plots.\n",
            "metadata": {
                "cell_id": "7b141906f34c43db93dec0c92fb1e60a",
                "deepnote_cell_height": 52.399993896484375,
                "deepnote_cell_type": "markdown"
            }
        },
        {
            "cell_type": "markdown",
            "source": "### TASK 2: Visualize the relationship between Payload and Launch Site\n",
            "metadata": {
                "cell_id": "2f811e1fa9ee48fe9d28ea26e730b79a",
                "deepnote_cell_height": 62,
                "deepnote_cell_type": "markdown"
            }
        },
        {
            "cell_type": "markdown",
            "source": "We also want to observe if there is any relationship between launch sites and their payload mass.\n",
            "metadata": {
                "cell_id": "9bbf8e147a70446ca9efed8ae0e3a47e",
                "deepnote_cell_height": 52.399993896484375,
                "deepnote_cell_type": "markdown"
            }
        },
        {
            "cell_type": "code",
            "source": "# Plot a scatter point chart with x axis to be Pay Load Mass (kg) and y axis to be the launch site, and hue to be the class value\nsns.catplot(y=\"PayloadMass\", x=\"LaunchSite\", hue=\"Class\", data=df, aspect = 5)\nplt.xlabel(\"Flight Number\",fontsize=20)\nplt.ylabel(\"Pay load Mass (kg)\",fontsize=20)\nplt.show()\n",
            "metadata": {
                "cell_id": "29dad94478f0453598aced2620970f3b",
                "source_hash": "1274ede8",
                "execution_start": 1661336954057,
                "execution_millis": 1567,
                "deepnote_to_be_reexecuted": false,
                "deepnote_cell_type": "code"
            },
            "outputs": [
                {
                    "data": {
                        "text/plain": "<Figure size 2558.88x500 with 1 Axes>",
                        "image/png": "[encoded data removed]"
                    },
                    "metadata": {
                        "image/png": {
                            "width": 2568,
                            "height": 503
                        }
                    },
                    "output_type": "display_data"
                }
            ],
            "execution_count": 5
        },
        {
            "cell_type": "markdown",
            "source": "Now if you observe Payload Vs. Launch Site scatter point chart you will find for the VAFB-SLC  launchsite there are no  rockets  launched for  heavypayload mass(greater than 10000).\n",
            "metadata": {
                "cell_id": "56d665dd948444cfbe5b9a42c4106ac9",
                "deepnote_cell_height": 74.80000305175781,
                "deepnote_cell_type": "markdown"
            }
        },
        {
            "cell_type": "markdown",
            "source": "### TASK  3: Visualize the relationship between success rate of each orbit type\n",
            "metadata": {
                "cell_id": "90be37af5d8b41a89e2b865b2104eddc",
                "deepnote_cell_height": 94,
                "deepnote_cell_type": "markdown"
            }
        },
        {
            "cell_type": "markdown",
            "source": "Next, we want to visually check if there are any relationship between success rate and orbit type.\n",
            "metadata": {
                "cell_id": "65cd5991d54e46f8b283c8347bfd30cd",
                "deepnote_cell_height": 52.399993896484375,
                "deepnote_cell_type": "markdown"
            }
        },
        {
            "cell_type": "markdown",
            "source": "Let's create a `bar chart` for the sucess rate of each orbit\n",
            "metadata": {
                "cell_id": "83659ba802244bd4bab52a01b7ecc8a9",
                "deepnote_cell_height": 52.399993896484375,
                "deepnote_cell_type": "markdown"
            }
        },
        {
            "cell_type": "code",
            "source": "# HINT use groupby method on Orbit column and get the mean of Class column\norbit_success = df.groupby('Orbit').mean()\norbit_success.reset_index(inplace=True)\nsns.barplot(x=\"Orbit\",y=\"Class\",data=orbit_success,hue='Class')\n",
            "metadata": {
                "cell_id": "7786617a7a0a42c69b11f64e4107759b",
                "source_hash": "78fc5cc0",
                "execution_start": 1661336955535,
                "execution_millis": 1654,
                "deepnote_to_be_reexecuted": false,
                "deepnote_cell_type": "code"
            },
            "outputs": [
                {
                    "output_type": "execute_result",
                    "execution_count": 6,
                    "data": {
                        "text/plain": "<AxesSubplot:xlabel='Orbit', ylabel='Class'>"
                    },
                    "metadata": {}
                },
                {
                    "data": {
                        "text/plain": "<Figure size 640x480 with 1 Axes>",
                        "image/png": "[encoded data removed]"
                    },
                    "metadata": {
                        "image/png": {
                            "width": 567,
                            "height": 432
                        }
                    },
                    "output_type": "display_data"
                }
            ],
            "execution_count": 6
        },
        {
            "cell_type": "markdown",
            "source": "Analyze the ploted bar chart try to find which orbits have high sucess rate.\n",
            "metadata": {
                "cell_id": "6351bd5ea33946b09d1d7bfc8ac2117e",
                "deepnote_cell_height": 52.399993896484375,
                "deepnote_cell_type": "markdown"
            }
        },
        {
            "cell_type": "markdown",
            "source": "### TASK  4: Visualize the relationship between FlightNumber and Orbit type\n",
            "metadata": {
                "cell_id": "4ef2a8a081ab43fe871513fc3c5acd0c",
                "deepnote_cell_height": 94,
                "deepnote_cell_type": "markdown"
            }
        },
        {
            "cell_type": "markdown",
            "source": "For each orbit, we want to see if there is any relationship between FlightNumber and Orbit type.\n",
            "metadata": {
                "cell_id": "8345ed48e586405c96054d782478de25",
                "deepnote_cell_height": 52.399993896484375,
                "deepnote_cell_type": "markdown"
            }
        },
        {
            "cell_type": "code",
            "source": "# Plot a scatter point chart with x axis to be FlightNumber and y axis to be the Orbit, and hue to be the class value\nsns.catplot(x='FlightNumber',y='Orbit',data=df,hue='Class')\nplt.xlabel('Flight Number')\nplt.ylabel('Orbit Details')\nplt.show()",
            "metadata": {
                "cell_id": "f58481e603e64951b96a1b67e774c81b",
                "source_hash": "57d723db",
                "execution_start": 1661336957232,
                "execution_millis": 1456,
                "deepnote_to_be_reexecuted": false,
                "deepnote_cell_type": "code"
            },
            "outputs": [
                {
                    "data": {
                        "text/plain": "<Figure size 558.875x500 with 1 Axes>",
                        "image/png": "[encoded data removed]"
                    },
                    "metadata": {
                        "image/png": {
                            "width": 547,
                            "height": 490
                        }
                    },
                    "output_type": "display_data"
                }
            ],
            "execution_count": 7
        },
        {
            "cell_type": "markdown",
            "source": "You should see that in the LEO orbit the Success appears related to the number of flights; on the other hand, there seems to be no relationship between flight number when in GTO orbit.\n",
            "metadata": {
                "cell_id": "df6baa9b967a41aa9d216260ff564427",
                "deepnote_cell_height": 74.80000305175781,
                "deepnote_cell_type": "markdown"
            }
        },
        {
            "cell_type": "markdown",
            "source": "### TASK  5: Visualize the relationship between Payload and Orbit type\n",
            "metadata": {
                "cell_id": "a52035e5dd204c9e9e6b532eae576293",
                "deepnote_cell_height": 62,
                "deepnote_cell_type": "markdown"
            }
        },
        {
            "cell_type": "markdown",
            "source": "Similarly, we can plot the Payload vs. Orbit scatter point charts to reveal the relationship between Payload and Orbit type\n",
            "metadata": {
                "cell_id": "3f9b003e15904272b0b429e79f1fbf4c",
                "deepnote_cell_height": 52.399993896484375,
                "deepnote_cell_type": "markdown"
            }
        },
        {
            "cell_type": "code",
            "source": "# Plot a scatter point chart with x axis to be Payload and y axis to be the Orbit, and hue to be the class value\nsns.catplot(x='PayloadMass',y='Outcome',data=df,hue='Class')\nplt.xlabel('PayloadMass')\nplt.ylabel('Outcome')\nplt.show()",
            "metadata": {
                "cell_id": "8296e4b95cb14d25a9ff3d1f0a89441b",
                "source_hash": "4a9fad4f",
                "execution_start": 1661336958696,
                "execution_millis": 1366,
                "deepnote_to_be_reexecuted": false,
                "deepnote_cell_type": "code"
            },
            "outputs": [
                {
                    "data": {
                        "text/plain": "<Figure size 558.875x500 with 1 Axes>",
                        "image/png": "[encoded data removed]"
                    },
                    "metadata": {
                        "image/png": {
                            "width": 541,
                            "height": 489
                        }
                    },
                    "output_type": "display_data"
                }
            ],
            "execution_count": 8
        },
        {
            "cell_type": "markdown",
            "source": "With heavy payloads the successful landing or positive landing rate are more for Polar,LEO and ISS.\n\nHowever for GTO we cannot distinguish this well as both positive landing rate and negative landing(unsuccessful mission) are both there here.\n",
            "metadata": {
                "cell_id": "e4e56925ec8c480883436f787eb22b7d",
                "deepnote_cell_height": 111.19999694824219,
                "deepnote_cell_type": "markdown"
            }
        },
        {
            "cell_type": "markdown",
            "source": "### TASK  6: Visualize the launch success yearly trend\n",
            "metadata": {
                "cell_id": "1dc5fbd7ee8a437e931d059faaa66e7c",
                "deepnote_cell_height": 62,
                "deepnote_cell_type": "markdown"
            }
        },
        {
            "cell_type": "markdown",
            "source": "You can plot a line chart with x axis to be <code>Year</code> and y axis to be average success rate, to get the average launch success trend.\n",
            "metadata": {
                "cell_id": "f4c169f0a76640f1b2be7fea6d36d5ec",
                "deepnote_cell_height": 74.80000305175781,
                "deepnote_cell_type": "markdown"
            }
        },
        {
            "cell_type": "markdown",
            "source": "The function will help you get the year from the date:\n",
            "metadata": {
                "cell_id": "adaab184a9784edaa01e71dcc3a1046e",
                "deepnote_cell_height": 52.399993896484375,
                "deepnote_cell_type": "markdown"
            }
        },
        {
            "cell_type": "code",
            "source": "# A function to Extract years from the date \nyear=[]\ndef Extract_year(date):\n    for i in df[\"Date\"]:\n        year.append(i.split(\"-\")[0])\n    return year\nExtract_year(1)\ndf[\"Year\"]=year\naverage_by_year = df.groupby(by=\"Year\").mean()\naverage_by_year.reset_index(inplace=True)\n    ",
            "metadata": {
                "cell_id": "e02d3538323d4513acc1564c44340c3f",
                "source_hash": "dd7c1bf6",
                "execution_start": 1661336960094,
                "execution_millis": 60837733,
                "deepnote_to_be_reexecuted": false,
                "deepnote_cell_type": "code"
            },
            "outputs": [],
            "execution_count": 9
        },
        {
            "cell_type": "code",
            "source": "# Plot a line chart with x axis to be the extracted year and y axis to be the success rate\nplt.plot(average_by_year[\"Year\"],average_by_year[\"Class\"])\nplt.xlabel(\"Year\")\nplt.ylabel(\"Success/Failure\")\nplt.show()\n",
            "metadata": {
                "cell_id": "70ea3514d7624c2497e97382ece9a448",
                "source_hash": "875e41e2",
                "execution_start": 1661336960120,
                "execution_millis": 473,
                "deepnote_to_be_reexecuted": false,
                "deepnote_cell_type": "code"
            },
            "outputs": [
                {
                    "data": {
                        "text/plain": "<Figure size 640x480 with 1 Axes>",
                        "image/png": "[encoded data removed]"
                    },
                    "metadata": {
                        "image/png": {
                            "width": 567,
                            "height": 432
                        }
                    },
                    "output_type": "display_data"
                }
            ],
            "execution_count": 10
        },
        {
            "cell_type": "markdown",
            "source": "you can observe that the sucess rate since 2013 kept increasing till 2020\n",
            "metadata": {
                "cell_id": "ba67686622b14014ba269415170de924",
                "deepnote_cell_height": 52.399993896484375,
                "deepnote_cell_type": "markdown"
            }
        },
        {
            "cell_type": "markdown",
            "source": "## Features Engineering\n",
            "metadata": {
                "cell_id": "a406e70cf91f4b11938b6838c1f68455",
                "deepnote_cell_height": 70,
                "deepnote_cell_type": "markdown"
            }
        },
        {
            "cell_type": "markdown",
            "source": "By now, you should obtain some preliminary insights about how each important variable would affect the success rate, we will select the features that will be used in success prediction in the future module.\n",
            "metadata": {
                "cell_id": "dd0000075e7346f8bd9968aee879b50c",
                "deepnote_cell_height": 74.80000305175781,
                "deepnote_cell_type": "markdown"
            }
        },
        {
            "cell_type": "code",
            "source": "features = df[['FlightNumber', 'PayloadMass', 'Orbit', 'LaunchSite', 'Flights', 'GridFins', 'Reused', 'Legs', 'LandingPad', 'Block', 'ReusedCount', 'Serial']]\nfeatures.head()",
            "metadata": {
                "cell_id": "12c78599cde445e2b6438877b0f93270",
                "source_hash": "1fa27c65",
                "execution_start": 1661336960631,
                "execution_millis": 845,
                "deepnote_to_be_reexecuted": false,
                "deepnote_cell_type": "code"
            },
            "outputs": [
                {
                    "output_type": "execute_result",
                    "execution_count": 11,
                    "data": {
                        "application/vnd.deepnote.dataframe.v3+json": {
                            "column_count": 12,
                            "row_count": 5,
                            "columns": [
                                {
                                    "name": "FlightNumber",
                                    "dtype": "int64",
                                    "stats": {
                                        "unique_count": 5,
                                        "nan_count": 0,
                                        "min": "1",
                                        "max": "5",
                                        "histogram": [
                                            {
                                                "bin_start": 1,
                                                "bin_end": 1.4,
                                                "count": 1
                                            },
                                            {
                                                "bin_start": 1.4,
                                                "bin_end": 1.8,
                                                "count": 0
                                            },
                                            {
                                                "bin_start": 1.8,
                                                "bin_end": 2.2,
                                                "count": 1
                                            },
                                            {
                                                "bin_start": 2.2,
                                                "bin_end": 2.6,
                                                "count": 0
                                            },
                                            {
                                                "bin_start": 2.6,
                                                "bin_end": 3,
                                                "count": 0
                                            },
                                            {
                                                "bin_start": 3,
                                                "bin_end": 3.4000000000000004,
                                                "count": 1
                                            },
                                            {
                                                "bin_start": 3.4000000000000004,
                                                "bin_end": 3.8000000000000003,
                                                "count": 0
                                            },
                                            {
                                                "bin_start": 3.8000000000000003,
                                                "bin_end": 4.2,
                                                "count": 1
                                            },
                                            {
                                                "bin_start": 4.2,
                                                "bin_end": 4.6,
                                                "count": 0
                                            },
                                            {
                                                "bin_start": 4.6,
                                                "bin_end": 5,
                                                "count": 1
                                            }
                                        ]
                                    }
                                },
                                {
                                    "name": "PayloadMass",
                                    "dtype": "float64",
                                    "stats": {
                                        "unique_count": 5,
                                        "nan_count": 0,
                                        "min": "500.0",
                                        "max": "6104.959411764706",
                                        "histogram": [
                                            {
                                                "bin_start": 500,
                                                "bin_end": 1060.4959411764705,
                                                "count": 3
                                            },
                                            {
                                                "bin_start": 1060.4959411764705,
                                                "bin_end": 1620.991882352941,
                                                "count": 0
                                            },
                                            {
                                                "bin_start": 1620.991882352941,
                                                "bin_end": 2181.487823529412,
                                                "count": 0
                                            },
                                            {
                                                "bin_start": 2181.487823529412,
                                                "bin_end": 2741.983764705882,
                                                "count": 0
                                            },
                                            {
                                                "bin_start": 2741.983764705882,
                                                "bin_end": 3302.4797058823524,
                                                "count": 1
                                            },
                                            {
                                                "bin_start": 3302.4797058823524,
                                                "bin_end": 3862.975647058823,
                                                "count": 0
                                            },
                                            {
                                                "bin_start": 3862.975647058823,
                                                "bin_end": 4423.471588235294,
                                                "count": 0
                                            },
                                            {
                                                "bin_start": 4423.471588235294,
                                                "bin_end": 4983.967529411764,
                                                "count": 0
                                            },
                                            {
                                                "bin_start": 4983.967529411764,
                                                "bin_end": 5544.4634705882345,
                                                "count": 0
                                            },
                                            {
                                                "bin_start": 5544.4634705882345,
                                                "bin_end": 6104.959411764706,
                                                "count": 1
                                            }
                                        ]
                                    }
                                },
                                {
                                    "name": "Orbit",
                                    "dtype": "object",
                                    "stats": {
                                        "unique_count": 4,
                                        "nan_count": 0,
                                        "categories": [
                                            {
                                                "name": "LEO",
                                                "count": 2
                                            },
                                            {
                                                "name": "ISS",
                                                "count": 1
                                            },
                                            {
                                                "name": "2 others",
                                                "count": 2
                                            }
                                        ]
                                    }
                                },
                                {
                                    "name": "LaunchSite",
                                    "dtype": "object",
                                    "stats": {
                                        "unique_count": 2,
                                        "nan_count": 0,
                                        "categories": [
                                            {
                                                "name": "CCAFS SLC 40",
                                                "count": 4
                                            },
                                            {
                                                "name": "VAFB SLC 4E",
                                                "count": 1
                                            }
                                        ]
                                    }
                                },
                                {
                                    "name": "Flights",
                                    "dtype": "int64",
                                    "stats": {
                                        "unique_count": 1,
                                        "nan_count": 0,
                                        "min": "1",
                                        "max": "1",
                                        "histogram": [
                                            {
                                                "bin_start": 0.5,
                                                "bin_end": 0.6,
                                                "count": 0
                                            },
                                            {
                                                "bin_start": 0.6,
                                                "bin_end": 0.7,
                                                "count": 0
                                            },
                                            {
                                                "bin_start": 0.7,
                                                "bin_end": 0.8,
                                                "count": 0
                                            },
                                            {
                                                "bin_start": 0.8,
                                                "bin_end": 0.9,
                                                "count": 0
                                            },
                                            {
                                                "bin_start": 0.9,
                                                "bin_end": 1,
                                                "count": 0
                                            },
                                            {
                                                "bin_start": 1,
                                                "bin_end": 1.1,
                                                "count": 5
                                            },
                                            {
                                                "bin_start": 1.1,
                                                "bin_end": 1.2000000000000002,
                                                "count": 0
                                            },
                                            {
                                                "bin_start": 1.2000000000000002,
                                                "bin_end": 1.3,
                                                "count": 0
                                            },
                                            {
                                                "bin_start": 1.3,
                                                "bin_end": 1.4,
                                                "count": 0
                                            },
                                            {
                                                "bin_start": 1.4,
                                                "bin_end": 1.5,
                                                "count": 0
                                            }
                                        ]
                                    }
                                },
                                {
                                    "name": "GridFins",
                                    "dtype": "bool",
                                    "stats": {
                                        "unique_count": 1,
                                        "nan_count": 0,
                                        "categories": [
                                            {
                                                "name": "False",
                                                "count": 5
                                            }
                                        ]
                                    }
                                },
                                {
                                    "name": "Reused",
                                    "dtype": "bool",
                                    "stats": {
                                        "unique_count": 1,
                                        "nan_count": 0,
                                        "categories": [
                                            {
                                                "name": "False",
                                                "count": 5
                                            }
                                        ]
                                    }
                                },
                                {
                                    "name": "Legs",
                                    "dtype": "bool",
                                    "stats": {
                                        "unique_count": 1,
                                        "nan_count": 0,
                                        "categories": [
                                            {
                                                "name": "False",
                                                "count": 5
                                            }
                                        ]
                                    }
                                },
                                {
                                    "name": "LandingPad",
                                    "dtype": "object",
                                    "stats": {
                                        "unique_count": 0,
                                        "nan_count": 5,
                                        "categories": [
                                            {
                                                "name": "Missing",
                                                "count": 5
                                            }
                                        ]
                                    }
                                },
                                {
                                    "name": "Block",
                                    "dtype": "float64",
                                    "stats": {
                                        "unique_count": 1,
                                        "nan_count": 0,
                                        "min": "1.0",
                                        "max": "1.0",
                                        "histogram": [
                                            {
                                                "bin_start": 0.5,
                                                "bin_end": 0.6,
                                                "count": 0
                                            },
                                            {
                                                "bin_start": 0.6,
                                                "bin_end": 0.7,
                                                "count": 0
                                            },
                                            {
                                                "bin_start": 0.7,
                                                "bin_end": 0.8,
                                                "count": 0
                                            },
                                            {
                                                "bin_start": 0.8,
                                                "bin_end": 0.9,
                                                "count": 0
                                            },
                                            {
                                                "bin_start": 0.9,
                                                "bin_end": 1,
                                                "count": 0
                                            },
                                            {
                                                "bin_start": 1,
                                                "bin_end": 1.1,
                                                "count": 5
                                            },
                                            {
                                                "bin_start": 1.1,
                                                "bin_end": 1.2000000000000002,
                                                "count": 0
                                            },
                                            {
                                                "bin_start": 1.2000000000000002,
                                                "bin_end": 1.3,
                                                "count": 0
                                            },
                                            {
                                                "bin_start": 1.3,
                                                "bin_end": 1.4,
                                                "count": 0
                                            },
                                            {
                                                "bin_start": 1.4,
                                                "bin_end": 1.5,
                                                "count": 0
                                            }
                                        ]
                                    }
                                },
                                {
                                    "name": "ReusedCount",
                                    "dtype": "int64",
                                    "stats": {
                                        "unique_count": 1,
                                        "nan_count": 0,
                                        "min": "0",
                                        "max": "0",
                                        "histogram": [
                                            {
                                                "bin_start": -0.5,
                                                "bin_end": -0.4,
                                                "count": 0
                                            },
                                            {
                                                "bin_start": -0.4,
                                                "bin_end": -0.3,
                                                "count": 0
                                            },
                                            {
                                                "bin_start": -0.3,
                                                "bin_end": -0.19999999999999996,
                                                "count": 0
                                            },
                                            {
                                                "bin_start": -0.19999999999999996,
                                                "bin_end": -0.09999999999999998,
                                                "count": 0
                                            },
                                            {
                                                "bin_start": -0.09999999999999998,
                                                "bin_end": 0,
                                                "count": 0
                                            },
                                            {
                                                "bin_start": 0,
                                                "bin_end": 0.10000000000000009,
                                                "count": 5
                                            },
                                            {
                                                "bin_start": 0.10000000000000009,
                                                "bin_end": 0.20000000000000007,
                                                "count": 0
                                            },
                                            {
                                                "bin_start": 0.20000000000000007,
                                                "bin_end": 0.30000000000000004,
                                                "count": 0
                                            },
                                            {
                                                "bin_start": 0.30000000000000004,
                                                "bin_end": 0.4,
                                                "count": 0
                                            },
                                            {
                                                "bin_start": 0.4,
                                                "bin_end": 0.5,
                                                "count": 0
                                            }
                                        ]
                                    }
                                },
                                {
                                    "name": "Serial",
                                    "dtype": "object",
                                    "stats": {
                                        "unique_count": 5,
                                        "nan_count": 0,
                                        "categories": [
                                            {
                                                "name": "B0003",
                                                "count": 1
                                            },
                                            {
                                                "name": "B0005",
                                                "count": 1
                                            },
                                            {
                                                "name": "3 others",
                                                "count": 3
                                            }
                                        ]
                                    }
                                },
                                {
                                    "name": "_deepnote_index_column",
                                    "dtype": "int64"
                                }
                            ],
                            "rows": [
                                {
                                    "FlightNumber": 1,
                                    "PayloadMass": 6104.959411764706,
                                    "Orbit": "LEO",
                                    "LaunchSite": "CCAFS SLC 40",
                                    "Flights": 1,
                                    "GridFins": false,
                                    "Reused": false,
                                    "Legs": false,
                                    "LandingPad": "nan",
                                    "Block": 1,
                                    "ReusedCount": 0,
                                    "Serial": "B0003",
                                    "_deepnote_index_column": 0
                                },
                                {
                                    "FlightNumber": 2,
                                    "PayloadMass": 525,
                                    "Orbit": "LEO",
                                    "LaunchSite": "CCAFS SLC 40",
                                    "Flights": 1,
                                    "GridFins": false,
                                    "Reused": false,
                                    "Legs": false,
                                    "LandingPad": "nan",
                                    "Block": 1,
                                    "ReusedCount": 0,
                                    "Serial": "B0005",
                                    "_deepnote_index_column": 1
                                },
                                {
                                    "FlightNumber": 3,
                                    "PayloadMass": 677,
                                    "Orbit": "ISS",
                                    "LaunchSite": "CCAFS SLC 40",
                                    "Flights": 1,
                                    "GridFins": false,
                                    "Reused": false,
                                    "Legs": false,
                                    "LandingPad": "nan",
                                    "Block": 1,
                                    "ReusedCount": 0,
                                    "Serial": "B0007",
                                    "_deepnote_index_column": 2
                                },
                                {
                                    "FlightNumber": 4,
                                    "PayloadMass": 500,
                                    "Orbit": "PO",
                                    "LaunchSite": "VAFB SLC 4E",
                                    "Flights": 1,
                                    "GridFins": false,
                                    "Reused": false,
                                    "Legs": false,
                                    "LandingPad": "nan",
                                    "Block": 1,
                                    "ReusedCount": 0,
                                    "Serial": "B1003",
                                    "_deepnote_index_column": 3
                                },
                                {
                                    "FlightNumber": 5,
                                    "PayloadMass": 3170,
                                    "Orbit": "GTO",
                                    "LaunchSite": "CCAFS SLC 40",
                                    "Flights": 1,
                                    "GridFins": false,
                                    "Reused": false,
                                    "Legs": false,
                                    "LandingPad": "nan",
                                    "Block": 1,
                                    "ReusedCount": 0,
                                    "Serial": "B1004",
                                    "_deepnote_index_column": 4
                                }
                            ]
                        },
                        "text/plain": "   FlightNumber  PayloadMass Orbit    LaunchSite  Flights  GridFins  Reused  \\\n0             1  6104.959412   LEO  CCAFS SLC 40        1     False   False   \n1             2   525.000000   LEO  CCAFS SLC 40        1     False   False   \n2             3   677.000000   ISS  CCAFS SLC 40        1     False   False   \n3             4   500.000000    PO   VAFB SLC 4E        1     False   False   \n4             5  3170.000000   GTO  CCAFS SLC 40        1     False   False   \n\n    Legs LandingPad  Block  ReusedCount Serial  \n0  False        NaN    1.0            0  B0003  \n1  False        NaN    1.0            0  B0005  \n2  False        NaN    1.0            0  B0007  \n3  False        NaN    1.0            0  B1003  \n4  False        NaN    1.0            0  B1004  ",
                        "text/html": "<div>\n<style scoped>\n    .dataframe tbody tr th:only-of-type {\n        vertical-align: middle;\n    }\n\n    .dataframe tbody tr th {\n        vertical-align: top;\n    }\n\n    .dataframe thead th {\n        text-align: right;\n    }\n</style>\n<table border=\"1\" class=\"dataframe\">\n  <thead>\n    <tr style=\"text-align: right;\">\n      <th></th>\n      <th>FlightNumber</th>\n      <th>PayloadMass</th>\n      <th>Orbit</th>\n      <th>LaunchSite</th>\n      <th>Flights</th>\n      <th>GridFins</th>\n      <th>Reused</th>\n      <th>Legs</th>\n      <th>LandingPad</th>\n      <th>Block</th>\n      <th>ReusedCount</th>\n      <th>Serial</th>\n    </tr>\n  </thead>\n  <tbody>\n    <tr>\n      <th>0</th>\n      <td>1</td>\n      <td>6104.959412</td>\n      <td>LEO</td>\n      <td>CCAFS SLC 40</td>\n      <td>1</td>\n      <td>False</td>\n      <td>False</td>\n      <td>False</td>\n      <td>NaN</td>\n      <td>1.0</td>\n      <td>0</td>\n      <td>B0003</td>\n    </tr>\n    <tr>\n      <th>1</th>\n      <td>2</td>\n      <td>525.000000</td>\n      <td>LEO</td>\n      <td>CCAFS SLC 40</td>\n      <td>1</td>\n      <td>False</td>\n      <td>False</td>\n      <td>False</td>\n      <td>NaN</td>\n      <td>1.0</td>\n      <td>0</td>\n      <td>B0005</td>\n    </tr>\n    <tr>\n      <th>2</th>\n      <td>3</td>\n      <td>677.000000</td>\n      <td>ISS</td>\n      <td>CCAFS SLC 40</td>\n      <td>1</td>\n      <td>False</td>\n      <td>False</td>\n      <td>False</td>\n      <td>NaN</td>\n      <td>1.0</td>\n      <td>0</td>\n      <td>B0007</td>\n    </tr>\n    <tr>\n      <th>3</th>\n      <td>4</td>\n      <td>500.000000</td>\n      <td>PO</td>\n      <td>VAFB SLC 4E</td>\n      <td>1</td>\n      <td>False</td>\n      <td>False</td>\n      <td>False</td>\n      <td>NaN</td>\n      <td>1.0</td>\n      <td>0</td>\n      <td>B1003</td>\n    </tr>\n    <tr>\n      <th>4</th>\n      <td>5</td>\n      <td>3170.000000</td>\n      <td>GTO</td>\n      <td>CCAFS SLC 40</td>\n      <td>1</td>\n      <td>False</td>\n      <td>False</td>\n      <td>False</td>\n      <td>NaN</td>\n      <td>1.0</td>\n      <td>0</td>\n      <td>B1004</td>\n    </tr>\n  </tbody>\n</table>\n</div>"
                    },
                    "metadata": {}
                }
            ],
            "execution_count": 11
        },
        {
            "cell_type": "markdown",
            "source": "### TASK  7: Create dummy variables to categorical columns\n",
            "metadata": {
                "cell_id": "7ae8f7e1a2ee4ae3bcd2af5f23949032",
                "deepnote_cell_height": 62,
                "deepnote_cell_type": "markdown"
            }
        },
        {
            "cell_type": "markdown",
            "source": "Use the function <code>get_dummies</code> and <code>features</code> dataframe to apply OneHotEncoder to the column <code>Orbits</code>, <code>LaunchSite</code>, <code>LandingPad</code>, and <code>Serial</code>. Assign the value to the variable <code>features_one_hot</code>, display the results using the method head. Your result dataframe must include all features including the encoded ones.\n",
            "metadata": {
                "cell_id": "5340778a1f8343c18942696e9f717aee",
                "deepnote_cell_height": 97.19999694824219,
                "deepnote_cell_type": "markdown"
            }
        },
        {
            "cell_type": "code",
            "source": "# HINT: Use get_dummies() function on the categorical columns\nfeatures_one_hot=pd.get_dummies(features, columns=['Orbit','LaunchSite', 'LandingPad', 'Serial'])\nfeatures_one_hot\n",
            "metadata": {
                "cell_id": "2bd4086b3b9049bb9970cb47974a4699",
                "source_hash": "12ba2fe",
                "execution_start": 1661336960782,
                "execution_millis": 746,
                "deepnote_to_be_reexecuted": false,
                "deepnote_cell_type": "code"
            },
            "outputs": [
                {
                    "output_type": "execute_result",
                    "execution_count": 12,
                    "data": {
                        "application/vnd.deepnote.dataframe.v3+json": {
                            "column_count": 80,
                            "row_count": 90,
                            "columns": [
                                {
                                    "name": "FlightNumber",
                                    "dtype": "int64",
                                    "stats": {
                                        "unique_count": 90,
                                        "nan_count": 0,
                                        "min": "1",
                                        "max": "90",
                                        "histogram": [
                                            {
                                                "bin_start": 1,
                                                "bin_end": 9.9,
                                                "count": 9
                                            },
                                            {
                                                "bin_start": 9.9,
                                                "bin_end": 18.8,
                                                "count": 9
                                            },
                                            {
                                                "bin_start": 18.8,
                                                "bin_end": 27.700000000000003,
                                                "count": 9
                                            },
                                            {
                                                "bin_start": 27.700000000000003,
                                                "bin_end": 36.6,
                                                "count": 9
                                            },
                                            {
                                                "bin_start": 36.6,
                                                "bin_end": 45.5,
                                                "count": 9
                                            },
                                            {
                                                "bin_start": 45.5,
                                                "bin_end": 54.400000000000006,
                                                "count": 9
                                            },
                                            {
                                                "bin_start": 54.400000000000006,
                                                "bin_end": 63.300000000000004,
                                                "count": 9
                                            },
                                            {
                                                "bin_start": 63.300000000000004,
                                                "bin_end": 72.2,
                                                "count": 9
                                            },
                                            {
                                                "bin_start": 72.2,
                                                "bin_end": 81.10000000000001,
                                                "count": 9
                                            },
                                            {
                                                "bin_start": 81.10000000000001,
                                                "bin_end": 90,
                                                "count": 9
                                            }
                                        ]
                                    }
                                },
                                {
                                    "name": "PayloadMass",
                                    "dtype": "float64",
                                    "stats": {
                                        "unique_count": 69,
                                        "nan_count": 0,
                                        "min": "350.0",
                                        "max": "15600.0",
                                        "histogram": [
                                            {
                                                "bin_start": 350,
                                                "bin_end": 1875,
                                                "count": 10
                                            },
                                            {
                                                "bin_start": 1875,
                                                "bin_end": 3400,
                                                "count": 23
                                            },
                                            {
                                                "bin_start": 3400,
                                                "bin_end": 4925,
                                                "count": 13
                                            },
                                            {
                                                "bin_start": 4925,
                                                "bin_end": 6450,
                                                "count": 16
                                            },
                                            {
                                                "bin_start": 6450,
                                                "bin_end": 7975,
                                                "count": 5
                                            },
                                            {
                                                "bin_start": 7975,
                                                "bin_end": 9500,
                                                "count": 0
                                            },
                                            {
                                                "bin_start": 9500,
                                                "bin_end": 11025,
                                                "count": 8
                                            },
                                            {
                                                "bin_start": 11025,
                                                "bin_end": 12550,
                                                "count": 1
                                            },
                                            {
                                                "bin_start": 12550,
                                                "bin_end": 14075,
                                                "count": 1
                                            },
                                            {
                                                "bin_start": 14075,
                                                "bin_end": 15600,
                                                "count": 13
                                            }
                                        ]
                                    }
                                },
                                {
                                    "name": "Flights",
                                    "dtype": "int64",
                                    "stats": {
                                        "unique_count": 6,
                                        "nan_count": 0,
                                        "min": "1",
                                        "max": "6",
                                        "histogram": [
                                            {
                                                "bin_start": 1,
                                                "bin_end": 1.5,
                                                "count": 53
                                            },
                                            {
                                                "bin_start": 1.5,
                                                "bin_end": 2,
                                                "count": 0
                                            },
                                            {
                                                "bin_start": 2,
                                                "bin_end": 2.5,
                                                "count": 19
                                            },
                                            {
                                                "bin_start": 2.5,
                                                "bin_end": 3,
                                                "count": 0
                                            },
                                            {
                                                "bin_start": 3,
                                                "bin_end": 3.5,
                                                "count": 8
                                            },
                                            {
                                                "bin_start": 3.5,
                                                "bin_end": 4,
                                                "count": 0
                                            },
                                            {
                                                "bin_start": 4,
                                                "bin_end": 4.5,
                                                "count": 6
                                            },
                                            {
                                                "bin_start": 4.5,
                                                "bin_end": 5,
                                                "count": 0
                                            },
                                            {
                                                "bin_start": 5,
                                                "bin_end": 5.5,
                                                "count": 2
                                            },
                                            {
                                                "bin_start": 5.5,
                                                "bin_end": 6,
                                                "count": 2
                                            }
                                        ]
                                    }
                                },
                                {
                                    "name": "GridFins",
                                    "dtype": "bool",
                                    "stats": {
                                        "unique_count": 2,
                                        "nan_count": 0,
                                        "categories": [
                                            {
                                                "name": "True",
                                                "count": 70
                                            },
                                            {
                                                "name": "False",
                                                "count": 20
                                            }
                                        ]
                                    }
                                },
                                {
                                    "name": "Reused",
                                    "dtype": "bool",
                                    "stats": {
                                        "unique_count": 2,
                                        "nan_count": 0,
                                        "categories": [
                                            {
                                                "name": "False",
                                                "count": 53
                                            },
                                            {
                                                "name": "True",
                                                "count": 37
                                            }
                                        ]
                                    }
                                },
                                {
                                    "name": "Legs",
                                    "dtype": "bool",
                                    "stats": {
                                        "unique_count": 2,
                                        "nan_count": 0,
                                        "categories": [
                                            {
                                                "name": "True",
                                                "count": 71
                                            },
                                            {
                                                "name": "False",
                                                "count": 19
                                            }
                                        ]
                                    }
                                },
                                {
                                    "name": "Block",
                                    "dtype": "float64",
                                    "stats": {
                                        "unique_count": 5,
                                        "nan_count": 0,
                                        "min": "1.0",
                                        "max": "5.0",
                                        "histogram": [
                                            {
                                                "bin_start": 1,
                                                "bin_end": 1.4,
                                                "count": 19
                                            },
                                            {
                                                "bin_start": 1.4,
                                                "bin_end": 1.8,
                                                "count": 0
                                            },
                                            {
                                                "bin_start": 1.8,
                                                "bin_end": 2.2,
                                                "count": 6
                                            },
                                            {
                                                "bin_start": 2.2,
                                                "bin_end": 2.6,
                                                "count": 0
                                            },
                                            {
                                                "bin_start": 2.6,
                                                "bin_end": 3,
                                                "count": 0
                                            },
                                            {
                                                "bin_start": 3,
                                                "bin_end": 3.4000000000000004,
                                                "count": 15
                                            },
                                            {
                                                "bin_start": 3.4000000000000004,
                                                "bin_end": 3.8000000000000003,
                                                "count": 0
                                            },
                                            {
                                                "bin_start": 3.8000000000000003,
                                                "bin_end": 4.2,
                                                "count": 11
                                            },
                                            {
                                                "bin_start": 4.2,
                                                "bin_end": 4.6,
                                                "count": 0
                                            },
                                            {
                                                "bin_start": 4.6,
                                                "bin_end": 5,
                                                "count": 39
                                            }
                                        ]
                                    }
                                },
                                {
                                    "name": "ReusedCount",
                                    "dtype": "int64",
                                    "stats": {
                                        "unique_count": 6,
                                        "nan_count": 0,
                                        "min": "0",
                                        "max": "5",
                                        "histogram": [
                                            {
                                                "bin_start": 0,
                                                "bin_end": 0.5,
                                                "count": 30
                                            },
                                            {
                                                "bin_start": 0.5,
                                                "bin_end": 1,
                                                "count": 0
                                            },
                                            {
                                                "bin_start": 1,
                                                "bin_end": 1.5,
                                                "count": 24
                                            },
                                            {
                                                "bin_start": 1.5,
                                                "bin_end": 2,
                                                "count": 0
                                            },
                                            {
                                                "bin_start": 2,
                                                "bin_end": 2.5,
                                                "count": 9
                                            },
                                            {
                                                "bin_start": 2.5,
                                                "bin_end": 3,
                                                "count": 0
                                            },
                                            {
                                                "bin_start": 3,
                                                "bin_end": 3.5,
                                                "count": 12
                                            },
                                            {
                                                "bin_start": 3.5,
                                                "bin_end": 4,
                                                "count": 0
                                            },
                                            {
                                                "bin_start": 4,
                                                "bin_end": 4.5,
                                                "count": 4
                                            },
                                            {
                                                "bin_start": 4.5,
                                                "bin_end": 5,
                                                "count": 11
                                            }
                                        ]
                                    }
                                },
                                {
                                    "name": "Orbit_ES-L1",
                                    "dtype": "uint8",
                                    "stats": {
                                        "unique_count": 2,
                                        "nan_count": 0,
                                        "min": "0",
                                        "max": "1",
                                        "histogram": [
                                            {
                                                "bin_start": 0,
                                                "bin_end": 0.1,
                                                "count": 89
                                            },
                                            {
                                                "bin_start": 0.1,
                                                "bin_end": 0.2,
                                                "count": 0
                                            },
                                            {
                                                "bin_start": 0.2,
                                                "bin_end": 0.30000000000000004,
                                                "count": 0
                                            },
                                            {
                                                "bin_start": 0.30000000000000004,
                                                "bin_end": 0.4,
                                                "count": 0
                                            },
                                            {
                                                "bin_start": 0.4,
                                                "bin_end": 0.5,
                                                "count": 0
                                            },
                                            {
                                                "bin_start": 0.5,
                                                "bin_end": 0.6000000000000001,
                                                "count": 0
                                            },
                                            {
                                                "bin_start": 0.6000000000000001,
                                                "bin_end": 0.7000000000000001,
                                                "count": 0
                                            },
                                            {
                                                "bin_start": 0.7000000000000001,
                                                "bin_end": 0.8,
                                                "count": 0
                                            },
                                            {
                                                "bin_start": 0.8,
                                                "bin_end": 0.9,
                                                "count": 0
                                            },
                                            {
                                                "bin_start": 0.9,
                                                "bin_end": 1,
                                                "count": 1
                                            }
                                        ]
                                    }
                                },
                                {
                                    "name": "Orbit_GEO",
                                    "dtype": "uint8",
                                    "stats": {
                                        "unique_count": 2,
                                        "nan_count": 0,
                                        "min": "0",
                                        "max": "1",
                                        "histogram": [
                                            {
                                                "bin_start": 0,
                                                "bin_end": 0.1,
                                                "count": 89
                                            },
                                            {
                                                "bin_start": 0.1,
                                                "bin_end": 0.2,
                                                "count": 0
                                            },
                                            {
                                                "bin_start": 0.2,
                                                "bin_end": 0.30000000000000004,
                                                "count": 0
                                            },
                                            {
                                                "bin_start": 0.30000000000000004,
                                                "bin_end": 0.4,
                                                "count": 0
                                            },
                                            {
                                                "bin_start": 0.4,
                                                "bin_end": 0.5,
                                                "count": 0
                                            },
                                            {
                                                "bin_start": 0.5,
                                                "bin_end": 0.6000000000000001,
                                                "count": 0
                                            },
                                            {
                                                "bin_start": 0.6000000000000001,
                                                "bin_end": 0.7000000000000001,
                                                "count": 0
                                            },
                                            {
                                                "bin_start": 0.7000000000000001,
                                                "bin_end": 0.8,
                                                "count": 0
                                            },
                                            {
                                                "bin_start": 0.8,
                                                "bin_end": 0.9,
                                                "count": 0
                                            },
                                            {
                                                "bin_start": 0.9,
                                                "bin_end": 1,
                                                "count": 1
                                            }
                                        ]
                                    }
                                },
                                {
                                    "name": "Orbit_GTO",
                                    "dtype": "uint8",
                                    "stats": {
                                        "unique_count": 2,
                                        "nan_count": 0,
                                        "min": "0",
                                        "max": "1",
                                        "histogram": [
                                            {
                                                "bin_start": 0,
                                                "bin_end": 0.1,
                                                "count": 63
                                            },
                                            {
                                                "bin_start": 0.1,
                                                "bin_end": 0.2,
                                                "count": 0
                                            },
                                            {
                                                "bin_start": 0.2,
                                                "bin_end": 0.30000000000000004,
                                                "count": 0
                                            },
                                            {
                                                "bin_start": 0.30000000000000004,
                                                "bin_end": 0.4,
                                                "count": 0
                                            },
                                            {
                                                "bin_start": 0.4,
                                                "bin_end": 0.5,
                                                "count": 0
                                            },
                                            {
                                                "bin_start": 0.5,
                                                "bin_end": 0.6000000000000001,
                                                "count": 0
                                            },
                                            {
                                                "bin_start": 0.6000000000000001,
                                                "bin_end": 0.7000000000000001,
                                                "count": 0
                                            },
                                            {
                                                "bin_start": 0.7000000000000001,
                                                "bin_end": 0.8,
                                                "count": 0
                                            },
                                            {
                                                "bin_start": 0.8,
                                                "bin_end": 0.9,
                                                "count": 0
                                            },
                                            {
                                                "bin_start": 0.9,
                                                "bin_end": 1,
                                                "count": 27
                                            }
                                        ]
                                    }
                                },
                                {
                                    "name": "Orbit_HEO",
                                    "dtype": "uint8",
                                    "stats": {
                                        "unique_count": 2,
                                        "nan_count": 0,
                                        "min": "0",
                                        "max": "1",
                                        "histogram": [
                                            {
                                                "bin_start": 0,
                                                "bin_end": 0.1,
                                                "count": 89
                                            },
                                            {
                                                "bin_start": 0.1,
                                                "bin_end": 0.2,
                                                "count": 0
                                            },
                                            {
                                                "bin_start": 0.2,
                                                "bin_end": 0.30000000000000004,
                                                "count": 0
                                            },
                                            {
                                                "bin_start": 0.30000000000000004,
                                                "bin_end": 0.4,
                                                "count": 0
                                            },
                                            {
                                                "bin_start": 0.4,
                                                "bin_end": 0.5,
                                                "count": 0
                                            },
                                            {
                                                "bin_start": 0.5,
                                                "bin_end": 0.6000000000000001,
                                                "count": 0
                                            },
                                            {
                                                "bin_start": 0.6000000000000001,
                                                "bin_end": 0.7000000000000001,
                                                "count": 0
                                            },
                                            {
                                                "bin_start": 0.7000000000000001,
                                                "bin_end": 0.8,
                                                "count": 0
                                            },
                                            {
                                                "bin_start": 0.8,
                                                "bin_end": 0.9,
                                                "count": 0
                                            },
                                            {
                                                "bin_start": 0.9,
                                                "bin_end": 1,
                                                "count": 1
                                            }
                                        ]
                                    }
                                },
                                {
                                    "name": "Orbit_ISS",
                                    "dtype": "uint8",
                                    "stats": {
                                        "unique_count": 2,
                                        "nan_count": 0,
                                        "min": "0",
                                        "max": "1",
                                        "histogram": [
                                            {
                                                "bin_start": 0,
                                                "bin_end": 0.1,
                                                "count": 69
                                            },
                                            {
                                                "bin_start": 0.1,
                                                "bin_end": 0.2,
                                                "count": 0
                                            },
                                            {
                                                "bin_start": 0.2,
                                                "bin_end": 0.30000000000000004,
                                                "count": 0
                                            },
                                            {
                                                "bin_start": 0.30000000000000004,
                                                "bin_end": 0.4,
                                                "count": 0
                                            },
                                            {
                                                "bin_start": 0.4,
                                                "bin_end": 0.5,
                                                "count": 0
                                            },
                                            {
                                                "bin_start": 0.5,
                                                "bin_end": 0.6000000000000001,
                                                "count": 0
                                            },
                                            {
                                                "bin_start": 0.6000000000000001,
                                                "bin_end": 0.7000000000000001,
                                                "count": 0
                                            },
                                            {
                                                "bin_start": 0.7000000000000001,
                                                "bin_end": 0.8,
                                                "count": 0
                                            },
                                            {
                                                "bin_start": 0.8,
                                                "bin_end": 0.9,
                                                "count": 0
                                            },
                                            {
                                                "bin_start": 0.9,
                                                "bin_end": 1,
                                                "count": 21
                                            }
                                        ]
                                    }
                                },
                                {
                                    "name": "Orbit_LEO",
                                    "dtype": "uint8",
                                    "stats": {
                                        "unique_count": 2,
                                        "nan_count": 0,
                                        "min": "0",
                                        "max": "1",
                                        "histogram": [
                                            {
                                                "bin_start": 0,
                                                "bin_end": 0.1,
                                                "count": 83
                                            },
                                            {
                                                "bin_start": 0.1,
                                                "bin_end": 0.2,
                                                "count": 0
                                            },
                                            {
                                                "bin_start": 0.2,
                                                "bin_end": 0.30000000000000004,
                                                "count": 0
                                            },
                                            {
                                                "bin_start": 0.30000000000000004,
                                                "bin_end": 0.4,
                                                "count": 0
                                            },
                                            {
                                                "bin_start": 0.4,
                                                "bin_end": 0.5,
                                                "count": 0
                                            },
                                            {
                                                "bin_start": 0.5,
                                                "bin_end": 0.6000000000000001,
                                                "count": 0
                                            },
                                            {
                                                "bin_start": 0.6000000000000001,
                                                "bin_end": 0.7000000000000001,
                                                "count": 0
                                            },
                                            {
                                                "bin_start": 0.7000000000000001,
                                                "bin_end": 0.8,
                                                "count": 0
                                            },
                                            {
                                                "bin_start": 0.8,
                                                "bin_end": 0.9,
                                                "count": 0
                                            },
                                            {
                                                "bin_start": 0.9,
                                                "bin_end": 1,
                                                "count": 7
                                            }
                                        ]
                                    }
                                },
                                {
                                    "name": "Orbit_MEO",
                                    "dtype": "uint8",
                                    "stats": {
                                        "unique_count": 2,
                                        "nan_count": 0,
                                        "min": "0",
                                        "max": "1",
                                        "histogram": [
                                            {
                                                "bin_start": 0,
                                                "bin_end": 0.1,
                                                "count": 87
                                            },
                                            {
                                                "bin_start": 0.1,
                                                "bin_end": 0.2,
                                                "count": 0
                                            },
                                            {
                                                "bin_start": 0.2,
                                                "bin_end": 0.30000000000000004,
                                                "count": 0
                                            },
                                            {
                                                "bin_start": 0.30000000000000004,
                                                "bin_end": 0.4,
                                                "count": 0
                                            },
                                            {
                                                "bin_start": 0.4,
                                                "bin_end": 0.5,
                                                "count": 0
                                            },
                                            {
                                                "bin_start": 0.5,
                                                "bin_end": 0.6000000000000001,
                                                "count": 0
                                            },
                                            {
                                                "bin_start": 0.6000000000000001,
                                                "bin_end": 0.7000000000000001,
                                                "count": 0
                                            },
                                            {
                                                "bin_start": 0.7000000000000001,
                                                "bin_end": 0.8,
                                                "count": 0
                                            },
                                            {
                                                "bin_start": 0.8,
                                                "bin_end": 0.9,
                                                "count": 0
                                            },
                                            {
                                                "bin_start": 0.9,
                                                "bin_end": 1,
                                                "count": 3
                                            }
                                        ]
                                    }
                                },
                                {
                                    "name": "Orbit_PO",
                                    "dtype": "uint8",
                                    "stats": {
                                        "unique_count": 2,
                                        "nan_count": 0,
                                        "min": "0",
                                        "max": "1",
                                        "histogram": [
                                            {
                                                "bin_start": 0,
                                                "bin_end": 0.1,
                                                "count": 81
                                            },
                                            {
                                                "bin_start": 0.1,
                                                "bin_end": 0.2,
                                                "count": 0
                                            },
                                            {
                                                "bin_start": 0.2,
                                                "bin_end": 0.30000000000000004,
                                                "count": 0
                                            },
                                            {
                                                "bin_start": 0.30000000000000004,
                                                "bin_end": 0.4,
                                                "count": 0
                                            },
                                            {
                                                "bin_start": 0.4,
                                                "bin_end": 0.5,
                                                "count": 0
                                            },
                                            {
                                                "bin_start": 0.5,
                                                "bin_end": 0.6000000000000001,
                                                "count": 0
                                            },
                                            {
                                                "bin_start": 0.6000000000000001,
                                                "bin_end": 0.7000000000000001,
                                                "count": 0
                                            },
                                            {
                                                "bin_start": 0.7000000000000001,
                                                "bin_end": 0.8,
                                                "count": 0
                                            },
                                            {
                                                "bin_start": 0.8,
                                                "bin_end": 0.9,
                                                "count": 0
                                            },
                                            {
                                                "bin_start": 0.9,
                                                "bin_end": 1,
                                                "count": 9
                                            }
                                        ]
                                    }
                                },
                                {
                                    "name": "Orbit_SO",
                                    "dtype": "uint8",
                                    "stats": {
                                        "unique_count": 2,
                                        "nan_count": 0,
                                        "min": "0",
                                        "max": "1",
                                        "histogram": [
                                            {
                                                "bin_start": 0,
                                                "bin_end": 0.1,
                                                "count": 89
                                            },
                                            {
                                                "bin_start": 0.1,
                                                "bin_end": 0.2,
                                                "count": 0
                                            },
                                            {
                                                "bin_start": 0.2,
                                                "bin_end": 0.30000000000000004,
                                                "count": 0
                                            },
                                            {
                                                "bin_start": 0.30000000000000004,
                                                "bin_end": 0.4,
                                                "count": 0
                                            },
                                            {
                                                "bin_start": 0.4,
                                                "bin_end": 0.5,
                                                "count": 0
                                            },
                                            {
                                                "bin_start": 0.5,
                                                "bin_end": 0.6000000000000001,
                                                "count": 0
                                            },
                                            {
                                                "bin_start": 0.6000000000000001,
                                                "bin_end": 0.7000000000000001,
                                                "count": 0
                                            },
                                            {
                                                "bin_start": 0.7000000000000001,
                                                "bin_end": 0.8,
                                                "count": 0
                                            },
                                            {
                                                "bin_start": 0.8,
                                                "bin_end": 0.9,
                                                "count": 0
                                            },
                                            {
                                                "bin_start": 0.9,
                                                "bin_end": 1,
                                                "count": 1
                                            }
                                        ]
                                    }
                                },
                                {
                                    "name": "Orbit_SSO",
                                    "dtype": "uint8",
                                    "stats": {
                                        "unique_count": 2,
                                        "nan_count": 0,
                                        "min": "0",
                                        "max": "1",
                                        "histogram": [
                                            {
                                                "bin_start": 0,
                                                "bin_end": 0.1,
                                                "count": 85
                                            },
                                            {
                                                "bin_start": 0.1,
                                                "bin_end": 0.2,
                                                "count": 0
                                            },
                                            {
                                                "bin_start": 0.2,
                                                "bin_end": 0.30000000000000004,
                                                "count": 0
                                            },
                                            {
                                                "bin_start": 0.30000000000000004,
                                                "bin_end": 0.4,
                                                "count": 0
                                            },
                                            {
                                                "bin_start": 0.4,
                                                "bin_end": 0.5,
                                                "count": 0
                                            },
                                            {
                                                "bin_start": 0.5,
                                                "bin_end": 0.6000000000000001,
                                                "count": 0
                                            },
                                            {
                                                "bin_start": 0.6000000000000001,
                                                "bin_end": 0.7000000000000001,
                                                "count": 0
                                            },
                                            {
                                                "bin_start": 0.7000000000000001,
                                                "bin_end": 0.8,
                                                "count": 0
                                            },
                                            {
                                                "bin_start": 0.8,
                                                "bin_end": 0.9,
                                                "count": 0
                                            },
                                            {
                                                "bin_start": 0.9,
                                                "bin_end": 1,
                                                "count": 5
                                            }
                                        ]
                                    }
                                },
                                {
                                    "name": "Orbit_VLEO",
                                    "dtype": "uint8",
                                    "stats": {
                                        "unique_count": 2,
                                        "nan_count": 0,
                                        "min": "0",
                                        "max": "1",
                                        "histogram": [
                                            {
                                                "bin_start": 0,
                                                "bin_end": 0.1,
                                                "count": 76
                                            },
                                            {
                                                "bin_start": 0.1,
                                                "bin_end": 0.2,
                                                "count": 0
                                            },
                                            {
                                                "bin_start": 0.2,
                                                "bin_end": 0.30000000000000004,
                                                "count": 0
                                            },
                                            {
                                                "bin_start": 0.30000000000000004,
                                                "bin_end": 0.4,
                                                "count": 0
                                            },
                                            {
                                                "bin_start": 0.4,
                                                "bin_end": 0.5,
                                                "count": 0
                                            },
                                            {
                                                "bin_start": 0.5,
                                                "bin_end": 0.6000000000000001,
                                                "count": 0
                                            },
                                            {
                                                "bin_start": 0.6000000000000001,
                                                "bin_end": 0.7000000000000001,
                                                "count": 0
                                            },
                                            {
                                                "bin_start": 0.7000000000000001,
                                                "bin_end": 0.8,
                                                "count": 0
                                            },
                                            {
                                                "bin_start": 0.8,
                                                "bin_end": 0.9,
                                                "count": 0
                                            },
                                            {
                                                "bin_start": 0.9,
                                                "bin_end": 1,
                                                "count": 14
                                            }
                                        ]
                                    }
                                },
                                {
                                    "name": "LaunchSite_CCAFS SLC 40",
                                    "dtype": "uint8",
                                    "stats": {
                                        "unique_count": 2,
                                        "nan_count": 0,
                                        "min": "0",
                                        "max": "1",
                                        "histogram": [
                                            {
                                                "bin_start": 0,
                                                "bin_end": 0.1,
                                                "count": 35
                                            },
                                            {
                                                "bin_start": 0.1,
                                                "bin_end": 0.2,
                                                "count": 0
                                            },
                                            {
                                                "bin_start": 0.2,
                                                "bin_end": 0.30000000000000004,
                                                "count": 0
                                            },
                                            {
                                                "bin_start": 0.30000000000000004,
                                                "bin_end": 0.4,
                                                "count": 0
                                            },
                                            {
                                                "bin_start": 0.4,
                                                "bin_end": 0.5,
                                                "count": 0
                                            },
                                            {
                                                "bin_start": 0.5,
                                                "bin_end": 0.6000000000000001,
                                                "count": 0
                                            },
                                            {
                                                "bin_start": 0.6000000000000001,
                                                "bin_end": 0.7000000000000001,
                                                "count": 0
                                            },
                                            {
                                                "bin_start": 0.7000000000000001,
                                                "bin_end": 0.8,
                                                "count": 0
                                            },
                                            {
                                                "bin_start": 0.8,
                                                "bin_end": 0.9,
                                                "count": 0
                                            },
                                            {
                                                "bin_start": 0.9,
                                                "bin_end": 1,
                                                "count": 55
                                            }
                                        ]
                                    }
                                },
                                {
                                    "name": "LaunchSite_KSC LC 39A",
                                    "dtype": "uint8",
                                    "stats": {
                                        "unique_count": 2,
                                        "nan_count": 0,
                                        "min": "0",
                                        "max": "1",
                                        "histogram": [
                                            {
                                                "bin_start": 0,
                                                "bin_end": 0.1,
                                                "count": 68
                                            },
                                            {
                                                "bin_start": 0.1,
                                                "bin_end": 0.2,
                                                "count": 0
                                            },
                                            {
                                                "bin_start": 0.2,
                                                "bin_end": 0.30000000000000004,
                                                "count": 0
                                            },
                                            {
                                                "bin_start": 0.30000000000000004,
                                                "bin_end": 0.4,
                                                "count": 0
                                            },
                                            {
                                                "bin_start": 0.4,
                                                "bin_end": 0.5,
                                                "count": 0
                                            },
                                            {
                                                "bin_start": 0.5,
                                                "bin_end": 0.6000000000000001,
                                                "count": 0
                                            },
                                            {
                                                "bin_start": 0.6000000000000001,
                                                "bin_end": 0.7000000000000001,
                                                "count": 0
                                            },
                                            {
                                                "bin_start": 0.7000000000000001,
                                                "bin_end": 0.8,
                                                "count": 0
                                            },
                                            {
                                                "bin_start": 0.8,
                                                "bin_end": 0.9,
                                                "count": 0
                                            },
                                            {
                                                "bin_start": 0.9,
                                                "bin_end": 1,
                                                "count": 22
                                            }
                                        ]
                                    }
                                },
                                {
                                    "name": "LaunchSite_VAFB SLC 4E",
                                    "dtype": "uint8",
                                    "stats": {
                                        "unique_count": 2,
                                        "nan_count": 0,
                                        "min": "0",
                                        "max": "1",
                                        "histogram": [
                                            {
                                                "bin_start": 0,
                                                "bin_end": 0.1,
                                                "count": 77
                                            },
                                            {
                                                "bin_start": 0.1,
                                                "bin_end": 0.2,
                                                "count": 0
                                            },
                                            {
                                                "bin_start": 0.2,
                                                "bin_end": 0.30000000000000004,
                                                "count": 0
                                            },
                                            {
                                                "bin_start": 0.30000000000000004,
                                                "bin_end": 0.4,
                                                "count": 0
                                            },
                                            {
                                                "bin_start": 0.4,
                                                "bin_end": 0.5,
                                                "count": 0
                                            },
                                            {
                                                "bin_start": 0.5,
                                                "bin_end": 0.6000000000000001,
                                                "count": 0
                                            },
                                            {
                                                "bin_start": 0.6000000000000001,
                                                "bin_end": 0.7000000000000001,
                                                "count": 0
                                            },
                                            {
                                                "bin_start": 0.7000000000000001,
                                                "bin_end": 0.8,
                                                "count": 0
                                            },
                                            {
                                                "bin_start": 0.8,
                                                "bin_end": 0.9,
                                                "count": 0
                                            },
                                            {
                                                "bin_start": 0.9,
                                                "bin_end": 1,
                                                "count": 13
                                            }
                                        ]
                                    }
                                },
                                {
                                    "name": "LandingPad_5e9e3032383ecb267a34e7c7",
                                    "dtype": "uint8",
                                    "stats": {
                                        "unique_count": 2,
                                        "nan_count": 0,
                                        "min": "0",
                                        "max": "1",
                                        "histogram": [
                                            {
                                                "bin_start": 0,
                                                "bin_end": 0.1,
                                                "count": 77
                                            },
                                            {
                                                "bin_start": 0.1,
                                                "bin_end": 0.2,
                                                "count": 0
                                            },
                                            {
                                                "bin_start": 0.2,
                                                "bin_end": 0.30000000000000004,
                                                "count": 0
                                            },
                                            {
                                                "bin_start": 0.30000000000000004,
                                                "bin_end": 0.4,
                                                "count": 0
                                            },
                                            {
                                                "bin_start": 0.4,
                                                "bin_end": 0.5,
                                                "count": 0
                                            },
                                            {
                                                "bin_start": 0.5,
                                                "bin_end": 0.6000000000000001,
                                                "count": 0
                                            },
                                            {
                                                "bin_start": 0.6000000000000001,
                                                "bin_end": 0.7000000000000001,
                                                "count": 0
                                            },
                                            {
                                                "bin_start": 0.7000000000000001,
                                                "bin_end": 0.8,
                                                "count": 0
                                            },
                                            {
                                                "bin_start": 0.8,
                                                "bin_end": 0.9,
                                                "count": 0
                                            },
                                            {
                                                "bin_start": 0.9,
                                                "bin_end": 1,
                                                "count": 13
                                            }
                                        ]
                                    }
                                },
                                {
                                    "name": "LandingPad_5e9e3032383ecb554034e7c9",
                                    "dtype": "uint8",
                                    "stats": {
                                        "unique_count": 2,
                                        "nan_count": 0,
                                        "min": "0",
                                        "max": "1",
                                        "histogram": [
                                            {
                                                "bin_start": 0,
                                                "bin_end": 0.1,
                                                "count": 88
                                            },
                                            {
                                                "bin_start": 0.1,
                                                "bin_end": 0.2,
                                                "count": 0
                                            },
                                            {
                                                "bin_start": 0.2,
                                                "bin_end": 0.30000000000000004,
                                                "count": 0
                                            },
                                            {
                                                "bin_start": 0.30000000000000004,
                                                "bin_end": 0.4,
                                                "count": 0
                                            },
                                            {
                                                "bin_start": 0.4,
                                                "bin_end": 0.5,
                                                "count": 0
                                            },
                                            {
                                                "bin_start": 0.5,
                                                "bin_end": 0.6000000000000001,
                                                "count": 0
                                            },
                                            {
                                                "bin_start": 0.6000000000000001,
                                                "bin_end": 0.7000000000000001,
                                                "count": 0
                                            },
                                            {
                                                "bin_start": 0.7000000000000001,
                                                "bin_end": 0.8,
                                                "count": 0
                                            },
                                            {
                                                "bin_start": 0.8,
                                                "bin_end": 0.9,
                                                "count": 0
                                            },
                                            {
                                                "bin_start": 0.9,
                                                "bin_end": 1,
                                                "count": 2
                                            }
                                        ]
                                    }
                                },
                                {
                                    "name": "LandingPad_5e9e3032383ecb6bb234e7ca",
                                    "dtype": "uint8",
                                    "stats": {
                                        "unique_count": 2,
                                        "nan_count": 0,
                                        "min": "0",
                                        "max": "1",
                                        "histogram": [
                                            {
                                                "bin_start": 0,
                                                "bin_end": 0.1,
                                                "count": 55
                                            },
                                            {
                                                "bin_start": 0.1,
                                                "bin_end": 0.2,
                                                "count": 0
                                            },
                                            {
                                                "bin_start": 0.2,
                                                "bin_end": 0.30000000000000004,
                                                "count": 0
                                            },
                                            {
                                                "bin_start": 0.30000000000000004,
                                                "bin_end": 0.4,
                                                "count": 0
                                            },
                                            {
                                                "bin_start": 0.4,
                                                "bin_end": 0.5,
                                                "count": 0
                                            },
                                            {
                                                "bin_start": 0.5,
                                                "bin_end": 0.6000000000000001,
                                                "count": 0
                                            },
                                            {
                                                "bin_start": 0.6000000000000001,
                                                "bin_end": 0.7000000000000001,
                                                "count": 0
                                            },
                                            {
                                                "bin_start": 0.7000000000000001,
                                                "bin_end": 0.8,
                                                "count": 0
                                            },
                                            {
                                                "bin_start": 0.8,
                                                "bin_end": 0.9,
                                                "count": 0
                                            },
                                            {
                                                "bin_start": 0.9,
                                                "bin_end": 1,
                                                "count": 35
                                            }
                                        ]
                                    }
                                },
                                {
                                    "name": "LandingPad_5e9e3032383ecb761634e7cb",
                                    "dtype": "uint8",
                                    "stats": {
                                        "unique_count": 2,
                                        "nan_count": 0,
                                        "min": "0",
                                        "max": "1",
                                        "histogram": [
                                            {
                                                "bin_start": 0,
                                                "bin_end": 0.1,
                                                "count": 88
                                            },
                                            {
                                                "bin_start": 0.1,
                                                "bin_end": 0.2,
                                                "count": 0
                                            },
                                            {
                                                "bin_start": 0.2,
                                                "bin_end": 0.30000000000000004,
                                                "count": 0
                                            },
                                            {
                                                "bin_start": 0.30000000000000004,
                                                "bin_end": 0.4,
                                                "count": 0
                                            },
                                            {
                                                "bin_start": 0.4,
                                                "bin_end": 0.5,
                                                "count": 0
                                            },
                                            {
                                                "bin_start": 0.5,
                                                "bin_end": 0.6000000000000001,
                                                "count": 0
                                            },
                                            {
                                                "bin_start": 0.6000000000000001,
                                                "bin_end": 0.7000000000000001,
                                                "count": 0
                                            },
                                            {
                                                "bin_start": 0.7000000000000001,
                                                "bin_end": 0.8,
                                                "count": 0
                                            },
                                            {
                                                "bin_start": 0.8,
                                                "bin_end": 0.9,
                                                "count": 0
                                            },
                                            {
                                                "bin_start": 0.9,
                                                "bin_end": 1,
                                                "count": 2
                                            }
                                        ]
                                    }
                                },
                                {
                                    "name": "LandingPad_5e9e3033383ecbb9e534e7cc",
                                    "dtype": "uint8",
                                    "stats": {
                                        "unique_count": 2,
                                        "nan_count": 0,
                                        "min": "0",
                                        "max": "1",
                                        "histogram": [
                                            {
                                                "bin_start": 0,
                                                "bin_end": 0.1,
                                                "count": 78
                                            },
                                            {
                                                "bin_start": 0.1,
                                                "bin_end": 0.2,
                                                "count": 0
                                            },
                                            {
                                                "bin_start": 0.2,
                                                "bin_end": 0.30000000000000004,
                                                "count": 0
                                            },
                                            {
                                                "bin_start": 0.30000000000000004,
                                                "bin_end": 0.4,
                                                "count": 0
                                            },
                                            {
                                                "bin_start": 0.4,
                                                "bin_end": 0.5,
                                                "count": 0
                                            },
                                            {
                                                "bin_start": 0.5,
                                                "bin_end": 0.6000000000000001,
                                                "count": 0
                                            },
                                            {
                                                "bin_start": 0.6000000000000001,
                                                "bin_end": 0.7000000000000001,
                                                "count": 0
                                            },
                                            {
                                                "bin_start": 0.7000000000000001,
                                                "bin_end": 0.8,
                                                "count": 0
                                            },
                                            {
                                                "bin_start": 0.8,
                                                "bin_end": 0.9,
                                                "count": 0
                                            },
                                            {
                                                "bin_start": 0.9,
                                                "bin_end": 1,
                                                "count": 12
                                            }
                                        ]
                                    }
                                },
                                {
                                    "name": "Serial_B0003",
                                    "dtype": "uint8",
                                    "stats": {
                                        "unique_count": 2,
                                        "nan_count": 0,
                                        "min": "0",
                                        "max": "1",
                                        "histogram": [
                                            {
                                                "bin_start": 0,
                                                "bin_end": 0.1,
                                                "count": 89
                                            },
                                            {
                                                "bin_start": 0.1,
                                                "bin_end": 0.2,
                                                "count": 0
                                            },
                                            {
                                                "bin_start": 0.2,
                                                "bin_end": 0.30000000000000004,
                                                "count": 0
                                            },
                                            {
                                                "bin_start": 0.30000000000000004,
                                                "bin_end": 0.4,
                                                "count": 0
                                            },
                                            {
                                                "bin_start": 0.4,
                                                "bin_end": 0.5,
                                                "count": 0
                                            },
                                            {
                                                "bin_start": 0.5,
                                                "bin_end": 0.6000000000000001,
                                                "count": 0
                                            },
                                            {
                                                "bin_start": 0.6000000000000001,
                                                "bin_end": 0.7000000000000001,
                                                "count": 0
                                            },
                                            {
                                                "bin_start": 0.7000000000000001,
                                                "bin_end": 0.8,
                                                "count": 0
                                            },
                                            {
                                                "bin_start": 0.8,
                                                "bin_end": 0.9,
                                                "count": 0
                                            },
                                            {
                                                "bin_start": 0.9,
                                                "bin_end": 1,
                                                "count": 1
                                            }
                                        ]
                                    }
                                },
                                {
                                    "name": "Serial_B0005",
                                    "dtype": "uint8",
                                    "stats": {
                                        "unique_count": 2,
                                        "nan_count": 0,
                                        "min": "0",
                                        "max": "1",
                                        "histogram": [
                                            {
                                                "bin_start": 0,
                                                "bin_end": 0.1,
                                                "count": 89
                                            },
                                            {
                                                "bin_start": 0.1,
                                                "bin_end": 0.2,
                                                "count": 0
                                            },
                                            {
                                                "bin_start": 0.2,
                                                "bin_end": 0.30000000000000004,
                                                "count": 0
                                            },
                                            {
                                                "bin_start": 0.30000000000000004,
                                                "bin_end": 0.4,
                                                "count": 0
                                            },
                                            {
                                                "bin_start": 0.4,
                                                "bin_end": 0.5,
                                                "count": 0
                                            },
                                            {
                                                "bin_start": 0.5,
                                                "bin_end": 0.6000000000000001,
                                                "count": 0
                                            },
                                            {
                                                "bin_start": 0.6000000000000001,
                                                "bin_end": 0.7000000000000001,
                                                "count": 0
                                            },
                                            {
                                                "bin_start": 0.7000000000000001,
                                                "bin_end": 0.8,
                                                "count": 0
                                            },
                                            {
                                                "bin_start": 0.8,
                                                "bin_end": 0.9,
                                                "count": 0
                                            },
                                            {
                                                "bin_start": 0.9,
                                                "bin_end": 1,
                                                "count": 1
                                            }
                                        ]
                                    }
                                },
                                {
                                    "name": "Serial_B0007",
                                    "dtype": "uint8",
                                    "stats": {
                                        "unique_count": 2,
                                        "nan_count": 0,
                                        "min": "0",
                                        "max": "1",
                                        "histogram": [
                                            {
                                                "bin_start": 0,
                                                "bin_end": 0.1,
                                                "count": 89
                                            },
                                            {
                                                "bin_start": 0.1,
                                                "bin_end": 0.2,
                                                "count": 0
                                            },
                                            {
                                                "bin_start": 0.2,
                                                "bin_end": 0.30000000000000004,
                                                "count": 0
                                            },
                                            {
                                                "bin_start": 0.30000000000000004,
                                                "bin_end": 0.4,
                                                "count": 0
                                            },
                                            {
                                                "bin_start": 0.4,
                                                "bin_end": 0.5,
                                                "count": 0
                                            },
                                            {
                                                "bin_start": 0.5,
                                                "bin_end": 0.6000000000000001,
                                                "count": 0
                                            },
                                            {
                                                "bin_start": 0.6000000000000001,
                                                "bin_end": 0.7000000000000001,
                                                "count": 0
                                            },
                                            {
                                                "bin_start": 0.7000000000000001,
                                                "bin_end": 0.8,
                                                "count": 0
                                            },
                                            {
                                                "bin_start": 0.8,
                                                "bin_end": 0.9,
                                                "count": 0
                                            },
                                            {
                                                "bin_start": 0.9,
                                                "bin_end": 1,
                                                "count": 1
                                            }
                                        ]
                                    }
                                },
                                {
                                    "name": "Serial_B1003",
                                    "dtype": "uint8",
                                    "stats": {
                                        "unique_count": 2,
                                        "nan_count": 0,
                                        "min": "0",
                                        "max": "1",
                                        "histogram": [
                                            {
                                                "bin_start": 0,
                                                "bin_end": 0.1,
                                                "count": 89
                                            },
                                            {
                                                "bin_start": 0.1,
                                                "bin_end": 0.2,
                                                "count": 0
                                            },
                                            {
                                                "bin_start": 0.2,
                                                "bin_end": 0.30000000000000004,
                                                "count": 0
                                            },
                                            {
                                                "bin_start": 0.30000000000000004,
                                                "bin_end": 0.4,
                                                "count": 0
                                            },
                                            {
                                                "bin_start": 0.4,
                                                "bin_end": 0.5,
                                                "count": 0
                                            },
                                            {
                                                "bin_start": 0.5,
                                                "bin_end": 0.6000000000000001,
                                                "count": 0
                                            },
                                            {
                                                "bin_start": 0.6000000000000001,
                                                "bin_end": 0.7000000000000001,
                                                "count": 0
                                            },
                                            {
                                                "bin_start": 0.7000000000000001,
                                                "bin_end": 0.8,
                                                "count": 0
                                            },
                                            {
                                                "bin_start": 0.8,
                                                "bin_end": 0.9,
                                                "count": 0
                                            },
                                            {
                                                "bin_start": 0.9,
                                                "bin_end": 1,
                                                "count": 1
                                            }
                                        ]
                                    }
                                },
                                {
                                    "name": "Serial_B1004",
                                    "dtype": "uint8",
                                    "stats": {
                                        "unique_count": 2,
                                        "nan_count": 0,
                                        "min": "0",
                                        "max": "1",
                                        "histogram": [
                                            {
                                                "bin_start": 0,
                                                "bin_end": 0.1,
                                                "count": 89
                                            },
                                            {
                                                "bin_start": 0.1,
                                                "bin_end": 0.2,
                                                "count": 0
                                            },
                                            {
                                                "bin_start": 0.2,
                                                "bin_end": 0.30000000000000004,
                                                "count": 0
                                            },
                                            {
                                                "bin_start": 0.30000000000000004,
                                                "bin_end": 0.4,
                                                "count": 0
                                            },
                                            {
                                                "bin_start": 0.4,
                                                "bin_end": 0.5,
                                                "count": 0
                                            },
                                            {
                                                "bin_start": 0.5,
                                                "bin_end": 0.6000000000000001,
                                                "count": 0
                                            },
                                            {
                                                "bin_start": 0.6000000000000001,
                                                "bin_end": 0.7000000000000001,
                                                "count": 0
                                            },
                                            {
                                                "bin_start": 0.7000000000000001,
                                                "bin_end": 0.8,
                                                "count": 0
                                            },
                                            {
                                                "bin_start": 0.8,
                                                "bin_end": 0.9,
                                                "count": 0
                                            },
                                            {
                                                "bin_start": 0.9,
                                                "bin_end": 1,
                                                "count": 1
                                            }
                                        ]
                                    }
                                },
                                {
                                    "name": "Serial_B1005",
                                    "dtype": "uint8",
                                    "stats": {
                                        "unique_count": 2,
                                        "nan_count": 0,
                                        "min": "0",
                                        "max": "1",
                                        "histogram": [
                                            {
                                                "bin_start": 0,
                                                "bin_end": 0.1,
                                                "count": 89
                                            },
                                            {
                                                "bin_start": 0.1,
                                                "bin_end": 0.2,
                                                "count": 0
                                            },
                                            {
                                                "bin_start": 0.2,
                                                "bin_end": 0.30000000000000004,
                                                "count": 0
                                            },
                                            {
                                                "bin_start": 0.30000000000000004,
                                                "bin_end": 0.4,
                                                "count": 0
                                            },
                                            {
                                                "bin_start": 0.4,
                                                "bin_end": 0.5,
                                                "count": 0
                                            },
                                            {
                                                "bin_start": 0.5,
                                                "bin_end": 0.6000000000000001,
                                                "count": 0
                                            },
                                            {
                                                "bin_start": 0.6000000000000001,
                                                "bin_end": 0.7000000000000001,
                                                "count": 0
                                            },
                                            {
                                                "bin_start": 0.7000000000000001,
                                                "bin_end": 0.8,
                                                "count": 0
                                            },
                                            {
                                                "bin_start": 0.8,
                                                "bin_end": 0.9,
                                                "count": 0
                                            },
                                            {
                                                "bin_start": 0.9,
                                                "bin_end": 1,
                                                "count": 1
                                            }
                                        ]
                                    }
                                },
                                {
                                    "name": "Serial_B1006",
                                    "dtype": "uint8",
                                    "stats": {
                                        "unique_count": 2,
                                        "nan_count": 0,
                                        "min": "0",
                                        "max": "1",
                                        "histogram": [
                                            {
                                                "bin_start": 0,
                                                "bin_end": 0.1,
                                                "count": 89
                                            },
                                            {
                                                "bin_start": 0.1,
                                                "bin_end": 0.2,
                                                "count": 0
                                            },
                                            {
                                                "bin_start": 0.2,
                                                "bin_end": 0.30000000000000004,
                                                "count": 0
                                            },
                                            {
                                                "bin_start": 0.30000000000000004,
                                                "bin_end": 0.4,
                                                "count": 0
                                            },
                                            {
                                                "bin_start": 0.4,
                                                "bin_end": 0.5,
                                                "count": 0
                                            },
                                            {
                                                "bin_start": 0.5,
                                                "bin_end": 0.6000000000000001,
                                                "count": 0
                                            },
                                            {
                                                "bin_start": 0.6000000000000001,
                                                "bin_end": 0.7000000000000001,
                                                "count": 0
                                            },
                                            {
                                                "bin_start": 0.7000000000000001,
                                                "bin_end": 0.8,
                                                "count": 0
                                            },
                                            {
                                                "bin_start": 0.8,
                                                "bin_end": 0.9,
                                                "count": 0
                                            },
                                            {
                                                "bin_start": 0.9,
                                                "bin_end": 1,
                                                "count": 1
                                            }
                                        ]
                                    }
                                },
                                {
                                    "name": "Serial_B1007",
                                    "dtype": "uint8",
                                    "stats": {
                                        "unique_count": 2,
                                        "nan_count": 0,
                                        "min": "0",
                                        "max": "1",
                                        "histogram": [
                                            {
                                                "bin_start": 0,
                                                "bin_end": 0.1,
                                                "count": 89
                                            },
                                            {
                                                "bin_start": 0.1,
                                                "bin_end": 0.2,
                                                "count": 0
                                            },
                                            {
                                                "bin_start": 0.2,
                                                "bin_end": 0.30000000000000004,
                                                "count": 0
                                            },
                                            {
                                                "bin_start": 0.30000000000000004,
                                                "bin_end": 0.4,
                                                "count": 0
                                            },
                                            {
                                                "bin_start": 0.4,
                                                "bin_end": 0.5,
                                                "count": 0
                                            },
                                            {
                                                "bin_start": 0.5,
                                                "bin_end": 0.6000000000000001,
                                                "count": 0
                                            },
                                            {
                                                "bin_start": 0.6000000000000001,
                                                "bin_end": 0.7000000000000001,
                                                "count": 0
                                            },
                                            {
                                                "bin_start": 0.7000000000000001,
                                                "bin_end": 0.8,
                                                "count": 0
                                            },
                                            {
                                                "bin_start": 0.8,
                                                "bin_end": 0.9,
                                                "count": 0
                                            },
                                            {
                                                "bin_start": 0.9,
                                                "bin_end": 1,
                                                "count": 1
                                            }
                                        ]
                                    }
                                },
                                {
                                    "name": "Serial_B1008",
                                    "dtype": "uint8",
                                    "stats": {
                                        "unique_count": 2,
                                        "nan_count": 0,
                                        "min": "0",
                                        "max": "1",
                                        "histogram": [
                                            {
                                                "bin_start": 0,
                                                "bin_end": 0.1,
                                                "count": 89
                                            },
                                            {
                                                "bin_start": 0.1,
                                                "bin_end": 0.2,
                                                "count": 0
                                            },
                                            {
                                                "bin_start": 0.2,
                                                "bin_end": 0.30000000000000004,
                                                "count": 0
                                            },
                                            {
                                                "bin_start": 0.30000000000000004,
                                                "bin_end": 0.4,
                                                "count": 0
                                            },
                                            {
                                                "bin_start": 0.4,
                                                "bin_end": 0.5,
                                                "count": 0
                                            },
                                            {
                                                "bin_start": 0.5,
                                                "bin_end": 0.6000000000000001,
                                                "count": 0
                                            },
                                            {
                                                "bin_start": 0.6000000000000001,
                                                "bin_end": 0.7000000000000001,
                                                "count": 0
                                            },
                                            {
                                                "bin_start": 0.7000000000000001,
                                                "bin_end": 0.8,
                                                "count": 0
                                            },
                                            {
                                                "bin_start": 0.8,
                                                "bin_end": 0.9,
                                                "count": 0
                                            },
                                            {
                                                "bin_start": 0.9,
                                                "bin_end": 1,
                                                "count": 1
                                            }
                                        ]
                                    }
                                },
                                {
                                    "name": "Serial_B1010",
                                    "dtype": "uint8",
                                    "stats": {
                                        "unique_count": 2,
                                        "nan_count": 0,
                                        "min": "0",
                                        "max": "1",
                                        "histogram": [
                                            {
                                                "bin_start": 0,
                                                "bin_end": 0.1,
                                                "count": 89
                                            },
                                            {
                                                "bin_start": 0.1,
                                                "bin_end": 0.2,
                                                "count": 0
                                            },
                                            {
                                                "bin_start": 0.2,
                                                "bin_end": 0.30000000000000004,
                                                "count": 0
                                            },
                                            {
                                                "bin_start": 0.30000000000000004,
                                                "bin_end": 0.4,
                                                "count": 0
                                            },
                                            {
                                                "bin_start": 0.4,
                                                "bin_end": 0.5,
                                                "count": 0
                                            },
                                            {
                                                "bin_start": 0.5,
                                                "bin_end": 0.6000000000000001,
                                                "count": 0
                                            },
                                            {
                                                "bin_start": 0.6000000000000001,
                                                "bin_end": 0.7000000000000001,
                                                "count": 0
                                            },
                                            {
                                                "bin_start": 0.7000000000000001,
                                                "bin_end": 0.8,
                                                "count": 0
                                            },
                                            {
                                                "bin_start": 0.8,
                                                "bin_end": 0.9,
                                                "count": 0
                                            },
                                            {
                                                "bin_start": 0.9,
                                                "bin_end": 1,
                                                "count": 1
                                            }
                                        ]
                                    }
                                },
                                {
                                    "name": "Serial_B1011",
                                    "dtype": "uint8",
                                    "stats": {
                                        "unique_count": 2,
                                        "nan_count": 0,
                                        "min": "0",
                                        "max": "1",
                                        "histogram": [
                                            {
                                                "bin_start": 0,
                                                "bin_end": 0.1,
                                                "count": 89
                                            },
                                            {
                                                "bin_start": 0.1,
                                                "bin_end": 0.2,
                                                "count": 0
                                            },
                                            {
                                                "bin_start": 0.2,
                                                "bin_end": 0.30000000000000004,
                                                "count": 0
                                            },
                                            {
                                                "bin_start": 0.30000000000000004,
                                                "bin_end": 0.4,
                                                "count": 0
                                            },
                                            {
                                                "bin_start": 0.4,
                                                "bin_end": 0.5,
                                                "count": 0
                                            },
                                            {
                                                "bin_start": 0.5,
                                                "bin_end": 0.6000000000000001,
                                                "count": 0
                                            },
                                            {
                                                "bin_start": 0.6000000000000001,
                                                "bin_end": 0.7000000000000001,
                                                "count": 0
                                            },
                                            {
                                                "bin_start": 0.7000000000000001,
                                                "bin_end": 0.8,
                                                "count": 0
                                            },
                                            {
                                                "bin_start": 0.8,
                                                "bin_end": 0.9,
                                                "count": 0
                                            },
                                            {
                                                "bin_start": 0.9,
                                                "bin_end": 1,
                                                "count": 1
                                            }
                                        ]
                                    }
                                },
                                {
                                    "name": "Serial_B1012",
                                    "dtype": "uint8",
                                    "stats": {
                                        "unique_count": 2,
                                        "nan_count": 0,
                                        "min": "0",
                                        "max": "1",
                                        "histogram": [
                                            {
                                                "bin_start": 0,
                                                "bin_end": 0.1,
                                                "count": 89
                                            },
                                            {
                                                "bin_start": 0.1,
                                                "bin_end": 0.2,
                                                "count": 0
                                            },
                                            {
                                                "bin_start": 0.2,
                                                "bin_end": 0.30000000000000004,
                                                "count": 0
                                            },
                                            {
                                                "bin_start": 0.30000000000000004,
                                                "bin_end": 0.4,
                                                "count": 0
                                            },
                                            {
                                                "bin_start": 0.4,
                                                "bin_end": 0.5,
                                                "count": 0
                                            },
                                            {
                                                "bin_start": 0.5,
                                                "bin_end": 0.6000000000000001,
                                                "count": 0
                                            },
                                            {
                                                "bin_start": 0.6000000000000001,
                                                "bin_end": 0.7000000000000001,
                                                "count": 0
                                            },
                                            {
                                                "bin_start": 0.7000000000000001,
                                                "bin_end": 0.8,
                                                "count": 0
                                            },
                                            {
                                                "bin_start": 0.8,
                                                "bin_end": 0.9,
                                                "count": 0
                                            },
                                            {
                                                "bin_start": 0.9,
                                                "bin_end": 1,
                                                "count": 1
                                            }
                                        ]
                                    }
                                },
                                {
                                    "name": "Serial_B1013",
                                    "dtype": "uint8",
                                    "stats": {
                                        "unique_count": 2,
                                        "nan_count": 0,
                                        "min": "0",
                                        "max": "1",
                                        "histogram": [
                                            {
                                                "bin_start": 0,
                                                "bin_end": 0.1,
                                                "count": 89
                                            },
                                            {
                                                "bin_start": 0.1,
                                                "bin_end": 0.2,
                                                "count": 0
                                            },
                                            {
                                                "bin_start": 0.2,
                                                "bin_end": 0.30000000000000004,
                                                "count": 0
                                            },
                                            {
                                                "bin_start": 0.30000000000000004,
                                                "bin_end": 0.4,
                                                "count": 0
                                            },
                                            {
                                                "bin_start": 0.4,
                                                "bin_end": 0.5,
                                                "count": 0
                                            },
                                            {
                                                "bin_start": 0.5,
                                                "bin_end": 0.6000000000000001,
                                                "count": 0
                                            },
                                            {
                                                "bin_start": 0.6000000000000001,
                                                "bin_end": 0.7000000000000001,
                                                "count": 0
                                            },
                                            {
                                                "bin_start": 0.7000000000000001,
                                                "bin_end": 0.8,
                                                "count": 0
                                            },
                                            {
                                                "bin_start": 0.8,
                                                "bin_end": 0.9,
                                                "count": 0
                                            },
                                            {
                                                "bin_start": 0.9,
                                                "bin_end": 1,
                                                "count": 1
                                            }
                                        ]
                                    }
                                },
                                {
                                    "name": "Serial_B1015",
                                    "dtype": "uint8",
                                    "stats": {
                                        "unique_count": 2,
                                        "nan_count": 0,
                                        "min": "0",
                                        "max": "1",
                                        "histogram": [
                                            {
                                                "bin_start": 0,
                                                "bin_end": 0.1,
                                                "count": 89
                                            },
                                            {
                                                "bin_start": 0.1,
                                                "bin_end": 0.2,
                                                "count": 0
                                            },
                                            {
                                                "bin_start": 0.2,
                                                "bin_end": 0.30000000000000004,
                                                "count": 0
                                            },
                                            {
                                                "bin_start": 0.30000000000000004,
                                                "bin_end": 0.4,
                                                "count": 0
                                            },
                                            {
                                                "bin_start": 0.4,
                                                "bin_end": 0.5,
                                                "count": 0
                                            },
                                            {
                                                "bin_start": 0.5,
                                                "bin_end": 0.6000000000000001,
                                                "count": 0
                                            },
                                            {
                                                "bin_start": 0.6000000000000001,
                                                "bin_end": 0.7000000000000001,
                                                "count": 0
                                            },
                                            {
                                                "bin_start": 0.7000000000000001,
                                                "bin_end": 0.8,
                                                "count": 0
                                            },
                                            {
                                                "bin_start": 0.8,
                                                "bin_end": 0.9,
                                                "count": 0
                                            },
                                            {
                                                "bin_start": 0.9,
                                                "bin_end": 1,
                                                "count": 1
                                            }
                                        ]
                                    }
                                },
                                {
                                    "name": "Serial_B1016",
                                    "dtype": "uint8",
                                    "stats": {
                                        "unique_count": 2,
                                        "nan_count": 0,
                                        "min": "0",
                                        "max": "1",
                                        "histogram": [
                                            {
                                                "bin_start": 0,
                                                "bin_end": 0.1,
                                                "count": 89
                                            },
                                            {
                                                "bin_start": 0.1,
                                                "bin_end": 0.2,
                                                "count": 0
                                            },
                                            {
                                                "bin_start": 0.2,
                                                "bin_end": 0.30000000000000004,
                                                "count": 0
                                            },
                                            {
                                                "bin_start": 0.30000000000000004,
                                                "bin_end": 0.4,
                                                "count": 0
                                            },
                                            {
                                                "bin_start": 0.4,
                                                "bin_end": 0.5,
                                                "count": 0
                                            },
                                            {
                                                "bin_start": 0.5,
                                                "bin_end": 0.6000000000000001,
                                                "count": 0
                                            },
                                            {
                                                "bin_start": 0.6000000000000001,
                                                "bin_end": 0.7000000000000001,
                                                "count": 0
                                            },
                                            {
                                                "bin_start": 0.7000000000000001,
                                                "bin_end": 0.8,
                                                "count": 0
                                            },
                                            {
                                                "bin_start": 0.8,
                                                "bin_end": 0.9,
                                                "count": 0
                                            },
                                            {
                                                "bin_start": 0.9,
                                                "bin_end": 1,
                                                "count": 1
                                            }
                                        ]
                                    }
                                },
                                {
                                    "name": "Serial_B1017",
                                    "dtype": "uint8",
                                    "stats": {
                                        "unique_count": 2,
                                        "nan_count": 0,
                                        "min": "0",
                                        "max": "1",
                                        "histogram": [
                                            {
                                                "bin_start": 0,
                                                "bin_end": 0.1,
                                                "count": 89
                                            },
                                            {
                                                "bin_start": 0.1,
                                                "bin_end": 0.2,
                                                "count": 0
                                            },
                                            {
                                                "bin_start": 0.2,
                                                "bin_end": 0.30000000000000004,
                                                "count": 0
                                            },
                                            {
                                                "bin_start": 0.30000000000000004,
                                                "bin_end": 0.4,
                                                "count": 0
                                            },
                                            {
                                                "bin_start": 0.4,
                                                "bin_end": 0.5,
                                                "count": 0
                                            },
                                            {
                                                "bin_start": 0.5,
                                                "bin_end": 0.6000000000000001,
                                                "count": 0
                                            },
                                            {
                                                "bin_start": 0.6000000000000001,
                                                "bin_end": 0.7000000000000001,
                                                "count": 0
                                            },
                                            {
                                                "bin_start": 0.7000000000000001,
                                                "bin_end": 0.8,
                                                "count": 0
                                            },
                                            {
                                                "bin_start": 0.8,
                                                "bin_end": 0.9,
                                                "count": 0
                                            },
                                            {
                                                "bin_start": 0.9,
                                                "bin_end": 1,
                                                "count": 1
                                            }
                                        ]
                                    }
                                },
                                {
                                    "name": "Serial_B1018",
                                    "dtype": "uint8",
                                    "stats": {
                                        "unique_count": 2,
                                        "nan_count": 0,
                                        "min": "0",
                                        "max": "1",
                                        "histogram": [
                                            {
                                                "bin_start": 0,
                                                "bin_end": 0.1,
                                                "count": 89
                                            },
                                            {
                                                "bin_start": 0.1,
                                                "bin_end": 0.2,
                                                "count": 0
                                            },
                                            {
                                                "bin_start": 0.2,
                                                "bin_end": 0.30000000000000004,
                                                "count": 0
                                            },
                                            {
                                                "bin_start": 0.30000000000000004,
                                                "bin_end": 0.4,
                                                "count": 0
                                            },
                                            {
                                                "bin_start": 0.4,
                                                "bin_end": 0.5,
                                                "count": 0
                                            },
                                            {
                                                "bin_start": 0.5,
                                                "bin_end": 0.6000000000000001,
                                                "count": 0
                                            },
                                            {
                                                "bin_start": 0.6000000000000001,
                                                "bin_end": 0.7000000000000001,
                                                "count": 0
                                            },
                                            {
                                                "bin_start": 0.7000000000000001,
                                                "bin_end": 0.8,
                                                "count": 0
                                            },
                                            {
                                                "bin_start": 0.8,
                                                "bin_end": 0.9,
                                                "count": 0
                                            },
                                            {
                                                "bin_start": 0.9,
                                                "bin_end": 1,
                                                "count": 1
                                            }
                                        ]
                                    }
                                },
                                {
                                    "name": "Serial_B1019",
                                    "dtype": "uint8",
                                    "stats": {
                                        "unique_count": 2,
                                        "nan_count": 0,
                                        "min": "0",
                                        "max": "1",
                                        "histogram": [
                                            {
                                                "bin_start": 0,
                                                "bin_end": 0.1,
                                                "count": 89
                                            },
                                            {
                                                "bin_start": 0.1,
                                                "bin_end": 0.2,
                                                "count": 0
                                            },
                                            {
                                                "bin_start": 0.2,
                                                "bin_end": 0.30000000000000004,
                                                "count": 0
                                            },
                                            {
                                                "bin_start": 0.30000000000000004,
                                                "bin_end": 0.4,
                                                "count": 0
                                            },
                                            {
                                                "bin_start": 0.4,
                                                "bin_end": 0.5,
                                                "count": 0
                                            },
                                            {
                                                "bin_start": 0.5,
                                                "bin_end": 0.6000000000000001,
                                                "count": 0
                                            },
                                            {
                                                "bin_start": 0.6000000000000001,
                                                "bin_end": 0.7000000000000001,
                                                "count": 0
                                            },
                                            {
                                                "bin_start": 0.7000000000000001,
                                                "bin_end": 0.8,
                                                "count": 0
                                            },
                                            {
                                                "bin_start": 0.8,
                                                "bin_end": 0.9,
                                                "count": 0
                                            },
                                            {
                                                "bin_start": 0.9,
                                                "bin_end": 1,
                                                "count": 1
                                            }
                                        ]
                                    }
                                },
                                {
                                    "name": "Serial_B1020",
                                    "dtype": "uint8",
                                    "stats": {
                                        "unique_count": 2,
                                        "nan_count": 0,
                                        "min": "0",
                                        "max": "1",
                                        "histogram": [
                                            {
                                                "bin_start": 0,
                                                "bin_end": 0.1,
                                                "count": 89
                                            },
                                            {
                                                "bin_start": 0.1,
                                                "bin_end": 0.2,
                                                "count": 0
                                            },
                                            {
                                                "bin_start": 0.2,
                                                "bin_end": 0.30000000000000004,
                                                "count": 0
                                            },
                                            {
                                                "bin_start": 0.30000000000000004,
                                                "bin_end": 0.4,
                                                "count": 0
                                            },
                                            {
                                                "bin_start": 0.4,
                                                "bin_end": 0.5,
                                                "count": 0
                                            },
                                            {
                                                "bin_start": 0.5,
                                                "bin_end": 0.6000000000000001,
                                                "count": 0
                                            },
                                            {
                                                "bin_start": 0.6000000000000001,
                                                "bin_end": 0.7000000000000001,
                                                "count": 0
                                            },
                                            {
                                                "bin_start": 0.7000000000000001,
                                                "bin_end": 0.8,
                                                "count": 0
                                            },
                                            {
                                                "bin_start": 0.8,
                                                "bin_end": 0.9,
                                                "count": 0
                                            },
                                            {
                                                "bin_start": 0.9,
                                                "bin_end": 1,
                                                "count": 1
                                            }
                                        ]
                                    }
                                },
                                {
                                    "name": "Serial_B1021",
                                    "dtype": "uint8",
                                    "stats": {
                                        "unique_count": 2,
                                        "nan_count": 0,
                                        "min": "0",
                                        "max": "1",
                                        "histogram": [
                                            {
                                                "bin_start": 0,
                                                "bin_end": 0.1,
                                                "count": 88
                                            },
                                            {
                                                "bin_start": 0.1,
                                                "bin_end": 0.2,
                                                "count": 0
                                            },
                                            {
                                                "bin_start": 0.2,
                                                "bin_end": 0.30000000000000004,
                                                "count": 0
                                            },
                                            {
                                                "bin_start": 0.30000000000000004,
                                                "bin_end": 0.4,
                                                "count": 0
                                            },
                                            {
                                                "bin_start": 0.4,
                                                "bin_end": 0.5,
                                                "count": 0
                                            },
                                            {
                                                "bin_start": 0.5,
                                                "bin_end": 0.6000000000000001,
                                                "count": 0
                                            },
                                            {
                                                "bin_start": 0.6000000000000001,
                                                "bin_end": 0.7000000000000001,
                                                "count": 0
                                            },
                                            {
                                                "bin_start": 0.7000000000000001,
                                                "bin_end": 0.8,
                                                "count": 0
                                            },
                                            {
                                                "bin_start": 0.8,
                                                "bin_end": 0.9,
                                                "count": 0
                                            },
                                            {
                                                "bin_start": 0.9,
                                                "bin_end": 1,
                                                "count": 2
                                            }
                                        ]
                                    }
                                },
                                {
                                    "name": "Serial_B1022",
                                    "dtype": "uint8",
                                    "stats": {
                                        "unique_count": 2,
                                        "nan_count": 0,
                                        "min": "0",
                                        "max": "1",
                                        "histogram": [
                                            {
                                                "bin_start": 0,
                                                "bin_end": 0.1,
                                                "count": 89
                                            },
                                            {
                                                "bin_start": 0.1,
                                                "bin_end": 0.2,
                                                "count": 0
                                            },
                                            {
                                                "bin_start": 0.2,
                                                "bin_end": 0.30000000000000004,
                                                "count": 0
                                            },
                                            {
                                                "bin_start": 0.30000000000000004,
                                                "bin_end": 0.4,
                                                "count": 0
                                            },
                                            {
                                                "bin_start": 0.4,
                                                "bin_end": 0.5,
                                                "count": 0
                                            },
                                            {
                                                "bin_start": 0.5,
                                                "bin_end": 0.6000000000000001,
                                                "count": 0
                                            },
                                            {
                                                "bin_start": 0.6000000000000001,
                                                "bin_end": 0.7000000000000001,
                                                "count": 0
                                            },
                                            {
                                                "bin_start": 0.7000000000000001,
                                                "bin_end": 0.8,
                                                "count": 0
                                            },
                                            {
                                                "bin_start": 0.8,
                                                "bin_end": 0.9,
                                                "count": 0
                                            },
                                            {
                                                "bin_start": 0.9,
                                                "bin_end": 1,
                                                "count": 1
                                            }
                                        ]
                                    }
                                },
                                {
                                    "name": "Serial_B1023",
                                    "dtype": "uint8",
                                    "stats": {
                                        "unique_count": 2,
                                        "nan_count": 0,
                                        "min": "0",
                                        "max": "1",
                                        "histogram": [
                                            {
                                                "bin_start": 0,
                                                "bin_end": 0.1,
                                                "count": 89
                                            },
                                            {
                                                "bin_start": 0.1,
                                                "bin_end": 0.2,
                                                "count": 0
                                            },
                                            {
                                                "bin_start": 0.2,
                                                "bin_end": 0.30000000000000004,
                                                "count": 0
                                            },
                                            {
                                                "bin_start": 0.30000000000000004,
                                                "bin_end": 0.4,
                                                "count": 0
                                            },
                                            {
                                                "bin_start": 0.4,
                                                "bin_end": 0.5,
                                                "count": 0
                                            },
                                            {
                                                "bin_start": 0.5,
                                                "bin_end": 0.6000000000000001,
                                                "count": 0
                                            },
                                            {
                                                "bin_start": 0.6000000000000001,
                                                "bin_end": 0.7000000000000001,
                                                "count": 0
                                            },
                                            {
                                                "bin_start": 0.7000000000000001,
                                                "bin_end": 0.8,
                                                "count": 0
                                            },
                                            {
                                                "bin_start": 0.8,
                                                "bin_end": 0.9,
                                                "count": 0
                                            },
                                            {
                                                "bin_start": 0.9,
                                                "bin_end": 1,
                                                "count": 1
                                            }
                                        ]
                                    }
                                },
                                {
                                    "name": "Serial_B1025",
                                    "dtype": "uint8",
                                    "stats": {
                                        "unique_count": 2,
                                        "nan_count": 0,
                                        "min": "0",
                                        "max": "1",
                                        "histogram": [
                                            {
                                                "bin_start": 0,
                                                "bin_end": 0.1,
                                                "count": 89
                                            },
                                            {
                                                "bin_start": 0.1,
                                                "bin_end": 0.2,
                                                "count": 0
                                            },
                                            {
                                                "bin_start": 0.2,
                                                "bin_end": 0.30000000000000004,
                                                "count": 0
                                            },
                                            {
                                                "bin_start": 0.30000000000000004,
                                                "bin_end": 0.4,
                                                "count": 0
                                            },
                                            {
                                                "bin_start": 0.4,
                                                "bin_end": 0.5,
                                                "count": 0
                                            },
                                            {
                                                "bin_start": 0.5,
                                                "bin_end": 0.6000000000000001,
                                                "count": 0
                                            },
                                            {
                                                "bin_start": 0.6000000000000001,
                                                "bin_end": 0.7000000000000001,
                                                "count": 0
                                            },
                                            {
                                                "bin_start": 0.7000000000000001,
                                                "bin_end": 0.8,
                                                "count": 0
                                            },
                                            {
                                                "bin_start": 0.8,
                                                "bin_end": 0.9,
                                                "count": 0
                                            },
                                            {
                                                "bin_start": 0.9,
                                                "bin_end": 1,
                                                "count": 1
                                            }
                                        ]
                                    }
                                },
                                {
                                    "name": "Serial_B1026",
                                    "dtype": "uint8",
                                    "stats": {
                                        "unique_count": 2,
                                        "nan_count": 0,
                                        "min": "0",
                                        "max": "1",
                                        "histogram": [
                                            {
                                                "bin_start": 0,
                                                "bin_end": 0.1,
                                                "count": 89
                                            },
                                            {
                                                "bin_start": 0.1,
                                                "bin_end": 0.2,
                                                "count": 0
                                            },
                                            {
                                                "bin_start": 0.2,
                                                "bin_end": 0.30000000000000004,
                                                "count": 0
                                            },
                                            {
                                                "bin_start": 0.30000000000000004,
                                                "bin_end": 0.4,
                                                "count": 0
                                            },
                                            {
                                                "bin_start": 0.4,
                                                "bin_end": 0.5,
                                                "count": 0
                                            },
                                            {
                                                "bin_start": 0.5,
                                                "bin_end": 0.6000000000000001,
                                                "count": 0
                                            },
                                            {
                                                "bin_start": 0.6000000000000001,
                                                "bin_end": 0.7000000000000001,
                                                "count": 0
                                            },
                                            {
                                                "bin_start": 0.7000000000000001,
                                                "bin_end": 0.8,
                                                "count": 0
                                            },
                                            {
                                                "bin_start": 0.8,
                                                "bin_end": 0.9,
                                                "count": 0
                                            },
                                            {
                                                "bin_start": 0.9,
                                                "bin_end": 1,
                                                "count": 1
                                            }
                                        ]
                                    }
                                },
                                {
                                    "name": "Serial_B1028",
                                    "dtype": "uint8",
                                    "stats": {
                                        "unique_count": 2,
                                        "nan_count": 0,
                                        "min": "0",
                                        "max": "1",
                                        "histogram": [
                                            {
                                                "bin_start": 0,
                                                "bin_end": 0.1,
                                                "count": 89
                                            },
                                            {
                                                "bin_start": 0.1,
                                                "bin_end": 0.2,
                                                "count": 0
                                            },
                                            {
                                                "bin_start": 0.2,
                                                "bin_end": 0.30000000000000004,
                                                "count": 0
                                            },
                                            {
                                                "bin_start": 0.30000000000000004,
                                                "bin_end": 0.4,
                                                "count": 0
                                            },
                                            {
                                                "bin_start": 0.4,
                                                "bin_end": 0.5,
                                                "count": 0
                                            },
                                            {
                                                "bin_start": 0.5,
                                                "bin_end": 0.6000000000000001,
                                                "count": 0
                                            },
                                            {
                                                "bin_start": 0.6000000000000001,
                                                "bin_end": 0.7000000000000001,
                                                "count": 0
                                            },
                                            {
                                                "bin_start": 0.7000000000000001,
                                                "bin_end": 0.8,
                                                "count": 0
                                            },
                                            {
                                                "bin_start": 0.8,
                                                "bin_end": 0.9,
                                                "count": 0
                                            },
                                            {
                                                "bin_start": 0.9,
                                                "bin_end": 1,
                                                "count": 1
                                            }
                                        ]
                                    }
                                },
                                {
                                    "name": "Serial_B1029",
                                    "dtype": "uint8",
                                    "stats": {
                                        "unique_count": 2,
                                        "nan_count": 0,
                                        "min": "0",
                                        "max": "1",
                                        "histogram": [
                                            {
                                                "bin_start": 0,
                                                "bin_end": 0.1,
                                                "count": 88
                                            },
                                            {
                                                "bin_start": 0.1,
                                                "bin_end": 0.2,
                                                "count": 0
                                            },
                                            {
                                                "bin_start": 0.2,
                                                "bin_end": 0.30000000000000004,
                                                "count": 0
                                            },
                                            {
                                                "bin_start": 0.30000000000000004,
                                                "bin_end": 0.4,
                                                "count": 0
                                            },
                                            {
                                                "bin_start": 0.4,
                                                "bin_end": 0.5,
                                                "count": 0
                                            },
                                            {
                                                "bin_start": 0.5,
                                                "bin_end": 0.6000000000000001,
                                                "count": 0
                                            },
                                            {
                                                "bin_start": 0.6000000000000001,
                                                "bin_end": 0.7000000000000001,
                                                "count": 0
                                            },
                                            {
                                                "bin_start": 0.7000000000000001,
                                                "bin_end": 0.8,
                                                "count": 0
                                            },
                                            {
                                                "bin_start": 0.8,
                                                "bin_end": 0.9,
                                                "count": 0
                                            },
                                            {
                                                "bin_start": 0.9,
                                                "bin_end": 1,
                                                "count": 2
                                            }
                                        ]
                                    }
                                },
                                {
                                    "name": "Serial_B1030",
                                    "dtype": "uint8",
                                    "stats": {
                                        "unique_count": 2,
                                        "nan_count": 0,
                                        "min": "0",
                                        "max": "1",
                                        "histogram": [
                                            {
                                                "bin_start": 0,
                                                "bin_end": 0.1,
                                                "count": 89
                                            },
                                            {
                                                "bin_start": 0.1,
                                                "bin_end": 0.2,
                                                "count": 0
                                            },
                                            {
                                                "bin_start": 0.2,
                                                "bin_end": 0.30000000000000004,
                                                "count": 0
                                            },
                                            {
                                                "bin_start": 0.30000000000000004,
                                                "bin_end": 0.4,
                                                "count": 0
                                            },
                                            {
                                                "bin_start": 0.4,
                                                "bin_end": 0.5,
                                                "count": 0
                                            },
                                            {
                                                "bin_start": 0.5,
                                                "bin_end": 0.6000000000000001,
                                                "count": 0
                                            },
                                            {
                                                "bin_start": 0.6000000000000001,
                                                "bin_end": 0.7000000000000001,
                                                "count": 0
                                            },
                                            {
                                                "bin_start": 0.7000000000000001,
                                                "bin_end": 0.8,
                                                "count": 0
                                            },
                                            {
                                                "bin_start": 0.8,
                                                "bin_end": 0.9,
                                                "count": 0
                                            },
                                            {
                                                "bin_start": 0.9,
                                                "bin_end": 1,
                                                "count": 1
                                            }
                                        ]
                                    }
                                },
                                {
                                    "name": "Serial_B1031",
                                    "dtype": "uint8",
                                    "stats": {
                                        "unique_count": 2,
                                        "nan_count": 0,
                                        "min": "0",
                                        "max": "1",
                                        "histogram": [
                                            {
                                                "bin_start": 0,
                                                "bin_end": 0.1,
                                                "count": 88
                                            },
                                            {
                                                "bin_start": 0.1,
                                                "bin_end": 0.2,
                                                "count": 0
                                            },
                                            {
                                                "bin_start": 0.2,
                                                "bin_end": 0.30000000000000004,
                                                "count": 0
                                            },
                                            {
                                                "bin_start": 0.30000000000000004,
                                                "bin_end": 0.4,
                                                "count": 0
                                            },
                                            {
                                                "bin_start": 0.4,
                                                "bin_end": 0.5,
                                                "count": 0
                                            },
                                            {
                                                "bin_start": 0.5,
                                                "bin_end": 0.6000000000000001,
                                                "count": 0
                                            },
                                            {
                                                "bin_start": 0.6000000000000001,
                                                "bin_end": 0.7000000000000001,
                                                "count": 0
                                            },
                                            {
                                                "bin_start": 0.7000000000000001,
                                                "bin_end": 0.8,
                                                "count": 0
                                            },
                                            {
                                                "bin_start": 0.8,
                                                "bin_end": 0.9,
                                                "count": 0
                                            },
                                            {
                                                "bin_start": 0.9,
                                                "bin_end": 1,
                                                "count": 2
                                            }
                                        ]
                                    }
                                },
                                {
                                    "name": "Serial_B1032",
                                    "dtype": "uint8",
                                    "stats": {
                                        "unique_count": 2,
                                        "nan_count": 0,
                                        "min": "0",
                                        "max": "1",
                                        "histogram": [
                                            {
                                                "bin_start": 0,
                                                "bin_end": 0.1,
                                                "count": 88
                                            },
                                            {
                                                "bin_start": 0.1,
                                                "bin_end": 0.2,
                                                "count": 0
                                            },
                                            {
                                                "bin_start": 0.2,
                                                "bin_end": 0.30000000000000004,
                                                "count": 0
                                            },
                                            {
                                                "bin_start": 0.30000000000000004,
                                                "bin_end": 0.4,
                                                "count": 0
                                            },
                                            {
                                                "bin_start": 0.4,
                                                "bin_end": 0.5,
                                                "count": 0
                                            },
                                            {
                                                "bin_start": 0.5,
                                                "bin_end": 0.6000000000000001,
                                                "count": 0
                                            },
                                            {
                                                "bin_start": 0.6000000000000001,
                                                "bin_end": 0.7000000000000001,
                                                "count": 0
                                            },
                                            {
                                                "bin_start": 0.7000000000000001,
                                                "bin_end": 0.8,
                                                "count": 0
                                            },
                                            {
                                                "bin_start": 0.8,
                                                "bin_end": 0.9,
                                                "count": 0
                                            },
                                            {
                                                "bin_start": 0.9,
                                                "bin_end": 1,
                                                "count": 2
                                            }
                                        ]
                                    }
                                },
                                {
                                    "name": "Serial_B1034",
                                    "dtype": "uint8",
                                    "stats": {
                                        "unique_count": 2,
                                        "nan_count": 0,
                                        "min": "0",
                                        "max": "1",
                                        "histogram": [
                                            {
                                                "bin_start": 0,
                                                "bin_end": 0.1,
                                                "count": 89
                                            },
                                            {
                                                "bin_start": 0.1,
                                                "bin_end": 0.2,
                                                "count": 0
                                            },
                                            {
                                                "bin_start": 0.2,
                                                "bin_end": 0.30000000000000004,
                                                "count": 0
                                            },
                                            {
                                                "bin_start": 0.30000000000000004,
                                                "bin_end": 0.4,
                                                "count": 0
                                            },
                                            {
                                                "bin_start": 0.4,
                                                "bin_end": 0.5,
                                                "count": 0
                                            },
                                            {
                                                "bin_start": 0.5,
                                                "bin_end": 0.6000000000000001,
                                                "count": 0
                                            },
                                            {
                                                "bin_start": 0.6000000000000001,
                                                "bin_end": 0.7000000000000001,
                                                "count": 0
                                            },
                                            {
                                                "bin_start": 0.7000000000000001,
                                                "bin_end": 0.8,
                                                "count": 0
                                            },
                                            {
                                                "bin_start": 0.8,
                                                "bin_end": 0.9,
                                                "count": 0
                                            },
                                            {
                                                "bin_start": 0.9,
                                                "bin_end": 1,
                                                "count": 1
                                            }
                                        ]
                                    }
                                },
                                {
                                    "name": "Serial_B1035",
                                    "dtype": "uint8",
                                    "stats": {
                                        "unique_count": 2,
                                        "nan_count": 0,
                                        "min": "0",
                                        "max": "1",
                                        "histogram": [
                                            {
                                                "bin_start": 0,
                                                "bin_end": 0.1,
                                                "count": 88
                                            },
                                            {
                                                "bin_start": 0.1,
                                                "bin_end": 0.2,
                                                "count": 0
                                            },
                                            {
                                                "bin_start": 0.2,
                                                "bin_end": 0.30000000000000004,
                                                "count": 0
                                            },
                                            {
                                                "bin_start": 0.30000000000000004,
                                                "bin_end": 0.4,
                                                "count": 0
                                            },
                                            {
                                                "bin_start": 0.4,
                                                "bin_end": 0.5,
                                                "count": 0
                                            },
                                            {
                                                "bin_start": 0.5,
                                                "bin_end": 0.6000000000000001,
                                                "count": 0
                                            },
                                            {
                                                "bin_start": 0.6000000000000001,
                                                "bin_end": 0.7000000000000001,
                                                "count": 0
                                            },
                                            {
                                                "bin_start": 0.7000000000000001,
                                                "bin_end": 0.8,
                                                "count": 0
                                            },
                                            {
                                                "bin_start": 0.8,
                                                "bin_end": 0.9,
                                                "count": 0
                                            },
                                            {
                                                "bin_start": 0.9,
                                                "bin_end": 1,
                                                "count": 2
                                            }
                                        ]
                                    }
                                },
                                {
                                    "name": "Serial_B1036",
                                    "dtype": "uint8",
                                    "stats": {
                                        "unique_count": 2,
                                        "nan_count": 0,
                                        "min": "0",
                                        "max": "1",
                                        "histogram": [
                                            {
                                                "bin_start": 0,
                                                "bin_end": 0.1,
                                                "count": 88
                                            },
                                            {
                                                "bin_start": 0.1,
                                                "bin_end": 0.2,
                                                "count": 0
                                            },
                                            {
                                                "bin_start": 0.2,
                                                "bin_end": 0.30000000000000004,
                                                "count": 0
                                            },
                                            {
                                                "bin_start": 0.30000000000000004,
                                                "bin_end": 0.4,
                                                "count": 0
                                            },
                                            {
                                                "bin_start": 0.4,
                                                "bin_end": 0.5,
                                                "count": 0
                                            },
                                            {
                                                "bin_start": 0.5,
                                                "bin_end": 0.6000000000000001,
                                                "count": 0
                                            },
                                            {
                                                "bin_start": 0.6000000000000001,
                                                "bin_end": 0.7000000000000001,
                                                "count": 0
                                            },
                                            {
                                                "bin_start": 0.7000000000000001,
                                                "bin_end": 0.8,
                                                "count": 0
                                            },
                                            {
                                                "bin_start": 0.8,
                                                "bin_end": 0.9,
                                                "count": 0
                                            },
                                            {
                                                "bin_start": 0.9,
                                                "bin_end": 1,
                                                "count": 2
                                            }
                                        ]
                                    }
                                },
                                {
                                    "name": "Serial_B1037",
                                    "dtype": "uint8",
                                    "stats": {
                                        "unique_count": 2,
                                        "nan_count": 0,
                                        "min": "0",
                                        "max": "1",
                                        "histogram": [
                                            {
                                                "bin_start": 0,
                                                "bin_end": 0.1,
                                                "count": 89
                                            },
                                            {
                                                "bin_start": 0.1,
                                                "bin_end": 0.2,
                                                "count": 0
                                            },
                                            {
                                                "bin_start": 0.2,
                                                "bin_end": 0.30000000000000004,
                                                "count": 0
                                            },
                                            {
                                                "bin_start": 0.30000000000000004,
                                                "bin_end": 0.4,
                                                "count": 0
                                            },
                                            {
                                                "bin_start": 0.4,
                                                "bin_end": 0.5,
                                                "count": 0
                                            },
                                            {
                                                "bin_start": 0.5,
                                                "bin_end": 0.6000000000000001,
                                                "count": 0
                                            },
                                            {
                                                "bin_start": 0.6000000000000001,
                                                "bin_end": 0.7000000000000001,
                                                "count": 0
                                            },
                                            {
                                                "bin_start": 0.7000000000000001,
                                                "bin_end": 0.8,
                                                "count": 0
                                            },
                                            {
                                                "bin_start": 0.8,
                                                "bin_end": 0.9,
                                                "count": 0
                                            },
                                            {
                                                "bin_start": 0.9,
                                                "bin_end": 1,
                                                "count": 1
                                            }
                                        ]
                                    }
                                },
                                {
                                    "name": "Serial_B1038",
                                    "dtype": "uint8",
                                    "stats": {
                                        "unique_count": 2,
                                        "nan_count": 0,
                                        "min": "0",
                                        "max": "1",
                                        "histogram": [
                                            {
                                                "bin_start": 0,
                                                "bin_end": 0.1,
                                                "count": 89
                                            },
                                            {
                                                "bin_start": 0.1,
                                                "bin_end": 0.2,
                                                "count": 0
                                            },
                                            {
                                                "bin_start": 0.2,
                                                "bin_end": 0.30000000000000004,
                                                "count": 0
                                            },
                                            {
                                                "bin_start": 0.30000000000000004,
                                                "bin_end": 0.4,
                                                "count": 0
                                            },
                                            {
                                                "bin_start": 0.4,
                                                "bin_end": 0.5,
                                                "count": 0
                                            },
                                            {
                                                "bin_start": 0.5,
                                                "bin_end": 0.6000000000000001,
                                                "count": 0
                                            },
                                            {
                                                "bin_start": 0.6000000000000001,
                                                "bin_end": 0.7000000000000001,
                                                "count": 0
                                            },
                                            {
                                                "bin_start": 0.7000000000000001,
                                                "bin_end": 0.8,
                                                "count": 0
                                            },
                                            {
                                                "bin_start": 0.8,
                                                "bin_end": 0.9,
                                                "count": 0
                                            },
                                            {
                                                "bin_start": 0.9,
                                                "bin_end": 1,
                                                "count": 1
                                            }
                                        ]
                                    }
                                },
                                {
                                    "name": "Serial_B1039",
                                    "dtype": "uint8",
                                    "stats": {
                                        "unique_count": 2,
                                        "nan_count": 0,
                                        "min": "0",
                                        "max": "1",
                                        "histogram": [
                                            {
                                                "bin_start": 0,
                                                "bin_end": 0.1,
                                                "count": 88
                                            },
                                            {
                                                "bin_start": 0.1,
                                                "bin_end": 0.2,
                                                "count": 0
                                            },
                                            {
                                                "bin_start": 0.2,
                                                "bin_end": 0.30000000000000004,
                                                "count": 0
                                            },
                                            {
                                                "bin_start": 0.30000000000000004,
                                                "bin_end": 0.4,
                                                "count": 0
                                            },
                                            {
                                                "bin_start": 0.4,
                                                "bin_end": 0.5,
                                                "count": 0
                                            },
                                            {
                                                "bin_start": 0.5,
                                                "bin_end": 0.6000000000000001,
                                                "count": 0
                                            },
                                            {
                                                "bin_start": 0.6000000000000001,
                                                "bin_end": 0.7000000000000001,
                                                "count": 0
                                            },
                                            {
                                                "bin_start": 0.7000000000000001,
                                                "bin_end": 0.8,
                                                "count": 0
                                            },
                                            {
                                                "bin_start": 0.8,
                                                "bin_end": 0.9,
                                                "count": 0
                                            },
                                            {
                                                "bin_start": 0.9,
                                                "bin_end": 1,
                                                "count": 2
                                            }
                                        ]
                                    }
                                },
                                {
                                    "name": "Serial_B1040",
                                    "dtype": "uint8",
                                    "stats": {
                                        "unique_count": 2,
                                        "nan_count": 0,
                                        "min": "0",
                                        "max": "1",
                                        "histogram": [
                                            {
                                                "bin_start": 0,
                                                "bin_end": 0.1,
                                                "count": 88
                                            },
                                            {
                                                "bin_start": 0.1,
                                                "bin_end": 0.2,
                                                "count": 0
                                            },
                                            {
                                                "bin_start": 0.2,
                                                "bin_end": 0.30000000000000004,
                                                "count": 0
                                            },
                                            {
                                                "bin_start": 0.30000000000000004,
                                                "bin_end": 0.4,
                                                "count": 0
                                            },
                                            {
                                                "bin_start": 0.4,
                                                "bin_end": 0.5,
                                                "count": 0
                                            },
                                            {
                                                "bin_start": 0.5,
                                                "bin_end": 0.6000000000000001,
                                                "count": 0
                                            },
                                            {
                                                "bin_start": 0.6000000000000001,
                                                "bin_end": 0.7000000000000001,
                                                "count": 0
                                            },
                                            {
                                                "bin_start": 0.7000000000000001,
                                                "bin_end": 0.8,
                                                "count": 0
                                            },
                                            {
                                                "bin_start": 0.8,
                                                "bin_end": 0.9,
                                                "count": 0
                                            },
                                            {
                                                "bin_start": 0.9,
                                                "bin_end": 1,
                                                "count": 2
                                            }
                                        ]
                                    }
                                },
                                {
                                    "name": "Serial_B1041",
                                    "dtype": "uint8",
                                    "stats": {
                                        "unique_count": 2,
                                        "nan_count": 0,
                                        "min": "0",
                                        "max": "1",
                                        "histogram": [
                                            {
                                                "bin_start": 0,
                                                "bin_end": 0.1,
                                                "count": 88
                                            },
                                            {
                                                "bin_start": 0.1,
                                                "bin_end": 0.2,
                                                "count": 0
                                            },
                                            {
                                                "bin_start": 0.2,
                                                "bin_end": 0.30000000000000004,
                                                "count": 0
                                            },
                                            {
                                                "bin_start": 0.30000000000000004,
                                                "bin_end": 0.4,
                                                "count": 0
                                            },
                                            {
                                                "bin_start": 0.4,
                                                "bin_end": 0.5,
                                                "count": 0
                                            },
                                            {
                                                "bin_start": 0.5,
                                                "bin_end": 0.6000000000000001,
                                                "count": 0
                                            },
                                            {
                                                "bin_start": 0.6000000000000001,
                                                "bin_end": 0.7000000000000001,
                                                "count": 0
                                            },
                                            {
                                                "bin_start": 0.7000000000000001,
                                                "bin_end": 0.8,
                                                "count": 0
                                            },
                                            {
                                                "bin_start": 0.8,
                                                "bin_end": 0.9,
                                                "count": 0
                                            },
                                            {
                                                "bin_start": 0.9,
                                                "bin_end": 1,
                                                "count": 2
                                            }
                                        ]
                                    }
                                },
                                {
                                    "name": "Serial_B1042",
                                    "dtype": "uint8",
                                    "stats": {
                                        "unique_count": 2,
                                        "nan_count": 0,
                                        "min": "0",
                                        "max": "1",
                                        "histogram": [
                                            {
                                                "bin_start": 0,
                                                "bin_end": 0.1,
                                                "count": 89
                                            },
                                            {
                                                "bin_start": 0.1,
                                                "bin_end": 0.2,
                                                "count": 0
                                            },
                                            {
                                                "bin_start": 0.2,
                                                "bin_end": 0.30000000000000004,
                                                "count": 0
                                            },
                                            {
                                                "bin_start": 0.30000000000000004,
                                                "bin_end": 0.4,
                                                "count": 0
                                            },
                                            {
                                                "bin_start": 0.4,
                                                "bin_end": 0.5,
                                                "count": 0
                                            },
                                            {
                                                "bin_start": 0.5,
                                                "bin_end": 0.6000000000000001,
                                                "count": 0
                                            },
                                            {
                                                "bin_start": 0.6000000000000001,
                                                "bin_end": 0.7000000000000001,
                                                "count": 0
                                            },
                                            {
                                                "bin_start": 0.7000000000000001,
                                                "bin_end": 0.8,
                                                "count": 0
                                            },
                                            {
                                                "bin_start": 0.8,
                                                "bin_end": 0.9,
                                                "count": 0
                                            },
                                            {
                                                "bin_start": 0.9,
                                                "bin_end": 1,
                                                "count": 1
                                            }
                                        ]
                                    }
                                },
                                {
                                    "name": "Serial_B1043",
                                    "dtype": "uint8",
                                    "stats": {
                                        "unique_count": 2,
                                        "nan_count": 0,
                                        "min": "0",
                                        "max": "1",
                                        "histogram": [
                                            {
                                                "bin_start": 0,
                                                "bin_end": 0.1,
                                                "count": 89
                                            },
                                            {
                                                "bin_start": 0.1,
                                                "bin_end": 0.2,
                                                "count": 0
                                            },
                                            {
                                                "bin_start": 0.2,
                                                "bin_end": 0.30000000000000004,
                                                "count": 0
                                            },
                                            {
                                                "bin_start": 0.30000000000000004,
                                                "bin_end": 0.4,
                                                "count": 0
                                            },
                                            {
                                                "bin_start": 0.4,
                                                "bin_end": 0.5,
                                                "count": 0
                                            },
                                            {
                                                "bin_start": 0.5,
                                                "bin_end": 0.6000000000000001,
                                                "count": 0
                                            },
                                            {
                                                "bin_start": 0.6000000000000001,
                                                "bin_end": 0.7000000000000001,
                                                "count": 0
                                            },
                                            {
                                                "bin_start": 0.7000000000000001,
                                                "bin_end": 0.8,
                                                "count": 0
                                            },
                                            {
                                                "bin_start": 0.8,
                                                "bin_end": 0.9,
                                                "count": 0
                                            },
                                            {
                                                "bin_start": 0.9,
                                                "bin_end": 1,
                                                "count": 1
                                            }
                                        ]
                                    }
                                },
                                {
                                    "name": "Serial_B1044",
                                    "dtype": "uint8",
                                    "stats": {
                                        "unique_count": 2,
                                        "nan_count": 0,
                                        "min": "0",
                                        "max": "1",
                                        "histogram": [
                                            {
                                                "bin_start": 0,
                                                "bin_end": 0.1,
                                                "count": 89
                                            },
                                            {
                                                "bin_start": 0.1,
                                                "bin_end": 0.2,
                                                "count": 0
                                            },
                                            {
                                                "bin_start": 0.2,
                                                "bin_end": 0.30000000000000004,
                                                "count": 0
                                            },
                                            {
                                                "bin_start": 0.30000000000000004,
                                                "bin_end": 0.4,
                                                "count": 0
                                            },
                                            {
                                                "bin_start": 0.4,
                                                "bin_end": 0.5,
                                                "count": 0
                                            },
                                            {
                                                "bin_start": 0.5,
                                                "bin_end": 0.6000000000000001,
                                                "count": 0
                                            },
                                            {
                                                "bin_start": 0.6000000000000001,
                                                "bin_end": 0.7000000000000001,
                                                "count": 0
                                            },
                                            {
                                                "bin_start": 0.7000000000000001,
                                                "bin_end": 0.8,
                                                "count": 0
                                            },
                                            {
                                                "bin_start": 0.8,
                                                "bin_end": 0.9,
                                                "count": 0
                                            },
                                            {
                                                "bin_start": 0.9,
                                                "bin_end": 1,
                                                "count": 1
                                            }
                                        ]
                                    }
                                },
                                {
                                    "name": "Serial_B1045",
                                    "dtype": "uint8",
                                    "stats": {
                                        "unique_count": 2,
                                        "nan_count": 0,
                                        "min": "0",
                                        "max": "1",
                                        "histogram": [
                                            {
                                                "bin_start": 0,
                                                "bin_end": 0.1,
                                                "count": 88
                                            },
                                            {
                                                "bin_start": 0.1,
                                                "bin_end": 0.2,
                                                "count": 0
                                            },
                                            {
                                                "bin_start": 0.2,
                                                "bin_end": 0.30000000000000004,
                                                "count": 0
                                            },
                                            {
                                                "bin_start": 0.30000000000000004,
                                                "bin_end": 0.4,
                                                "count": 0
                                            },
                                            {
                                                "bin_start": 0.4,
                                                "bin_end": 0.5,
                                                "count": 0
                                            },
                                            {
                                                "bin_start": 0.5,
                                                "bin_end": 0.6000000000000001,
                                                "count": 0
                                            },
                                            {
                                                "bin_start": 0.6000000000000001,
                                                "bin_end": 0.7000000000000001,
                                                "count": 0
                                            },
                                            {
                                                "bin_start": 0.7000000000000001,
                                                "bin_end": 0.8,
                                                "count": 0
                                            },
                                            {
                                                "bin_start": 0.8,
                                                "bin_end": 0.9,
                                                "count": 0
                                            },
                                            {
                                                "bin_start": 0.9,
                                                "bin_end": 1,
                                                "count": 2
                                            }
                                        ]
                                    }
                                },
                                {
                                    "name": "Serial_B1046",
                                    "dtype": "uint8",
                                    "stats": {
                                        "unique_count": 2,
                                        "nan_count": 0,
                                        "min": "0",
                                        "max": "1",
                                        "histogram": [
                                            {
                                                "bin_start": 0,
                                                "bin_end": 0.1,
                                                "count": 86
                                            },
                                            {
                                                "bin_start": 0.1,
                                                "bin_end": 0.2,
                                                "count": 0
                                            },
                                            {
                                                "bin_start": 0.2,
                                                "bin_end": 0.30000000000000004,
                                                "count": 0
                                            },
                                            {
                                                "bin_start": 0.30000000000000004,
                                                "bin_end": 0.4,
                                                "count": 0
                                            },
                                            {
                                                "bin_start": 0.4,
                                                "bin_end": 0.5,
                                                "count": 0
                                            },
                                            {
                                                "bin_start": 0.5,
                                                "bin_end": 0.6000000000000001,
                                                "count": 0
                                            },
                                            {
                                                "bin_start": 0.6000000000000001,
                                                "bin_end": 0.7000000000000001,
                                                "count": 0
                                            },
                                            {
                                                "bin_start": 0.7000000000000001,
                                                "bin_end": 0.8,
                                                "count": 0
                                            },
                                            {
                                                "bin_start": 0.8,
                                                "bin_end": 0.9,
                                                "count": 0
                                            },
                                            {
                                                "bin_start": 0.9,
                                                "bin_end": 1,
                                                "count": 4
                                            }
                                        ]
                                    }
                                },
                                {
                                    "name": "Serial_B1047",
                                    "dtype": "uint8",
                                    "stats": {
                                        "unique_count": 2,
                                        "nan_count": 0,
                                        "min": "0",
                                        "max": "1",
                                        "histogram": [
                                            {
                                                "bin_start": 0,
                                                "bin_end": 0.1,
                                                "count": 87
                                            },
                                            {
                                                "bin_start": 0.1,
                                                "bin_end": 0.2,
                                                "count": 0
                                            },
                                            {
                                                "bin_start": 0.2,
                                                "bin_end": 0.30000000000000004,
                                                "count": 0
                                            },
                                            {
                                                "bin_start": 0.30000000000000004,
                                                "bin_end": 0.4,
                                                "count": 0
                                            },
                                            {
                                                "bin_start": 0.4,
                                                "bin_end": 0.5,
                                                "count": 0
                                            },
                                            {
                                                "bin_start": 0.5,
                                                "bin_end": 0.6000000000000001,
                                                "count": 0
                                            },
                                            {
                                                "bin_start": 0.6000000000000001,
                                                "bin_end": 0.7000000000000001,
                                                "count": 0
                                            },
                                            {
                                                "bin_start": 0.7000000000000001,
                                                "bin_end": 0.8,
                                                "count": 0
                                            },
                                            {
                                                "bin_start": 0.8,
                                                "bin_end": 0.9,
                                                "count": 0
                                            },
                                            {
                                                "bin_start": 0.9,
                                                "bin_end": 1,
                                                "count": 3
                                            }
                                        ]
                                    }
                                },
                                {
                                    "name": "Serial_B1048",
                                    "dtype": "uint8",
                                    "stats": {
                                        "unique_count": 2,
                                        "nan_count": 0,
                                        "min": "0",
                                        "max": "1",
                                        "histogram": [
                                            {
                                                "bin_start": 0,
                                                "bin_end": 0.1,
                                                "count": 86
                                            },
                                            {
                                                "bin_start": 0.1,
                                                "bin_end": 0.2,
                                                "count": 0
                                            },
                                            {
                                                "bin_start": 0.2,
                                                "bin_end": 0.30000000000000004,
                                                "count": 0
                                            },
                                            {
                                                "bin_start": 0.30000000000000004,
                                                "bin_end": 0.4,
                                                "count": 0
                                            },
                                            {
                                                "bin_start": 0.4,
                                                "bin_end": 0.5,
                                                "count": 0
                                            },
                                            {
                                                "bin_start": 0.5,
                                                "bin_end": 0.6000000000000001,
                                                "count": 0
                                            },
                                            {
                                                "bin_start": 0.6000000000000001,
                                                "bin_end": 0.7000000000000001,
                                                "count": 0
                                            },
                                            {
                                                "bin_start": 0.7000000000000001,
                                                "bin_end": 0.8,
                                                "count": 0
                                            },
                                            {
                                                "bin_start": 0.8,
                                                "bin_end": 0.9,
                                                "count": 0
                                            },
                                            {
                                                "bin_start": 0.9,
                                                "bin_end": 1,
                                                "count": 4
                                            }
                                        ]
                                    }
                                },
                                {
                                    "name": "Serial_B1049",
                                    "dtype": "uint8",
                                    "stats": {
                                        "unique_count": 2,
                                        "nan_count": 0,
                                        "min": "0",
                                        "max": "1",
                                        "histogram": [
                                            {
                                                "bin_start": 0,
                                                "bin_end": 0.1,
                                                "count": 84
                                            },
                                            {
                                                "bin_start": 0.1,
                                                "bin_end": 0.2,
                                                "count": 0
                                            },
                                            {
                                                "bin_start": 0.2,
                                                "bin_end": 0.30000000000000004,
                                                "count": 0
                                            },
                                            {
                                                "bin_start": 0.30000000000000004,
                                                "bin_end": 0.4,
                                                "count": 0
                                            },
                                            {
                                                "bin_start": 0.4,
                                                "bin_end": 0.5,
                                                "count": 0
                                            },
                                            {
                                                "bin_start": 0.5,
                                                "bin_end": 0.6000000000000001,
                                                "count": 0
                                            },
                                            {
                                                "bin_start": 0.6000000000000001,
                                                "bin_end": 0.7000000000000001,
                                                "count": 0
                                            },
                                            {
                                                "bin_start": 0.7000000000000001,
                                                "bin_end": 0.8,
                                                "count": 0
                                            },
                                            {
                                                "bin_start": 0.8,
                                                "bin_end": 0.9,
                                                "count": 0
                                            },
                                            {
                                                "bin_start": 0.9,
                                                "bin_end": 1,
                                                "count": 6
                                            }
                                        ]
                                    }
                                },
                                {
                                    "name": "Serial_B1050",
                                    "dtype": "uint8",
                                    "stats": {
                                        "unique_count": 2,
                                        "nan_count": 0,
                                        "min": "0",
                                        "max": "1",
                                        "histogram": [
                                            {
                                                "bin_start": 0,
                                                "bin_end": 0.1,
                                                "count": 89
                                            },
                                            {
                                                "bin_start": 0.1,
                                                "bin_end": 0.2,
                                                "count": 0
                                            },
                                            {
                                                "bin_start": 0.2,
                                                "bin_end": 0.30000000000000004,
                                                "count": 0
                                            },
                                            {
                                                "bin_start": 0.30000000000000004,
                                                "bin_end": 0.4,
                                                "count": 0
                                            },
                                            {
                                                "bin_start": 0.4,
                                                "bin_end": 0.5,
                                                "count": 0
                                            },
                                            {
                                                "bin_start": 0.5,
                                                "bin_end": 0.6000000000000001,
                                                "count": 0
                                            },
                                            {
                                                "bin_start": 0.6000000000000001,
                                                "bin_end": 0.7000000000000001,
                                                "count": 0
                                            },
                                            {
                                                "bin_start": 0.7000000000000001,
                                                "bin_end": 0.8,
                                                "count": 0
                                            },
                                            {
                                                "bin_start": 0.8,
                                                "bin_end": 0.9,
                                                "count": 0
                                            },
                                            {
                                                "bin_start": 0.9,
                                                "bin_end": 1,
                                                "count": 1
                                            }
                                        ]
                                    }
                                },
                                {
                                    "name": "Serial_B1051",
                                    "dtype": "uint8",
                                    "stats": {
                                        "unique_count": 2,
                                        "nan_count": 0,
                                        "min": "0",
                                        "max": "1",
                                        "histogram": [
                                            {
                                                "bin_start": 0,
                                                "bin_end": 0.1,
                                                "count": 85
                                            },
                                            {
                                                "bin_start": 0.1,
                                                "bin_end": 0.2,
                                                "count": 0
                                            },
                                            {
                                                "bin_start": 0.2,
                                                "bin_end": 0.30000000000000004,
                                                "count": 0
                                            },
                                            {
                                                "bin_start": 0.30000000000000004,
                                                "bin_end": 0.4,
                                                "count": 0
                                            },
                                            {
                                                "bin_start": 0.4,
                                                "bin_end": 0.5,
                                                "count": 0
                                            },
                                            {
                                                "bin_start": 0.5,
                                                "bin_end": 0.6000000000000001,
                                                "count": 0
                                            },
                                            {
                                                "bin_start": 0.6000000000000001,
                                                "bin_end": 0.7000000000000001,
                                                "count": 0
                                            },
                                            {
                                                "bin_start": 0.7000000000000001,
                                                "bin_end": 0.8,
                                                "count": 0
                                            },
                                            {
                                                "bin_start": 0.8,
                                                "bin_end": 0.9,
                                                "count": 0
                                            },
                                            {
                                                "bin_start": 0.9,
                                                "bin_end": 1,
                                                "count": 5
                                            }
                                        ]
                                    }
                                },
                                {
                                    "name": "Serial_B1054",
                                    "dtype": "uint8",
                                    "stats": {
                                        "unique_count": 2,
                                        "nan_count": 0,
                                        "min": "0",
                                        "max": "1",
                                        "histogram": [
                                            {
                                                "bin_start": 0,
                                                "bin_end": 0.1,
                                                "count": 89
                                            },
                                            {
                                                "bin_start": 0.1,
                                                "bin_end": 0.2,
                                                "count": 0
                                            },
                                            {
                                                "bin_start": 0.2,
                                                "bin_end": 0.30000000000000004,
                                                "count": 0
                                            },
                                            {
                                                "bin_start": 0.30000000000000004,
                                                "bin_end": 0.4,
                                                "count": 0
                                            },
                                            {
                                                "bin_start": 0.4,
                                                "bin_end": 0.5,
                                                "count": 0
                                            },
                                            {
                                                "bin_start": 0.5,
                                                "bin_end": 0.6000000000000001,
                                                "count": 0
                                            },
                                            {
                                                "bin_start": 0.6000000000000001,
                                                "bin_end": 0.7000000000000001,
                                                "count": 0
                                            },
                                            {
                                                "bin_start": 0.7000000000000001,
                                                "bin_end": 0.8,
                                                "count": 0
                                            },
                                            {
                                                "bin_start": 0.8,
                                                "bin_end": 0.9,
                                                "count": 0
                                            },
                                            {
                                                "bin_start": 0.9,
                                                "bin_end": 1,
                                                "count": 1
                                            }
                                        ]
                                    }
                                },
                                {
                                    "name": "Serial_B1056",
                                    "dtype": "uint8",
                                    "stats": {
                                        "unique_count": 2,
                                        "nan_count": 0,
                                        "min": "0",
                                        "max": "1",
                                        "histogram": [
                                            {
                                                "bin_start": 0,
                                                "bin_end": 0.1,
                                                "count": 86
                                            },
                                            {
                                                "bin_start": 0.1,
                                                "bin_end": 0.2,
                                                "count": 0
                                            },
                                            {
                                                "bin_start": 0.2,
                                                "bin_end": 0.30000000000000004,
                                                "count": 0
                                            },
                                            {
                                                "bin_start": 0.30000000000000004,
                                                "bin_end": 0.4,
                                                "count": 0
                                            },
                                            {
                                                "bin_start": 0.4,
                                                "bin_end": 0.5,
                                                "count": 0
                                            },
                                            {
                                                "bin_start": 0.5,
                                                "bin_end": 0.6000000000000001,
                                                "count": 0
                                            },
                                            {
                                                "bin_start": 0.6000000000000001,
                                                "bin_end": 0.7000000000000001,
                                                "count": 0
                                            },
                                            {
                                                "bin_start": 0.7000000000000001,
                                                "bin_end": 0.8,
                                                "count": 0
                                            },
                                            {
                                                "bin_start": 0.8,
                                                "bin_end": 0.9,
                                                "count": 0
                                            },
                                            {
                                                "bin_start": 0.9,
                                                "bin_end": 1,
                                                "count": 4
                                            }
                                        ]
                                    }
                                },
                                {
                                    "name": "Serial_B1058",
                                    "dtype": "uint8",
                                    "stats": {
                                        "unique_count": 2,
                                        "nan_count": 0,
                                        "min": "0",
                                        "max": "1",
                                        "histogram": [
                                            {
                                                "bin_start": 0,
                                                "bin_end": 0.1,
                                                "count": 87
                                            },
                                            {
                                                "bin_start": 0.1,
                                                "bin_end": 0.2,
                                                "count": 0
                                            },
                                            {
                                                "bin_start": 0.2,
                                                "bin_end": 0.30000000000000004,
                                                "count": 0
                                            },
                                            {
                                                "bin_start": 0.30000000000000004,
                                                "bin_end": 0.4,
                                                "count": 0
                                            },
                                            {
                                                "bin_start": 0.4,
                                                "bin_end": 0.5,
                                                "count": 0
                                            },
                                            {
                                                "bin_start": 0.5,
                                                "bin_end": 0.6000000000000001,
                                                "count": 0
                                            },
                                            {
                                                "bin_start": 0.6000000000000001,
                                                "bin_end": 0.7000000000000001,
                                                "count": 0
                                            },
                                            {
                                                "bin_start": 0.7000000000000001,
                                                "bin_end": 0.8,
                                                "count": 0
                                            },
                                            {
                                                "bin_start": 0.8,
                                                "bin_end": 0.9,
                                                "count": 0
                                            },
                                            {
                                                "bin_start": 0.9,
                                                "bin_end": 1,
                                                "count": 3
                                            }
                                        ]
                                    }
                                },
                                {
                                    "name": "Serial_B1059",
                                    "dtype": "uint8",
                                    "stats": {
                                        "unique_count": 2,
                                        "nan_count": 0,
                                        "min": "0",
                                        "max": "1",
                                        "histogram": [
                                            {
                                                "bin_start": 0,
                                                "bin_end": 0.1,
                                                "count": 86
                                            },
                                            {
                                                "bin_start": 0.1,
                                                "bin_end": 0.2,
                                                "count": 0
                                            },
                                            {
                                                "bin_start": 0.2,
                                                "bin_end": 0.30000000000000004,
                                                "count": 0
                                            },
                                            {
                                                "bin_start": 0.30000000000000004,
                                                "bin_end": 0.4,
                                                "count": 0
                                            },
                                            {
                                                "bin_start": 0.4,
                                                "bin_end": 0.5,
                                                "count": 0
                                            },
                                            {
                                                "bin_start": 0.5,
                                                "bin_end": 0.6000000000000001,
                                                "count": 0
                                            },
                                            {
                                                "bin_start": 0.6000000000000001,
                                                "bin_end": 0.7000000000000001,
                                                "count": 0
                                            },
                                            {
                                                "bin_start": 0.7000000000000001,
                                                "bin_end": 0.8,
                                                "count": 0
                                            },
                                            {
                                                "bin_start": 0.8,
                                                "bin_end": 0.9,
                                                "count": 0
                                            },
                                            {
                                                "bin_start": 0.9,
                                                "bin_end": 1,
                                                "count": 4
                                            }
                                        ]
                                    }
                                },
                                {
                                    "name": "Serial_B1060",
                                    "dtype": "uint8",
                                    "stats": {
                                        "unique_count": 2,
                                        "nan_count": 0,
                                        "min": "0",
                                        "max": "1",
                                        "histogram": [
                                            {
                                                "bin_start": 0,
                                                "bin_end": 0.1,
                                                "count": 87
                                            },
                                            {
                                                "bin_start": 0.1,
                                                "bin_end": 0.2,
                                                "count": 0
                                            },
                                            {
                                                "bin_start": 0.2,
                                                "bin_end": 0.30000000000000004,
                                                "count": 0
                                            },
                                            {
                                                "bin_start": 0.30000000000000004,
                                                "bin_end": 0.4,
                                                "count": 0
                                            },
                                            {
                                                "bin_start": 0.4,
                                                "bin_end": 0.5,
                                                "count": 0
                                            },
                                            {
                                                "bin_start": 0.5,
                                                "bin_end": 0.6000000000000001,
                                                "count": 0
                                            },
                                            {
                                                "bin_start": 0.6000000000000001,
                                                "bin_end": 0.7000000000000001,
                                                "count": 0
                                            },
                                            {
                                                "bin_start": 0.7000000000000001,
                                                "bin_end": 0.8,
                                                "count": 0
                                            },
                                            {
                                                "bin_start": 0.8,
                                                "bin_end": 0.9,
                                                "count": 0
                                            },
                                            {
                                                "bin_start": 0.9,
                                                "bin_end": 1,
                                                "count": 3
                                            }
                                        ]
                                    }
                                },
                                {
                                    "name": "Serial_B1062",
                                    "dtype": "uint8",
                                    "stats": {
                                        "unique_count": 2,
                                        "nan_count": 0,
                                        "min": "0",
                                        "max": "1",
                                        "histogram": [
                                            {
                                                "bin_start": 0,
                                                "bin_end": 0.1,
                                                "count": 89
                                            },
                                            {
                                                "bin_start": 0.1,
                                                "bin_end": 0.2,
                                                "count": 0
                                            },
                                            {
                                                "bin_start": 0.2,
                                                "bin_end": 0.30000000000000004,
                                                "count": 0
                                            },
                                            {
                                                "bin_start": 0.30000000000000004,
                                                "bin_end": 0.4,
                                                "count": 0
                                            },
                                            {
                                                "bin_start": 0.4,
                                                "bin_end": 0.5,
                                                "count": 0
                                            },
                                            {
                                                "bin_start": 0.5,
                                                "bin_end": 0.6000000000000001,
                                                "count": 0
                                            },
                                            {
                                                "bin_start": 0.6000000000000001,
                                                "bin_end": 0.7000000000000001,
                                                "count": 0
                                            },
                                            {
                                                "bin_start": 0.7000000000000001,
                                                "bin_end": 0.8,
                                                "count": 0
                                            },
                                            {
                                                "bin_start": 0.8,
                                                "bin_end": 0.9,
                                                "count": 0
                                            },
                                            {
                                                "bin_start": 0.9,
                                                "bin_end": 1,
                                                "count": 1
                                            }
                                        ]
                                    }
                                },
                                {
                                    "name": "_deepnote_index_column",
                                    "dtype": "int64"
                                }
                            ],
                            "rows": [
                                {
                                    "FlightNumber": 1,
                                    "PayloadMass": 6104.959411764706,
                                    "Flights": 1,
                                    "GridFins": false,
                                    "Reused": false,
                                    "Legs": false,
                                    "Block": 1,
                                    "ReusedCount": 0,
                                    "Orbit_ES-L1": 0,
                                    "Orbit_GEO": 0,
                                    "Orbit_GTO": 0,
                                    "Orbit_HEO": 0,
                                    "Orbit_ISS": 0,
                                    "Orbit_LEO": 1,
                                    "Orbit_MEO": 0,
                                    "Orbit_PO": 0,
                                    "Orbit_SO": 0,
                                    "Orbit_SSO": 0,
                                    "Orbit_VLEO": 0,
                                    "LaunchSite_CCAFS SLC 40": 1,
                                    "LaunchSite_KSC LC 39A": 0,
                                    "LaunchSite_VAFB SLC 4E": 0,
                                    "LandingPad_5e9e3032383ecb267a34e7c7": 0,
                                    "LandingPad_5e9e3032383ecb554034e7c9": 0,
                                    "LandingPad_5e9e3032383ecb6bb234e7ca": 0,
                                    "LandingPad_5e9e3032383ecb761634e7cb": 0,
                                    "LandingPad_5e9e3033383ecbb9e534e7cc": 0,
                                    "Serial_B0003": 1,
                                    "Serial_B0005": 0,
                                    "Serial_B0007": 0,
                                    "Serial_B1003": 0,
                                    "Serial_B1004": 0,
                                    "Serial_B1005": 0,
                                    "Serial_B1006": 0,
                                    "Serial_B1007": 0,
                                    "Serial_B1008": 0,
                                    "Serial_B1010": 0,
                                    "Serial_B1011": 0,
                                    "Serial_B1012": 0,
                                    "Serial_B1013": 0,
                                    "Serial_B1015": 0,
                                    "Serial_B1016": 0,
                                    "Serial_B1017": 0,
                                    "Serial_B1018": 0,
                                    "Serial_B1019": 0,
                                    "Serial_B1020": 0,
                                    "Serial_B1021": 0,
                                    "Serial_B1022": 0,
                                    "Serial_B1023": 0,
                                    "Serial_B1025": 0,
                                    "Serial_B1026": 0,
                                    "Serial_B1028": 0,
                                    "Serial_B1029": 0,
                                    "Serial_B1030": 0,
                                    "Serial_B1031": 0,
                                    "Serial_B1032": 0,
                                    "Serial_B1034": 0,
                                    "Serial_B1035": 0,
                                    "Serial_B1036": 0,
                                    "Serial_B1037": 0,
                                    "Serial_B1038": 0,
                                    "Serial_B1039": 0,
                                    "Serial_B1040": 0,
                                    "Serial_B1041": 0,
                                    "Serial_B1042": 0,
                                    "Serial_B1043": 0,
                                    "Serial_B1044": 0,
                                    "Serial_B1045": 0,
                                    "Serial_B1046": 0,
                                    "Serial_B1047": 0,
                                    "Serial_B1048": 0,
                                    "Serial_B1049": 0,
                                    "Serial_B1050": 0,
                                    "Serial_B1051": 0,
                                    "Serial_B1054": 0,
                                    "Serial_B1056": 0,
                                    "Serial_B1058": 0,
                                    "Serial_B1059": 0,
                                    "Serial_B1060": 0,
                                    "Serial_B1062": 0,
                                    "_deepnote_index_column": 0
                                },
                                {
                                    "FlightNumber": 2,
                                    "PayloadMass": 525,
                                    "Flights": 1,
                                    "GridFins": false,
                                    "Reused": false,
                                    "Legs": false,
                                    "Block": 1,
                                    "ReusedCount": 0,
                                    "Orbit_ES-L1": 0,
                                    "Orbit_GEO": 0,
                                    "Orbit_GTO": 0,
                                    "Orbit_HEO": 0,
                                    "Orbit_ISS": 0,
                                    "Orbit_LEO": 1,
                                    "Orbit_MEO": 0,
                                    "Orbit_PO": 0,
                                    "Orbit_SO": 0,
                                    "Orbit_SSO": 0,
                                    "Orbit_VLEO": 0,
                                    "LaunchSite_CCAFS SLC 40": 1,
                                    "LaunchSite_KSC LC 39A": 0,
                                    "LaunchSite_VAFB SLC 4E": 0,
                                    "LandingPad_5e9e3032383ecb267a34e7c7": 0,
                                    "LandingPad_5e9e3032383ecb554034e7c9": 0,
                                    "LandingPad_5e9e3032383ecb6bb234e7ca": 0,
                                    "LandingPad_5e9e3032383ecb761634e7cb": 0,
                                    "LandingPad_5e9e3033383ecbb9e534e7cc": 0,
                                    "Serial_B0003": 0,
                                    "Serial_B0005": 1,
                                    "Serial_B0007": 0,
                                    "Serial_B1003": 0,
                                    "Serial_B1004": 0,
                                    "Serial_B1005": 0,
                                    "Serial_B1006": 0,
                                    "Serial_B1007": 0,
                                    "Serial_B1008": 0,
                                    "Serial_B1010": 0,
                                    "Serial_B1011": 0,
                                    "Serial_B1012": 0,
                                    "Serial_B1013": 0,
                                    "Serial_B1015": 0,
                                    "Serial_B1016": 0,
                                    "Serial_B1017": 0,
                                    "Serial_B1018": 0,
                                    "Serial_B1019": 0,
                                    "Serial_B1020": 0,
                                    "Serial_B1021": 0,
                                    "Serial_B1022": 0,
                                    "Serial_B1023": 0,
                                    "Serial_B1025": 0,
                                    "Serial_B1026": 0,
                                    "Serial_B1028": 0,
                                    "Serial_B1029": 0,
                                    "Serial_B1030": 0,
                                    "Serial_B1031": 0,
                                    "Serial_B1032": 0,
                                    "Serial_B1034": 0,
                                    "Serial_B1035": 0,
                                    "Serial_B1036": 0,
                                    "Serial_B1037": 0,
                                    "Serial_B1038": 0,
                                    "Serial_B1039": 0,
                                    "Serial_B1040": 0,
                                    "Serial_B1041": 0,
                                    "Serial_B1042": 0,
                                    "Serial_B1043": 0,
                                    "Serial_B1044": 0,
                                    "Serial_B1045": 0,
                                    "Serial_B1046": 0,
                                    "Serial_B1047": 0,
                                    "Serial_B1048": 0,
                                    "Serial_B1049": 0,
                                    "Serial_B1050": 0,
                                    "Serial_B1051": 0,
                                    "Serial_B1054": 0,
                                    "Serial_B1056": 0,
                                    "Serial_B1058": 0,
                                    "Serial_B1059": 0,
                                    "Serial_B1060": 0,
                                    "Serial_B1062": 0,
                                    "_deepnote_index_column": 1
                                },
                                {
                                    "FlightNumber": 3,
                                    "PayloadMass": 677,
                                    "Flights": 1,
                                    "GridFins": false,
                                    "Reused": false,
                                    "Legs": false,
                                    "Block": 1,
                                    "ReusedCount": 0,
                                    "Orbit_ES-L1": 0,
                                    "Orbit_GEO": 0,
                                    "Orbit_GTO": 0,
                                    "Orbit_HEO": 0,
                                    "Orbit_ISS": 1,
                                    "Orbit_LEO": 0,
                                    "Orbit_MEO": 0,
                                    "Orbit_PO": 0,
                                    "Orbit_SO": 0,
                                    "Orbit_SSO": 0,
                                    "Orbit_VLEO": 0,
                                    "LaunchSite_CCAFS SLC 40": 1,
                                    "LaunchSite_KSC LC 39A": 0,
                                    "LaunchSite_VAFB SLC 4E": 0,
                                    "LandingPad_5e9e3032383ecb267a34e7c7": 0,
                                    "LandingPad_5e9e3032383ecb554034e7c9": 0,
                                    "LandingPad_5e9e3032383ecb6bb234e7ca": 0,
                                    "LandingPad_5e9e3032383ecb761634e7cb": 0,
                                    "LandingPad_5e9e3033383ecbb9e534e7cc": 0,
                                    "Serial_B0003": 0,
                                    "Serial_B0005": 0,
                                    "Serial_B0007": 1,
                                    "Serial_B1003": 0,
                                    "Serial_B1004": 0,
                                    "Serial_B1005": 0,
                                    "Serial_B1006": 0,
                                    "Serial_B1007": 0,
                                    "Serial_B1008": 0,
                                    "Serial_B1010": 0,
                                    "Serial_B1011": 0,
                                    "Serial_B1012": 0,
                                    "Serial_B1013": 0,
                                    "Serial_B1015": 0,
                                    "Serial_B1016": 0,
                                    "Serial_B1017": 0,
                                    "Serial_B1018": 0,
                                    "Serial_B1019": 0,
                                    "Serial_B1020": 0,
                                    "Serial_B1021": 0,
                                    "Serial_B1022": 0,
                                    "Serial_B1023": 0,
                                    "Serial_B1025": 0,
                                    "Serial_B1026": 0,
                                    "Serial_B1028": 0,
                                    "Serial_B1029": 0,
                                    "Serial_B1030": 0,
                                    "Serial_B1031": 0,
                                    "Serial_B1032": 0,
                                    "Serial_B1034": 0,
                                    "Serial_B1035": 0,
                                    "Serial_B1036": 0,
                                    "Serial_B1037": 0,
                                    "Serial_B1038": 0,
                                    "Serial_B1039": 0,
                                    "Serial_B1040": 0,
                                    "Serial_B1041": 0,
                                    "Serial_B1042": 0,
                                    "Serial_B1043": 0,
                                    "Serial_B1044": 0,
                                    "Serial_B1045": 0,
                                    "Serial_B1046": 0,
                                    "Serial_B1047": 0,
                                    "Serial_B1048": 0,
                                    "Serial_B1049": 0,
                                    "Serial_B1050": 0,
                                    "Serial_B1051": 0,
                                    "Serial_B1054": 0,
                                    "Serial_B1056": 0,
                                    "Serial_B1058": 0,
                                    "Serial_B1059": 0,
                                    "Serial_B1060": 0,
                                    "Serial_B1062": 0,
                                    "_deepnote_index_column": 2
                                },
                                {
                                    "FlightNumber": 4,
                                    "PayloadMass": 500,
                                    "Flights": 1,
                                    "GridFins": false,
                                    "Reused": false,
                                    "Legs": false,
                                    "Block": 1,
                                    "ReusedCount": 0,
                                    "Orbit_ES-L1": 0,
                                    "Orbit_GEO": 0,
                                    "Orbit_GTO": 0,
                                    "Orbit_HEO": 0,
                                    "Orbit_ISS": 0,
                                    "Orbit_LEO": 0,
                                    "Orbit_MEO": 0,
                                    "Orbit_PO": 1,
                                    "Orbit_SO": 0,
                                    "Orbit_SSO": 0,
                                    "Orbit_VLEO": 0,
                                    "LaunchSite_CCAFS SLC 40": 0,
                                    "LaunchSite_KSC LC 39A": 0,
                                    "LaunchSite_VAFB SLC 4E": 1,
                                    "LandingPad_5e9e3032383ecb267a34e7c7": 0,
                                    "LandingPad_5e9e3032383ecb554034e7c9": 0,
                                    "LandingPad_5e9e3032383ecb6bb234e7ca": 0,
                                    "LandingPad_5e9e3032383ecb761634e7cb": 0,
                                    "LandingPad_5e9e3033383ecbb9e534e7cc": 0,
                                    "Serial_B0003": 0,
                                    "Serial_B0005": 0,
                                    "Serial_B0007": 0,
                                    "Serial_B1003": 1,
                                    "Serial_B1004": 0,
                                    "Serial_B1005": 0,
                                    "Serial_B1006": 0,
                                    "Serial_B1007": 0,
                                    "Serial_B1008": 0,
                                    "Serial_B1010": 0,
                                    "Serial_B1011": 0,
                                    "Serial_B1012": 0,
                                    "Serial_B1013": 0,
                                    "Serial_B1015": 0,
                                    "Serial_B1016": 0,
                                    "Serial_B1017": 0,
                                    "Serial_B1018": 0,
                                    "Serial_B1019": 0,
                                    "Serial_B1020": 0,
                                    "Serial_B1021": 0,
                                    "Serial_B1022": 0,
                                    "Serial_B1023": 0,
                                    "Serial_B1025": 0,
                                    "Serial_B1026": 0,
                                    "Serial_B1028": 0,
                                    "Serial_B1029": 0,
                                    "Serial_B1030": 0,
                                    "Serial_B1031": 0,
                                    "Serial_B1032": 0,
                                    "Serial_B1034": 0,
                                    "Serial_B1035": 0,
                                    "Serial_B1036": 0,
                                    "Serial_B1037": 0,
                                    "Serial_B1038": 0,
                                    "Serial_B1039": 0,
                                    "Serial_B1040": 0,
                                    "Serial_B1041": 0,
                                    "Serial_B1042": 0,
                                    "Serial_B1043": 0,
                                    "Serial_B1044": 0,
                                    "Serial_B1045": 0,
                                    "Serial_B1046": 0,
                                    "Serial_B1047": 0,
                                    "Serial_B1048": 0,
                                    "Serial_B1049": 0,
                                    "Serial_B1050": 0,
                                    "Serial_B1051": 0,
                                    "Serial_B1054": 0,
                                    "Serial_B1056": 0,
                                    "Serial_B1058": 0,
                                    "Serial_B1059": 0,
                                    "Serial_B1060": 0,
                                    "Serial_B1062": 0,
                                    "_deepnote_index_column": 3
                                },
                                {
                                    "FlightNumber": 5,
                                    "PayloadMass": 3170,
                                    "Flights": 1,
                                    "GridFins": false,
                                    "Reused": false,
                                    "Legs": false,
                                    "Block": 1,
                                    "ReusedCount": 0,
                                    "Orbit_ES-L1": 0,
                                    "Orbit_GEO": 0,
                                    "Orbit_GTO": 1,
                                    "Orbit_HEO": 0,
                                    "Orbit_ISS": 0,
                                    "Orbit_LEO": 0,
                                    "Orbit_MEO": 0,
                                    "Orbit_PO": 0,
                                    "Orbit_SO": 0,
                                    "Orbit_SSO": 0,
                                    "Orbit_VLEO": 0,
                                    "LaunchSite_CCAFS SLC 40": 1,
                                    "LaunchSite_KSC LC 39A": 0,
                                    "LaunchSite_VAFB SLC 4E": 0,
                                    "LandingPad_5e9e3032383ecb267a34e7c7": 0,
                                    "LandingPad_5e9e3032383ecb554034e7c9": 0,
                                    "LandingPad_5e9e3032383ecb6bb234e7ca": 0,
                                    "LandingPad_5e9e3032383ecb761634e7cb": 0,
                                    "LandingPad_5e9e3033383ecbb9e534e7cc": 0,
                                    "Serial_B0003": 0,
                                    "Serial_B0005": 0,
                                    "Serial_B0007": 0,
                                    "Serial_B1003": 0,
                                    "Serial_B1004": 1,
                                    "Serial_B1005": 0,
                                    "Serial_B1006": 0,
                                    "Serial_B1007": 0,
                                    "Serial_B1008": 0,
                                    "Serial_B1010": 0,
                                    "Serial_B1011": 0,
                                    "Serial_B1012": 0,
                                    "Serial_B1013": 0,
                                    "Serial_B1015": 0,
                                    "Serial_B1016": 0,
                                    "Serial_B1017": 0,
                                    "Serial_B1018": 0,
                                    "Serial_B1019": 0,
                                    "Serial_B1020": 0,
                                    "Serial_B1021": 0,
                                    "Serial_B1022": 0,
                                    "Serial_B1023": 0,
                                    "Serial_B1025": 0,
                                    "Serial_B1026": 0,
                                    "Serial_B1028": 0,
                                    "Serial_B1029": 0,
                                    "Serial_B1030": 0,
                                    "Serial_B1031": 0,
                                    "Serial_B1032": 0,
                                    "Serial_B1034": 0,
                                    "Serial_B1035": 0,
                                    "Serial_B1036": 0,
                                    "Serial_B1037": 0,
                                    "Serial_B1038": 0,
                                    "Serial_B1039": 0,
                                    "Serial_B1040": 0,
                                    "Serial_B1041": 0,
                                    "Serial_B1042": 0,
                                    "Serial_B1043": 0,
                                    "Serial_B1044": 0,
                                    "Serial_B1045": 0,
                                    "Serial_B1046": 0,
                                    "Serial_B1047": 0,
                                    "Serial_B1048": 0,
                                    "Serial_B1049": 0,
                                    "Serial_B1050": 0,
                                    "Serial_B1051": 0,
                                    "Serial_B1054": 0,
                                    "Serial_B1056": 0,
                                    "Serial_B1058": 0,
                                    "Serial_B1059": 0,
                                    "Serial_B1060": 0,
                                    "Serial_B1062": 0,
                                    "_deepnote_index_column": 4
                                },
                                {
                                    "FlightNumber": 6,
                                    "PayloadMass": 3325,
                                    "Flights": 1,
                                    "GridFins": false,
                                    "Reused": false,
                                    "Legs": false,
                                    "Block": 1,
                                    "ReusedCount": 0,
                                    "Orbit_ES-L1": 0,
                                    "Orbit_GEO": 0,
                                    "Orbit_GTO": 1,
                                    "Orbit_HEO": 0,
                                    "Orbit_ISS": 0,
                                    "Orbit_LEO": 0,
                                    "Orbit_MEO": 0,
                                    "Orbit_PO": 0,
                                    "Orbit_SO": 0,
                                    "Orbit_SSO": 0,
                                    "Orbit_VLEO": 0,
                                    "LaunchSite_CCAFS SLC 40": 1,
                                    "LaunchSite_KSC LC 39A": 0,
                                    "LaunchSite_VAFB SLC 4E": 0,
                                    "LandingPad_5e9e3032383ecb267a34e7c7": 0,
                                    "LandingPad_5e9e3032383ecb554034e7c9": 0,
                                    "LandingPad_5e9e3032383ecb6bb234e7ca": 0,
                                    "LandingPad_5e9e3032383ecb761634e7cb": 0,
                                    "LandingPad_5e9e3033383ecbb9e534e7cc": 0,
                                    "Serial_B0003": 0,
                                    "Serial_B0005": 0,
                                    "Serial_B0007": 0,
                                    "Serial_B1003": 0,
                                    "Serial_B1004": 0,
                                    "Serial_B1005": 1,
                                    "Serial_B1006": 0,
                                    "Serial_B1007": 0,
                                    "Serial_B1008": 0,
                                    "Serial_B1010": 0,
                                    "Serial_B1011": 0,
                                    "Serial_B1012": 0,
                                    "Serial_B1013": 0,
                                    "Serial_B1015": 0,
                                    "Serial_B1016": 0,
                                    "Serial_B1017": 0,
                                    "Serial_B1018": 0,
                                    "Serial_B1019": 0,
                                    "Serial_B1020": 0,
                                    "Serial_B1021": 0,
                                    "Serial_B1022": 0,
                                    "Serial_B1023": 0,
                                    "Serial_B1025": 0,
                                    "Serial_B1026": 0,
                                    "Serial_B1028": 0,
                                    "Serial_B1029": 0,
                                    "Serial_B1030": 0,
                                    "Serial_B1031": 0,
                                    "Serial_B1032": 0,
                                    "Serial_B1034": 0,
                                    "Serial_B1035": 0,
                                    "Serial_B1036": 0,
                                    "Serial_B1037": 0,
                                    "Serial_B1038": 0,
                                    "Serial_B1039": 0,
                                    "Serial_B1040": 0,
                                    "Serial_B1041": 0,
                                    "Serial_B1042": 0,
                                    "Serial_B1043": 0,
                                    "Serial_B1044": 0,
                                    "Serial_B1045": 0,
                                    "Serial_B1046": 0,
                                    "Serial_B1047": 0,
                                    "Serial_B1048": 0,
                                    "Serial_B1049": 0,
                                    "Serial_B1050": 0,
                                    "Serial_B1051": 0,
                                    "Serial_B1054": 0,
                                    "Serial_B1056": 0,
                                    "Serial_B1058": 0,
                                    "Serial_B1059": 0,
                                    "Serial_B1060": 0,
                                    "Serial_B1062": 0,
                                    "_deepnote_index_column": 5
                                },
                                {
                                    "FlightNumber": 7,
                                    "PayloadMass": 2296,
                                    "Flights": 1,
                                    "GridFins": false,
                                    "Reused": false,
                                    "Legs": true,
                                    "Block": 1,
                                    "ReusedCount": 0,
                                    "Orbit_ES-L1": 0,
                                    "Orbit_GEO": 0,
                                    "Orbit_GTO": 0,
                                    "Orbit_HEO": 0,
                                    "Orbit_ISS": 1,
                                    "Orbit_LEO": 0,
                                    "Orbit_MEO": 0,
                                    "Orbit_PO": 0,
                                    "Orbit_SO": 0,
                                    "Orbit_SSO": 0,
                                    "Orbit_VLEO": 0,
                                    "LaunchSite_CCAFS SLC 40": 1,
                                    "LaunchSite_KSC LC 39A": 0,
                                    "LaunchSite_VAFB SLC 4E": 0,
                                    "LandingPad_5e9e3032383ecb267a34e7c7": 0,
                                    "LandingPad_5e9e3032383ecb554034e7c9": 0,
                                    "LandingPad_5e9e3032383ecb6bb234e7ca": 0,
                                    "LandingPad_5e9e3032383ecb761634e7cb": 0,
                                    "LandingPad_5e9e3033383ecbb9e534e7cc": 0,
                                    "Serial_B0003": 0,
                                    "Serial_B0005": 0,
                                    "Serial_B0007": 0,
                                    "Serial_B1003": 0,
                                    "Serial_B1004": 0,
                                    "Serial_B1005": 0,
                                    "Serial_B1006": 1,
                                    "Serial_B1007": 0,
                                    "Serial_B1008": 0,
                                    "Serial_B1010": 0,
                                    "Serial_B1011": 0,
                                    "Serial_B1012": 0,
                                    "Serial_B1013": 0,
                                    "Serial_B1015": 0,
                                    "Serial_B1016": 0,
                                    "Serial_B1017": 0,
                                    "Serial_B1018": 0,
                                    "Serial_B1019": 0,
                                    "Serial_B1020": 0,
                                    "Serial_B1021": 0,
                                    "Serial_B1022": 0,
                                    "Serial_B1023": 0,
                                    "Serial_B1025": 0,
                                    "Serial_B1026": 0,
                                    "Serial_B1028": 0,
                                    "Serial_B1029": 0,
                                    "Serial_B1030": 0,
                                    "Serial_B1031": 0,
                                    "Serial_B1032": 0,
                                    "Serial_B1034": 0,
                                    "Serial_B1035": 0,
                                    "Serial_B1036": 0,
                                    "Serial_B1037": 0,
                                    "Serial_B1038": 0,
                                    "Serial_B1039": 0,
                                    "Serial_B1040": 0,
                                    "Serial_B1041": 0,
                                    "Serial_B1042": 0,
                                    "Serial_B1043": 0,
                                    "Serial_B1044": 0,
                                    "Serial_B1045": 0,
                                    "Serial_B1046": 0,
                                    "Serial_B1047": 0,
                                    "Serial_B1048": 0,
                                    "Serial_B1049": 0,
                                    "Serial_B1050": 0,
                                    "Serial_B1051": 0,
                                    "Serial_B1054": 0,
                                    "Serial_B1056": 0,
                                    "Serial_B1058": 0,
                                    "Serial_B1059": 0,
                                    "Serial_B1060": 0,
                                    "Serial_B1062": 0,
                                    "_deepnote_index_column": 6
                                },
                                {
                                    "FlightNumber": 8,
                                    "PayloadMass": 1316,
                                    "Flights": 1,
                                    "GridFins": false,
                                    "Reused": false,
                                    "Legs": true,
                                    "Block": 1,
                                    "ReusedCount": 0,
                                    "Orbit_ES-L1": 0,
                                    "Orbit_GEO": 0,
                                    "Orbit_GTO": 0,
                                    "Orbit_HEO": 0,
                                    "Orbit_ISS": 0,
                                    "Orbit_LEO": 1,
                                    "Orbit_MEO": 0,
                                    "Orbit_PO": 0,
                                    "Orbit_SO": 0,
                                    "Orbit_SSO": 0,
                                    "Orbit_VLEO": 0,
                                    "LaunchSite_CCAFS SLC 40": 1,
                                    "LaunchSite_KSC LC 39A": 0,
                                    "LaunchSite_VAFB SLC 4E": 0,
                                    "LandingPad_5e9e3032383ecb267a34e7c7": 0,
                                    "LandingPad_5e9e3032383ecb554034e7c9": 0,
                                    "LandingPad_5e9e3032383ecb6bb234e7ca": 0,
                                    "LandingPad_5e9e3032383ecb761634e7cb": 0,
                                    "LandingPad_5e9e3033383ecbb9e534e7cc": 0,
                                    "Serial_B0003": 0,
                                    "Serial_B0005": 0,
                                    "Serial_B0007": 0,
                                    "Serial_B1003": 0,
                                    "Serial_B1004": 0,
                                    "Serial_B1005": 0,
                                    "Serial_B1006": 0,
                                    "Serial_B1007": 1,
                                    "Serial_B1008": 0,
                                    "Serial_B1010": 0,
                                    "Serial_B1011": 0,
                                    "Serial_B1012": 0,
                                    "Serial_B1013": 0,
                                    "Serial_B1015": 0,
                                    "Serial_B1016": 0,
                                    "Serial_B1017": 0,
                                    "Serial_B1018": 0,
                                    "Serial_B1019": 0,
                                    "Serial_B1020": 0,
                                    "Serial_B1021": 0,
                                    "Serial_B1022": 0,
                                    "Serial_B1023": 0,
                                    "Serial_B1025": 0,
                                    "Serial_B1026": 0,
                                    "Serial_B1028": 0,
                                    "Serial_B1029": 0,
                                    "Serial_B1030": 0,
                                    "Serial_B1031": 0,
                                    "Serial_B1032": 0,
                                    "Serial_B1034": 0,
                                    "Serial_B1035": 0,
                                    "Serial_B1036": 0,
                                    "Serial_B1037": 0,
                                    "Serial_B1038": 0,
                                    "Serial_B1039": 0,
                                    "Serial_B1040": 0,
                                    "Serial_B1041": 0,
                                    "Serial_B1042": 0,
                                    "Serial_B1043": 0,
                                    "Serial_B1044": 0,
                                    "Serial_B1045": 0,
                                    "Serial_B1046": 0,
                                    "Serial_B1047": 0,
                                    "Serial_B1048": 0,
                                    "Serial_B1049": 0,
                                    "Serial_B1050": 0,
                                    "Serial_B1051": 0,
                                    "Serial_B1054": 0,
                                    "Serial_B1056": 0,
                                    "Serial_B1058": 0,
                                    "Serial_B1059": 0,
                                    "Serial_B1060": 0,
                                    "Serial_B1062": 0,
                                    "_deepnote_index_column": 7
                                },
                                {
                                    "FlightNumber": 9,
                                    "PayloadMass": 4535,
                                    "Flights": 1,
                                    "GridFins": false,
                                    "Reused": false,
                                    "Legs": false,
                                    "Block": 1,
                                    "ReusedCount": 0,
                                    "Orbit_ES-L1": 0,
                                    "Orbit_GEO": 0,
                                    "Orbit_GTO": 1,
                                    "Orbit_HEO": 0,
                                    "Orbit_ISS": 0,
                                    "Orbit_LEO": 0,
                                    "Orbit_MEO": 0,
                                    "Orbit_PO": 0,
                                    "Orbit_SO": 0,
                                    "Orbit_SSO": 0,
                                    "Orbit_VLEO": 0,
                                    "LaunchSite_CCAFS SLC 40": 1,
                                    "LaunchSite_KSC LC 39A": 0,
                                    "LaunchSite_VAFB SLC 4E": 0,
                                    "LandingPad_5e9e3032383ecb267a34e7c7": 0,
                                    "LandingPad_5e9e3032383ecb554034e7c9": 0,
                                    "LandingPad_5e9e3032383ecb6bb234e7ca": 0,
                                    "LandingPad_5e9e3032383ecb761634e7cb": 0,
                                    "LandingPad_5e9e3033383ecbb9e534e7cc": 0,
                                    "Serial_B0003": 0,
                                    "Serial_B0005": 0,
                                    "Serial_B0007": 0,
                                    "Serial_B1003": 0,
                                    "Serial_B1004": 0,
                                    "Serial_B1005": 0,
                                    "Serial_B1006": 0,
                                    "Serial_B1007": 0,
                                    "Serial_B1008": 1,
                                    "Serial_B1010": 0,
                                    "Serial_B1011": 0,
                                    "Serial_B1012": 0,
                                    "Serial_B1013": 0,
                                    "Serial_B1015": 0,
                                    "Serial_B1016": 0,
                                    "Serial_B1017": 0,
                                    "Serial_B1018": 0,
                                    "Serial_B1019": 0,
                                    "Serial_B1020": 0,
                                    "Serial_B1021": 0,
                                    "Serial_B1022": 0,
                                    "Serial_B1023": 0,
                                    "Serial_B1025": 0,
                                    "Serial_B1026": 0,
                                    "Serial_B1028": 0,
                                    "Serial_B1029": 0,
                                    "Serial_B1030": 0,
                                    "Serial_B1031": 0,
                                    "Serial_B1032": 0,
                                    "Serial_B1034": 0,
                                    "Serial_B1035": 0,
                                    "Serial_B1036": 0,
                                    "Serial_B1037": 0,
                                    "Serial_B1038": 0,
                                    "Serial_B1039": 0,
                                    "Serial_B1040": 0,
                                    "Serial_B1041": 0,
                                    "Serial_B1042": 0,
                                    "Serial_B1043": 0,
                                    "Serial_B1044": 0,
                                    "Serial_B1045": 0,
                                    "Serial_B1046": 0,
                                    "Serial_B1047": 0,
                                    "Serial_B1048": 0,
                                    "Serial_B1049": 0,
                                    "Serial_B1050": 0,
                                    "Serial_B1051": 0,
                                    "Serial_B1054": 0,
                                    "Serial_B1056": 0,
                                    "Serial_B1058": 0,
                                    "Serial_B1059": 0,
                                    "Serial_B1060": 0,
                                    "Serial_B1062": 0,
                                    "_deepnote_index_column": 8
                                },
                                {
                                    "FlightNumber": 10,
                                    "PayloadMass": 4428,
                                    "Flights": 1,
                                    "GridFins": false,
                                    "Reused": false,
                                    "Legs": false,
                                    "Block": 1,
                                    "ReusedCount": 0,
                                    "Orbit_ES-L1": 0,
                                    "Orbit_GEO": 0,
                                    "Orbit_GTO": 1,
                                    "Orbit_HEO": 0,
                                    "Orbit_ISS": 0,
                                    "Orbit_LEO": 0,
                                    "Orbit_MEO": 0,
                                    "Orbit_PO": 0,
                                    "Orbit_SO": 0,
                                    "Orbit_SSO": 0,
                                    "Orbit_VLEO": 0,
                                    "LaunchSite_CCAFS SLC 40": 1,
                                    "LaunchSite_KSC LC 39A": 0,
                                    "LaunchSite_VAFB SLC 4E": 0,
                                    "LandingPad_5e9e3032383ecb267a34e7c7": 0,
                                    "LandingPad_5e9e3032383ecb554034e7c9": 0,
                                    "LandingPad_5e9e3032383ecb6bb234e7ca": 0,
                                    "LandingPad_5e9e3032383ecb761634e7cb": 0,
                                    "LandingPad_5e9e3033383ecbb9e534e7cc": 0,
                                    "Serial_B0003": 0,
                                    "Serial_B0005": 0,
                                    "Serial_B0007": 0,
                                    "Serial_B1003": 0,
                                    "Serial_B1004": 0,
                                    "Serial_B1005": 0,
                                    "Serial_B1006": 0,
                                    "Serial_B1007": 0,
                                    "Serial_B1008": 0,
                                    "Serial_B1010": 0,
                                    "Serial_B1011": 1,
                                    "Serial_B1012": 0,
                                    "Serial_B1013": 0,
                                    "Serial_B1015": 0,
                                    "Serial_B1016": 0,
                                    "Serial_B1017": 0,
                                    "Serial_B1018": 0,
                                    "Serial_B1019": 0,
                                    "Serial_B1020": 0,
                                    "Serial_B1021": 0,
                                    "Serial_B1022": 0,
                                    "Serial_B1023": 0,
                                    "Serial_B1025": 0,
                                    "Serial_B1026": 0,
                                    "Serial_B1028": 0,
                                    "Serial_B1029": 0,
                                    "Serial_B1030": 0,
                                    "Serial_B1031": 0,
                                    "Serial_B1032": 0,
                                    "Serial_B1034": 0,
                                    "Serial_B1035": 0,
                                    "Serial_B1036": 0,
                                    "Serial_B1037": 0,
                                    "Serial_B1038": 0,
                                    "Serial_B1039": 0,
                                    "Serial_B1040": 0,
                                    "Serial_B1041": 0,
                                    "Serial_B1042": 0,
                                    "Serial_B1043": 0,
                                    "Serial_B1044": 0,
                                    "Serial_B1045": 0,
                                    "Serial_B1046": 0,
                                    "Serial_B1047": 0,
                                    "Serial_B1048": 0,
                                    "Serial_B1049": 0,
                                    "Serial_B1050": 0,
                                    "Serial_B1051": 0,
                                    "Serial_B1054": 0,
                                    "Serial_B1056": 0,
                                    "Serial_B1058": 0,
                                    "Serial_B1059": 0,
                                    "Serial_B1060": 0,
                                    "Serial_B1062": 0,
                                    "_deepnote_index_column": 9
                                }
                            ]
                        },
                        "text/plain": "    FlightNumber   PayloadMass  Flights  GridFins  Reused   Legs  Block  \\\n0              1   6104.959412        1     False   False  False    1.0   \n1              2    525.000000        1     False   False  False    1.0   \n2              3    677.000000        1     False   False  False    1.0   \n3              4    500.000000        1     False   False  False    1.0   \n4              5   3170.000000        1     False   False  False    1.0   \n..           ...           ...      ...       ...     ...    ...    ...   \n85            86  15400.000000        2      True    True   True    5.0   \n86            87  15400.000000        3      True    True   True    5.0   \n87            88  15400.000000        6      True    True   True    5.0   \n88            89  15400.000000        3      True    True   True    5.0   \n89            90   3681.000000        1      True   False   True    5.0   \n\n    ReusedCount  Orbit_ES-L1  Orbit_GEO  ...  Serial_B1048  Serial_B1049  \\\n0             0            0          0  ...             0             0   \n1             0            0          0  ...             0             0   \n2             0            0          0  ...             0             0   \n3             0            0          0  ...             0             0   \n4             0            0          0  ...             0             0   \n..          ...          ...        ...  ...           ...           ...   \n85            2            0          0  ...             0             0   \n86            2            0          0  ...             0             0   \n87            5            0          0  ...             0             0   \n88            2            0          0  ...             0             0   \n89            0            0          0  ...             0             0   \n\n    Serial_B1050  Serial_B1051  Serial_B1054  Serial_B1056  Serial_B1058  \\\n0              0             0             0             0             0   \n1              0             0             0             0             0   \n2              0             0             0             0             0   \n3              0             0             0             0             0   \n4              0             0             0             0             0   \n..           ...           ...           ...           ...           ...   \n85             0             0             0             0             0   \n86             0             0             0             0             1   \n87             0             1             0             0             0   \n88             0             0             0             0             0   \n89             0             0             0             0             0   \n\n    Serial_B1059  Serial_B1060  Serial_B1062  \n0              0             0             0  \n1              0             0             0  \n2              0             0             0  \n3              0             0             0  \n4              0             0             0  \n..           ...           ...           ...  \n85             0             1             0  \n86             0             0             0  \n87             0             0             0  \n88             0             1             0  \n89             0             0             1  \n\n[90 rows x 80 columns]",
                        "text/html": "<div>\n<style scoped>\n    .dataframe tbody tr th:only-of-type {\n        vertical-align: middle;\n    }\n\n    .dataframe tbody tr th {\n        vertical-align: top;\n    }\n\n    .dataframe thead th {\n        text-align: right;\n    }\n</style>\n<table border=\"1\" class=\"dataframe\">\n  <thead>\n    <tr style=\"text-align: right;\">\n      <th></th>\n      <th>FlightNumber</th>\n      <th>PayloadMass</th>\n      <th>Flights</th>\n      <th>GridFins</th>\n      <th>Reused</th>\n      <th>Legs</th>\n      <th>Block</th>\n      <th>ReusedCount</th>\n      <th>Orbit_ES-L1</th>\n      <th>Orbit_GEO</th>\n      <th>...</th>\n      <th>Serial_B1048</th>\n      <th>Serial_B1049</th>\n      <th>Serial_B1050</th>\n      <th>Serial_B1051</th>\n      <th>Serial_B1054</th>\n      <th>Serial_B1056</th>\n      <th>Serial_B1058</th>\n      <th>Serial_B1059</th>\n      <th>Serial_B1060</th>\n      <th>Serial_B1062</th>\n    </tr>\n  </thead>\n  <tbody>\n    <tr>\n      <th>0</th>\n      <td>1</td>\n      <td>6104.959412</td>\n      <td>1</td>\n      <td>False</td>\n      <td>False</td>\n      <td>False</td>\n      <td>1.0</td>\n      <td>0</td>\n      <td>0</td>\n      <td>0</td>\n      <td>...</td>\n      <td>0</td>\n      <td>0</td>\n      <td>0</td>\n      <td>0</td>\n      <td>0</td>\n      <td>0</td>\n      <td>0</td>\n      <td>0</td>\n      <td>0</td>\n      <td>0</td>\n    </tr>\n    <tr>\n      <th>1</th>\n      <td>2</td>\n      <td>525.000000</td>\n      <td>1</td>\n      <td>False</td>\n      <td>False</td>\n      <td>False</td>\n      <td>1.0</td>\n      <td>0</td>\n      <td>0</td>\n      <td>0</td>\n      <td>...</td>\n      <td>0</td>\n      <td>0</td>\n      <td>0</td>\n      <td>0</td>\n      <td>0</td>\n      <td>0</td>\n      <td>0</td>\n      <td>0</td>\n      <td>0</td>\n      <td>0</td>\n    </tr>\n    <tr>\n      <th>2</th>\n      <td>3</td>\n      <td>677.000000</td>\n      <td>1</td>\n      <td>False</td>\n      <td>False</td>\n      <td>False</td>\n      <td>1.0</td>\n      <td>0</td>\n      <td>0</td>\n      <td>0</td>\n      <td>...</td>\n      <td>0</td>\n      <td>0</td>\n      <td>0</td>\n      <td>0</td>\n      <td>0</td>\n      <td>0</td>\n      <td>0</td>\n      <td>0</td>\n      <td>0</td>\n      <td>0</td>\n    </tr>\n    <tr>\n      <th>3</th>\n      <td>4</td>\n      <td>500.000000</td>\n      <td>1</td>\n      <td>False</td>\n      <td>False</td>\n      <td>False</td>\n      <td>1.0</td>\n      <td>0</td>\n      <td>0</td>\n      <td>0</td>\n      <td>...</td>\n      <td>0</td>\n      <td>0</td>\n      <td>0</td>\n      <td>0</td>\n      <td>0</td>\n      <td>0</td>\n      <td>0</td>\n      <td>0</td>\n      <td>0</td>\n      <td>0</td>\n    </tr>\n    <tr>\n      <th>4</th>\n      <td>5</td>\n      <td>3170.000000</td>\n      <td>1</td>\n      <td>False</td>\n      <td>False</td>\n      <td>False</td>\n      <td>1.0</td>\n      <td>0</td>\n      <td>0</td>\n      <td>0</td>\n      <td>...</td>\n      <td>0</td>\n      <td>0</td>\n      <td>0</td>\n      <td>0</td>\n      <td>0</td>\n      <td>0</td>\n      <td>0</td>\n      <td>0</td>\n      <td>0</td>\n      <td>0</td>\n    </tr>\n    <tr>\n      <th>...</th>\n      <td>...</td>\n      <td>...</td>\n      <td>...</td>\n      <td>...</td>\n      <td>...</td>\n      <td>...</td>\n      <td>...</td>\n      <td>...</td>\n      <td>...</td>\n      <td>...</td>\n      <td>...</td>\n      <td>...</td>\n      <td>...</td>\n      <td>...</td>\n      <td>...</td>\n      <td>...</td>\n      <td>...</td>\n      <td>...</td>\n      <td>...</td>\n      <td>...</td>\n      <td>...</td>\n    </tr>\n    <tr>\n      <th>85</th>\n      <td>86</td>\n      <td>15400.000000</td>\n      <td>2</td>\n      <td>True</td>\n      <td>True</td>\n      <td>True</td>\n      <td>5.0</td>\n      <td>2</td>\n      <td>0</td>\n      <td>0</td>\n      <td>...</td>\n      <td>0</td>\n      <td>0</td>\n      <td>0</td>\n      <td>0</td>\n      <td>0</td>\n      <td>0</td>\n      <td>0</td>\n      <td>0</td>\n      <td>1</td>\n      <td>0</td>\n    </tr>\n    <tr>\n      <th>86</th>\n      <td>87</td>\n      <td>15400.000000</td>\n      <td>3</td>\n      <td>True</td>\n      <td>True</td>\n      <td>True</td>\n      <td>5.0</td>\n      <td>2</td>\n      <td>0</td>\n      <td>0</td>\n      <td>...</td>\n      <td>0</td>\n      <td>0</td>\n      <td>0</td>\n      <td>0</td>\n      <td>0</td>\n      <td>0</td>\n      <td>1</td>\n      <td>0</td>\n      <td>0</td>\n      <td>0</td>\n    </tr>\n    <tr>\n      <th>87</th>\n      <td>88</td>\n      <td>15400.000000</td>\n      <td>6</td>\n      <td>True</td>\n      <td>True</td>\n      <td>True</td>\n      <td>5.0</td>\n      <td>5</td>\n      <td>0</td>\n      <td>0</td>\n      <td>...</td>\n      <td>0</td>\n      <td>0</td>\n      <td>0</td>\n      <td>1</td>\n      <td>0</td>\n      <td>0</td>\n      <td>0</td>\n      <td>0</td>\n      <td>0</td>\n      <td>0</td>\n    </tr>\n    <tr>\n      <th>88</th>\n      <td>89</td>\n      <td>15400.000000</td>\n      <td>3</td>\n      <td>True</td>\n      <td>True</td>\n      <td>True</td>\n      <td>5.0</td>\n      <td>2</td>\n      <td>0</td>\n      <td>0</td>\n      <td>...</td>\n      <td>0</td>\n      <td>0</td>\n      <td>0</td>\n      <td>0</td>\n      <td>0</td>\n      <td>0</td>\n      <td>0</td>\n      <td>0</td>\n      <td>1</td>\n      <td>0</td>\n    </tr>\n    <tr>\n      <th>89</th>\n      <td>90</td>\n      <td>3681.000000</td>\n      <td>1</td>\n      <td>True</td>\n      <td>False</td>\n      <td>True</td>\n      <td>5.0</td>\n      <td>0</td>\n      <td>0</td>\n      <td>0</td>\n      <td>...</td>\n      <td>0</td>\n      <td>0</td>\n      <td>0</td>\n      <td>0</td>\n      <td>0</td>\n      <td>0</td>\n      <td>0</td>\n      <td>0</td>\n      <td>0</td>\n      <td>1</td>\n    </tr>\n  </tbody>\n</table>\n<p>90 rows \u00d7 80 columns</p>\n</div>"
                    },
                    "metadata": {}
                }
            ],
            "execution_count": 12
        },
        {
            "cell_type": "markdown",
            "source": "### TASK  8: Cast all numeric columns to `float64`\n",
            "metadata": {
                "cell_id": "2e516cc757e54746a05150cf14fc70b8",
                "deepnote_cell_height": 63.5,
                "deepnote_cell_type": "markdown"
            }
        },
        {
            "cell_type": "markdown",
            "source": "Now that our <code>features_one_hot</code> dataframe only contains numbers cast the entire dataframe to variable type <code>float64</code>\n",
            "metadata": {
                "cell_id": "3cabc784d04b4d76ade198aaa7d5229f",
                "deepnote_cell_height": 52.399993896484375,
                "deepnote_cell_type": "markdown"
            }
        },
        {
            "cell_type": "code",
            "source": "# HINT: use astype function\nfeatures_one_hot = features_one_hot.astype('float64')\n",
            "metadata": {
                "cell_id": "8936fc6b1c6f4aeb90bafcec4b273e64",
                "source_hash": "601bb671",
                "execution_start": 1661336961251,
                "execution_millis": 21,
                "deepnote_to_be_reexecuted": false,
                "deepnote_cell_type": "code"
            },
            "outputs": [],
            "execution_count": 13
        },
        {
            "cell_type": "markdown",
            "source": "We can now export it to a <b>CSV</b> for the next section,but to make the answers consistent, in the next lab we will provide data in a pre-selected date range.\n",
            "metadata": {
                "cell_id": "0b11f553be344ccfb18be7de958daa7b",
                "deepnote_cell_height": 74.80000305175781,
                "deepnote_cell_type": "markdown"
            }
        },
        {
            "cell_type": "markdown",
            "source": "<code>features_one_hot.to_csv('dataset_part\\_3.csv', index=False)</code>\n",
            "metadata": {
                "cell_id": "f99a6a28b6f441acb9fdd78433661547",
                "deepnote_cell_height": 52.399993896484375,
                "deepnote_cell_type": "markdown"
            }
        },
        {
            "cell_type": "code",
            "source": "features_one_hot.to_csv('dataset_part_3.csv', index=False)",
            "metadata": {
                "tags": [],
                "cell_id": "50722c183a8f4cbcb39837ac4c00bf93",
                "source_hash": "2fd2645f",
                "execution_start": 1661336961294,
                "execution_millis": 62,
                "deepnote_to_be_reexecuted": false,
                "deepnote_cell_type": "code"
            },
            "outputs": [],
            "execution_count": 14
        },
        {
            "cell_type": "markdown",
            "source": "## Authors\n",
            "metadata": {
                "cell_id": "9add7a1b12ac4fdda62c364989e63883",
                "deepnote_cell_height": 70,
                "deepnote_cell_type": "markdown"
            }
        },
        {
            "cell_type": "markdown",
            "source": "<a href=\"https://www.linkedin.com/in/joseph-s-50398b136/?utm_medium=Exinfluencer&utm_source=Exinfluencer&utm_content=000026UJ&utm_term=10006555&utm_id=NA-SkillsNetwork-Channel-SkillsNetworkCoursesIBMDS0321ENSkillsNetwork26802033-2022-01-01\">Joseph Santarcangelo</a> has a PhD in Electrical Engineering, his research focused on using machine learning, signal processing, and computer vision to determine how videos impact human cognition. Joseph has been working for IBM since he completed his PhD.\n",
            "metadata": {
                "cell_id": "4427bb8d3353436e8d1687dbc95a38c4",
                "deepnote_cell_height": 97.19999694824219,
                "deepnote_cell_type": "markdown"
            }
        },
        {
            "cell_type": "markdown",
            "source": "<a href=\"https://www.linkedin.com/in/nayefaboutayoun/?utm_medium=Exinfluencer&utm_source=Exinfluencer&utm_content=000026UJ&utm_term=10006555&utm_id=NA-SkillsNetwork-Channel-SkillsNetworkCoursesIBMDS0321ENSkillsNetwork26802033-2022-01-01\">Nayef Abou Tayoun</a> is a Data Scientist at IBM and pursuing a Master of Management in Artificial intelligence degree at Queen's University.\n",
            "metadata": {
                "cell_id": "ba2ecaeeffa74c2fa821d9721f248158",
                "deepnote_cell_height": 74.80000305175781,
                "deepnote_cell_type": "markdown"
            }
        },
        {
            "cell_type": "markdown",
            "source": "## Change Log\n",
            "metadata": {
                "cell_id": "9e00ffeb91db4eb88935e62de35d8ec3",
                "deepnote_cell_height": 70,
                "deepnote_cell_type": "markdown"
            }
        },
        {
            "cell_type": "markdown",
            "source": "| Date (YYYY-MM-DD) | Version | Changed By    | Change Description      |\n| ----------------- | ------- | ------------- | ----------------------- |\n| 2021-10-12        | 1.1     | Lakshmi Holla | Modified markdown       |\n| 2020-09-20        | 1.0     | Joseph        | Modified Multiple Areas |\n| 2020-11-10        | 1.1     | Nayef         | updating the input data |\n",
            "metadata": {
                "cell_id": "7dfff326aa054201a9c1c7230816b946",
                "deepnote_cell_height": 127.60000610351562,
                "deepnote_cell_type": "markdown"
            }
        },
        {
            "cell_type": "markdown",
            "source": "Copyright \u00a9 2020 IBM Corporation. All rights reserved.\n",
            "metadata": {
                "cell_id": "60b17a1c7ad64026a65b1b29e0d5a3eb",
                "deepnote_cell_height": 52.399993896484375,
                "deepnote_cell_type": "markdown"
            }
        },
        {
            "cell_type": "markdown",
            "source": "<a style='text-decoration:none;line-height:16px;display:flex;color:#5B5B62;padding:10px;justify-content:end;' href='https://deepnote.com?utm_source=created-in-deepnote-cell&projectId=14ebf4f1-01dc-4c28-9028-0c09bfdc8087' target=\"_blank\">\n<img alt='Created in deepnote.com' style='display:inline;max-height:16px;margin:0px;margin-right:7.5px;' src='data:image/svg+xml;base64,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' > </img>\nCreated in <span style='font-weight:600;margin-left:4px;'>Deepnote</span></a>",
            "metadata": {
                "tags": [],
                "created_in_deepnote_cell": true,
                "deepnote_cell_type": "markdown"
            }
        }
    ],
    "nbformat": 4,
    "nbformat_minor": 0,
    "metadata": {
        "deepnote": {},
        "kernelspec": {
            "name": "python3",
            "language": "python",
            "display_name": "Python 3"
        },
        "language_info": {
            "name": "python",
            "version": "3.8.8",
            "mimetype": "text/x-python",
            "file_extension": ".py",
            "pygments_lexer": "ipython3",
            "codemirror_mode": {
                "name": "ipython",
                "version": 3
            },
            "nbconvert_exporter": "python"
        },
        "deepnote_notebook_id": "5bd92347302641f384cba1af4afdace8",
        "deepnote_execution_queue": []
    }
}